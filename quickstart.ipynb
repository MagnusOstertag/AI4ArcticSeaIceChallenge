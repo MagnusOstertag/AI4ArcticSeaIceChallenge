{
 "cells": [
  {
   "cell_type": "markdown",
   "id": "0c461fb7-78b9-4201-847e-2e11c8f599ff",
   "metadata": {
    "tags": []
   },
   "source": [
    "# Quick start guide\n",
    "This notebook serves as an example of how to train a simple model using pytorch and the ready-to-train AI4Arctic challenge dataset. Initially, a dictionary, 'train_options', is set up with relevant options for both the example U-Net Convolutional Neural Network model and the dataloader. Note that the weights of the U-Net will be initialised at random and therefore not deterministic - results will vary for every training run. Two lists (dataset.json and testset.json) include the names of the scenes relevant to training and testing, where the former can be altered if desired. Training data is loaded in parallel using the build-in torch Dataset and Dataloader classes, and works by randomly sampling a scene and performing a random crop to extract a patch. Each batch will then be compiled of X number of these patches with the patch size in the 'train_options'. An obstacle is different grid resolution sizes, which is overcome by upsampling low resolution variables, e.g. AMSR2, ERA5, to match the SAR pixels. A number of batches will be prepared in parallel and stored until use, depending on the number of workers (processes) spawned (this can be changed in 'num_workers' in 'train_options'). The model is trained on a fixed number of steps according to the number of batches in an epoch, defined by the 'epoch_len' parameter, and will run for a total number of epochs depending on the 'epochs' parameter. After each epoch, the model is evaluated. In this example, a random number of scenes are sampled among the training scenes (and removed from the list of training scenes) to act as a validation set used for the evaluation. The model is evaluated with the metrics, and if the current validation attempt is superior to the previous, then the model parameters are stored in the 'best_model' file in the directory.\n",
    "\n",
    "The models are scored on the three sea ice parameters; Sea Ice Concentration (SIC), Stage of Development (SOD) and the Floe size (FLOE) with the $R²$ metric for the SIC, and the weighted F1 metric for the SOD and FLOE. The 3 scores are combined into a single metric by taking the weighted average with SIC and SOD being weighted with 2 and the FLOE with 1.\n",
    "\n",
    "Finally, once you are ready to test your model on the test scenes (without reference data), the 'test_upload' notebook will produce model outputs with your model of choice and save the output as a netCDF file, which can be uploaded to the AI4EO.eu website. The model outputs will be evaluated and then you will receive a score. \n",
    "\n",
    "This quick start notebook is by no means necessary to utilize, and you are more than welcome to develop your own data pipeline. We do however require that the model output is stored in a netcdf file with xarray.dataarrays titled '{scene_name}_{chart}', i.e. 3 charts per scene / file (see how in 'test_upload'). In addition, you are more than welcome to create your own preprocessing scheme to prepare the raw AI4Arctic challenge dataset. However, we ask that the model output is in 80 m pixel spacing (original is 40 m), and that you follow the class numberings from the lookup tables in 'utils' - at least you will be evaluated in this way. Furthermore, we have included a function to convert the polygon_icechart to SIC, SOD and FLOE, you will have to incorporate it yourself.\n",
    "\n",
    "The first cell imports the necessary Python packages, initializes the 'train_options' dictionary, the sample U-Net options, loads the dataset list and select validation scenes."
   ]
  },
  {
   "cell_type": "code",
   "execution_count": 2,
   "id": "44a8d5a8-674a-42b3-9789-2a04818fa860",
   "metadata": {},
   "outputs": [],
   "source": [
    "# -- Built-in modules -- #\n",
    "import gc\n",
    "import os\n",
    "import sys\n",
    "\n",
    "# -- Environmental variables -- #\n",
    "#os.environ['AI4ARCTIC_DATA'] = ''  # Fill in directory for data location.\n",
    "#os.environ['AI4ARCTIC_ENV'] = ''  # Fill in directory for environment with Ai4Arctic get-started package. \n"
   ]
  },
  {
   "cell_type": "code",
   "execution_count": 4,
   "id": "b24327d8-bd3e-4a27-9816-c7de8f1b26ed",
   "metadata": {},
   "outputs": [
    {
     "name": "stdout",
     "output_type": "stream",
     "text": [
      "/cache/ai4arctic2022/asid3_challenge_data_prep/\n",
      "environ({'SHELL': '/bin/bash', 'NVIDIA_VISIBLE_DEVICES': 'all', 'KUBERNETES_SERVICE_PORT_HTTPS': '443', 'MLFLOW_B94AD1BA_1D5E_4364_881B_D9ADC9064226_PORT_80_TCP_PORT': '80', 'MLFLOW_418974FE_C77F_41E8_ABA2_ADBCD426A9CF_PORT_80_TCP': 'tcp://172.20.41.116:80', 'MLFLOW_B70AF4AD_FF6E_46BB_83BC_D4B7651B2A47_PORT_80_TCP_PORT': '80', 'MLFLOW_EE3104D0_2718_4015_938D_F042E4426B06_SERVICE_HOST': '172.20.114.74', 'JUPYTERHUB_ADMIN_ACCESS': '1', 'MLFLOW_088DC101_03F4_4AAB_AD66_39D5377A7AAA_SERVICE_PORT_HTTP': '80', 'MLFLOW_98B7B842_CE8A_4C98_AFE9_06881D29CCF7_SERVICE_PORT': '80', 'MLFLOW_708F7831_7A58_4B62_B09F_32B6B29099CD_PORT_80_TCP': 'tcp://172.20.50.165:80', 'KUBERNETES_SERVICE_PORT': '443', 'NBVIEWER_PORT_8080_TCP': 'tcp://172.20.14.162:8080', 'MLFLOW_AEEB12B0_514D_45C8_9206_6AF134187C47_SERVICE_HOST': '172.20.15.81', 'VOLUME_NFS_PORT_2049_TCP': 'tcp://172.20.203.80:2049', 'MLFLOW_A19682E0_9B3A_4017_BE2B_6537A8D263EE_PORT': 'tcp://172.20.102.174:80', 'MLFLOW_B70AF4AD_FF6E_46BB_83BC_D4B7651B2A47_PORT_80_TCP': 'tcp://172.20.41.56:80', 'MLFLOW_82CA26FC_18DE_4779_B140_6760ADF5651D_SERVICE_HOST': '172.20.204.191', 'MLFLOW_6618E21A_300D_402E_B64C_F927E20CA022_SERVICE_PORT': '80', 'VOLUME_NFS_PORT': 'tcp://172.20.203.80:2049', 'CONDA_EXE': '/opt/conda/bin/conda', 'NSS_WRAPPER_GROUP': '/tmp/group', '_CE_M': '', 'NOTEBOOK_VIEW_PORT_80_TCP_PROTO': 'tcp', 'MLFLOW_CDC5AEEE_5521_4731_9488_6586A4322C90_PORT': 'tcp://172.20.255.96:80', 'MLFLOW_CF6C8692_505F_48B0_BF45_44209F59CD4C_PORT_80_TCP': 'tcp://172.20.25.81:80', 'MLFLOW_E7E41D87_73DF_4340_960C_BEFC0B68153C_SERVICE_PORT': '80', 'MLFLOW_9D913CFF_F31F_4651_B876_5B235C821A5C_SERVICE_HOST': '172.20.199.106', 'MLFLOW_D75F1E2E_11B3_4A46_B0BF_D6EAB68C0B2C_SERVICE_PORT_HTTP': '80', 'MLFLOW_6E6098A4_5B84_449A_95B9_31CBD8AB9862_PORT_80_TCP_PORT': '80', 'MLFLOW_98B7B842_CE8A_4C98_AFE9_06881D29CCF7_PORT_80_TCP_PROTO': 'tcp', 'MLFLOW_A19682E0_9B3A_4017_BE2B_6537A8D263EE_PORT_80_TCP_PROTO': 'tcp', 'MLFLOW_088DC101_03F4_4AAB_AD66_39D5377A7AAA_PORT': 'tcp://172.20.178.94:80', 'MLFLOW_43758682_958F_4A82_A7D6_60FF914C5C94_PORT_80_TCP': 'tcp://172.20.62.210:80', 'MLFLOW_3761126D_F86B_4767_8A6F_F0CB7AAD7446_PORT_80_TCP_PORT': '80', 'HOSTNAME': 'jupyter-user4-9d913cff-2df31f-2d4651-2db876-2d5b235c821a5c', 'MAMBAFORGE_SHA256': '412b79330e90e49cf7e39a7b6f4752970fcdb8eb54b1a45cc91afe6777e8518c', 'MLFLOW_3761126D_F86B_4767_8A6F_F0CB7AAD7446_PORT_80_TCP_PROTO': 'tcp', 'MLFLOW_6618E21A_300D_402E_B64C_F927E20CA022_PORT_80_TCP_PORT': '80', 'MLFLOW_CF6C8692_505F_48B0_BF45_44209F59CD4C_PORT_80_TCP_ADDR': '172.20.25.81', 'MLFLOW_2A3AC7AA_A28C_470F_9AEA_B7E73D56F241_SERVICE_PORT': '80', 'MLFLOW_6E6098A4_5B84_449A_95B9_31CBD8AB9862_SERVICE_HOST': '172.20.52.192', 'MAMBAFORGE_VERSION': '4.13.0-1', 'JUPYTERHUB_API_TOKEN': 'f005fa41abc24713bb9a5dd7ffb3a849', 'MLFLOW_680E465C_76A1_43E9_AA2C_25B4433455EB_PORT_80_TCP_PORT': '80', 'MLFLOW_AEEB12B0_514D_45C8_9206_6AF134187C47_PORT': 'tcp://172.20.15.81:80', 'NVIDIA_REQUIRE_CUDA': 'cuda>=11.7 brand=tesla,driver>=450,driver<451 brand=tesla,driver>=470,driver<471 brand=unknown,driver>=470,driver<471 brand=nvidia,driver>=470,driver<471 brand=nvidiartx,driver>=470,driver<471 brand=geforce,driver>=470,driver<471 brand=geforcertx,driver>=470,driver<471 brand=quadro,driver>=470,driver<471 brand=quadrortx,driver>=470,driver<471 brand=titan,driver>=470,driver<471 brand=titanrtx,driver>=470,driver<471 brand=unknown,driver>=510,driver<511 brand=nvidia,driver>=510,driver<511 brand=nvidiartx,driver>=510,driver<511 brand=quadro,driver>=510,driver<511 brand=quadrortx,driver>=510,driver<511 brand=titan,driver>=510,driver<511 brand=titanrtx,driver>=510,driver<511 brand=geforce,driver>=510,driver<511 brand=geforcertx,driver>=510,driver<511', 'MLFLOW_2EC5E5B5_48E3_4C1E_9A04_E80D8D6145E3_PORT_80_TCP_PROTO': 'tcp', 'MLFLOW_43758682_958F_4A82_A7D6_60FF914C5C94_SERVICE_HOST': '172.20.62.210', 'MLFLOW_98B7B842_CE8A_4C98_AFE9_06881D29CCF7_PORT_80_TCP_ADDR': '172.20.205.8', 'NVIDIA_PATH': '/usr/local/nvidia/bin', 'CATALOG_NAME': 'autoice', 'MLFLOW_E7E41D87_73DF_4340_960C_BEFC0B68153C_PORT_80_TCP_PROTO': 'tcp', 'MLFLOW_82CA26FC_18DE_4779_B140_6760ADF5651D_SERVICE_PORT_HTTP': '80', 'MLFLOW_708F7831_7A58_4B62_B09F_32B6B29099CD_SERVICE_PORT_HTTP': '80', 'JUPYTERHUB_BASE_URL': '/', 'MLFLOW_AEEB12B0_514D_45C8_9206_6AF134187C47_SERVICE_PORT': '80', 'CATALOG_URL': '/services/eoxhub-gateway/autoice/notebook-view/', 'MLFLOW_A19682E0_9B3A_4017_BE2B_6537A8D263EE_PORT_80_TCP_PORT': '80', 'MLFLOW_631CA182_8F25_489D_8D7D_42C14C895A72_PORT_80_TCP': 'tcp://172.20.252.177:80', 'MLFLOW_8F59CCD5_B69E_44BF_B32A_467CA5DC28D9_PORT_80_TCP_ADDR': '172.20.142.21', 'AUTOICE_FRONTEND_PORT_80_TCP_ADDR': '172.20.123.6', 'MLFLOW_E7E41D87_73DF_4340_960C_BEFC0B68153C_PORT_80_TCP_PORT': '80', 'VOLUME_NFS_PORT_111_TCP_PROTO': 'tcp', 'VOLUME_NFS_PORT_20048_TCP': 'tcp://172.20.203.80:20048', 'NBVIEWER_PORT_8080_TCP_PORT': '8080', 'MLFLOW_418974FE_C77F_41E8_ABA2_ADBCD426A9CF_PORT': 'tcp://172.20.41.116:80', 'MLFLOW_631CA182_8F25_489D_8D7D_42C14C895A72_PORT_80_TCP_PORT': '80', 'NOTEBOOK_VIEW_PORT_80_TCP_PORT': '80', 'MLFLOW_2EC5E5B5_48E3_4C1E_9A04_E80D8D6145E3_PORT_80_TCP_PORT': '80', 'NSS_WRAPPER_PASSWD': '/tmp/passwd', 'MLFLOW_CDC5AEEE_5521_4731_9488_6586A4322C90_SERVICE_PORT_HTTP': '80', 'MLFLOW_82CA26FC_18DE_4779_B140_6760ADF5651D_PORT_80_TCP_ADDR': '172.20.204.191', 'MEM_LIMIT': '64424509440', 'NB_UMASK': '0002', 'MLFLOW_B94AD1BA_1D5E_4364_881B_D9ADC9064226_SERVICE_HOST': '172.20.40.241', 'NBVIEWER_PORT': 'tcp://172.20.14.162:8080', 'MLFLOW_CF6C8692_505F_48B0_BF45_44209F59CD4C_PORT_80_TCP_PORT': '80', 'MLFLOW_2A3AC7AA_A28C_470F_9AEA_B7E73D56F241_PORT_80_TCP_PORT': '80', 'MLFLOW_CD03EB51_89AD_4366_B636_523AAF43E16A_SERVICE_PORT': '80', 'MLFLOW_B70AF4AD_FF6E_46BB_83BC_D4B7651B2A47_SERVICE_PORT_HTTP': '80', 'MLFLOW_2A3AC7AA_A28C_470F_9AEA_B7E73D56F241_SERVICE_PORT_HTTP': '80', 'PWD': '/home/9d913cff-f31f-4651-b876-5b235c821a5c/AI4ArcticSeaIceChallenge', 'MLFLOW_A19682E0_9B3A_4017_BE2B_6537A8D263EE_SERVICE_HOST': '172.20.102.174', 'MLFLOW_EE3104D0_2718_4015_938D_F042E4426B06_PORT_80_TCP_PORT': '80', 'VOLUME_NFS_PORT_20048_TCP_PROTO': 'tcp', 'MLFLOW_9D913CFF_F31F_4651_B876_5B235C821A5C_PORT_80_TCP_PORT': '80', 'CONDA_PREFIX': '/home/conda/autoice/envs/autoice-torch_v1', 'MLFLOW_088DC101_03F4_4AAB_AD66_39D5377A7AAA_SERVICE_PORT': '80', 'MLFLOW_AEEB12B0_514D_45C8_9206_6AF134187C47_PORT_80_TCP_PORT': '80', 'MLFLOW_CD03EB51_89AD_4366_B636_523AAF43E16A_SERVICE_PORT_HTTP': '80', 'NVIDIA_DRIVER_CAPABILITIES': 'compute,utility', 'VOLUME_NFS_PORT_111_TCP_ADDR': '172.20.203.80', 'AI4ARCTIC_CHALLENGE': '~/.shared/autoice/AI4ArcticSeaIceChallenge/', 'MLFLOW_E7E41D87_73DF_4340_960C_BEFC0B68153C_PORT': 'tcp://172.20.80.67:80', 'MLFLOW_707BC523_C7C6_4FC2_BF17_95A95AF0817F_PORT_80_TCP': 'tcp://172.20.169.45:80', 'MLFLOW_B94AD1BA_1D5E_4364_881B_D9ADC9064226_SERVICE_PORT': '80', 'MEM_GUARANTEE': '60129542144', 'MLFLOW_3761126D_F86B_4767_8A6F_F0CB7AAD7446_SERVICE_PORT': '80', 'MLFLOW_CDC5AEEE_5521_4731_9488_6586A4322C90_PORT_80_TCP_PROTO': 'tcp', 'MLFLOW_088DC101_03F4_4AAB_AD66_39D5377A7AAA_SERVICE_HOST': '172.20.178.94', 'JUPYTER_IMAGE': '527538141574.dkr.ecr.eu-central-1.amazonaws.com/eoxhub-jupyterlab:2022.12-01', 'AUTOICE_FRONTEND_SERVICE_PORT': '80', 'MLFLOW_8F59CCD5_B69E_44BF_B32A_467CA5DC28D9_SERVICE_PORT': '80', 'MLFLOW_43758682_958F_4A82_A7D6_60FF914C5C94_SERVICE_PORT': '80', 'MLFLOW_82CA26FC_18DE_4779_B140_6760ADF5651D_PORT_80_TCP_PORT': '80', 'MLFLOW_AEEB12B0_514D_45C8_9206_6AF134187C47_SERVICE_PORT_HTTP': '80', 'MLFLOW_EE3104D0_2718_4015_938D_F042E4426B06_PORT': 'tcp://172.20.114.74:80', 'TZ': 'UTC', 'MLFLOW_708F7831_7A58_4B62_B09F_32B6B29099CD_PORT': 'tcp://172.20.50.165:80', 'VOLUME_NFS_SERVICE_HOST': '172.20.203.80', 'MLFLOW_B94AD1BA_1D5E_4364_881B_D9ADC9064226_SERVICE_PORT_HTTP': '80', 'MLFLOW_2EC5E5B5_48E3_4C1E_9A04_E80D8D6145E3_SERVICE_PORT_HTTP': '80', 'MLFLOW_707BC523_C7C6_4FC2_BF17_95A95AF0817F_PORT_80_TCP_ADDR': '172.20.169.45', 'VOLUME_NFS_PORT_2049_TCP_PROTO': 'tcp', 'JUPYTERHUB_SERVER_NAME': '', 'MLFLOW_D75F1E2E_11B3_4A46_B0BF_D6EAB68C0B2C_PORT_80_TCP_PORT': '80', 'MLFLOW_CF6C8692_505F_48B0_BF45_44209F59CD4C_SERVICE_HOST': '172.20.25.81', 'MLFLOW_82CA26FC_18DE_4779_B140_6760ADF5651D_PORT': 'tcp://172.20.204.191:80', 'LD_PRELOAD': 'libnss_wrapper.so', 'NV_CUDA_CUDART_VERSION': '11.7.60-1', 'MLFLOW_43758682_958F_4A82_A7D6_60FF914C5C94_PORT_80_TCP_PORT': '80', 'HOME': '/home/9d913cff-f31f-4651-b876-5b235c821a5c', 'NOTEBOOK_VIEW_PORT_80_TCP_ADDR': '172.20.54.97', 'MLFLOW_418974FE_C77F_41E8_ABA2_ADBCD426A9CF_PORT_80_TCP_PORT': '80', 'VOLUME_NFS_PORT_20048_TCP_ADDR': '172.20.203.80', 'LANG': 'C.UTF-8', 'MLFLOW_418974FE_C77F_41E8_ABA2_ADBCD426A9CF_SERVICE_PORT': '80', 'MLFLOW_CF6C8692_505F_48B0_BF45_44209F59CD4C_SERVICE_PORT_HTTP': '80', 'AUTOICE_FRONTEND_PORT': 'tcp://172.20.123.6:80', 'MLFLOW_8F59CCD5_B69E_44BF_B32A_467CA5DC28D9_PORT': 'tcp://172.20.142.21:80', 'KUBERNETES_PORT_443_TCP': 'tcp://172.20.0.1:443', 'MLFLOW_43758682_958F_4A82_A7D6_60FF914C5C94_PORT_80_TCP_ADDR': '172.20.62.210', 'MLFLOW_6618E21A_300D_402E_B64C_F927E20CA022_SERVICE_HOST': '172.20.48.108', 'VOLUME_NFS_PORT_2049_TCP_PORT': '2049', 'MLFLOW_6E6098A4_5B84_449A_95B9_31CBD8AB9862_SERVICE_PORT': '80', 'JPY_API_TOKEN': 'f005fa41abc24713bb9a5dd7ffb3a849', 'AI4ARCTIC_DATA': '/cache/ai4arctic2022/asid3_challenge_data_prep/', 'MLFLOW_43758682_958F_4A82_A7D6_60FF914C5C94_PORT_80_TCP_PROTO': 'tcp', 'MLFLOW_2A3AC7AA_A28C_470F_9AEA_B7E73D56F241_PORT_80_TCP_PROTO': 'tcp', 'MLFLOW_B94AD1BA_1D5E_4364_881B_D9ADC9064226_PORT': 'tcp://172.20.40.241:80', 'NBVIEWER_PORT_8080_TCP_PROTO': 'tcp', 'CUDA_VERSION': '11.7.0', 'MLFLOW_680E465C_76A1_43E9_AA2C_25B4433455EB_PORT_80_TCP_PROTO': 'tcp', 'MLFLOW_6E6098A4_5B84_449A_95B9_31CBD8AB9862_PORT': 'tcp://172.20.52.192:80', 'NBVIEWER_SERVICE_PORT': '8080', 'MLFLOW_9D913CFF_F31F_4651_B876_5B235C821A5C_PORT_80_TCP': 'tcp://172.20.199.106:80', 'MLFLOW_088DC101_03F4_4AAB_AD66_39D5377A7AAA_PORT_80_TCP': 'tcp://172.20.178.94:80', 'MLFLOW_680E465C_76A1_43E9_AA2C_25B4433455EB_SERVICE_PORT': '80', 'MLFLOW_CD03EB51_89AD_4366_B636_523AAF43E16A_PORT_80_TCP_PORT': '80', 'MLFLOW_82CA26FC_18DE_4779_B140_6760ADF5651D_PORT_80_TCP': 'tcp://172.20.204.191:80', 'CONDA_PROMPT_MODIFIER': '(autoice-torch_v1) ', 'MLFLOW_6618E21A_300D_402E_B64C_F927E20CA022_SERVICE_PORT_HTTP': '80', 'JUPYTERHUB_SERVICE_PREFIX': '/user/9d913cff-f31f-4651-b876-5b235c821a5c/', 'MLFLOW_AEEB12B0_514D_45C8_9206_6AF134187C47_PORT_80_TCP_ADDR': '172.20.15.81', 'MLFLOW_708F7831_7A58_4B62_B09F_32B6B29099CD_SERVICE_PORT': '80', 'JUPYTERHUB_OAUTH_CALLBACK_URL': '/user/9d913cff-f31f-4651-b876-5b235c821a5c/oauth_callback', 'PREFERRED_USERNAME': '9d913cff-f31f-4651-b876-5b235c821a5c', 'MLFLOW_2EC5E5B5_48E3_4C1E_9A04_E80D8D6145E3_PORT_80_TCP_ADDR': '172.20.4.11', 'CPL_ZIP_ENCODING': 'UTF-8', 'MLFLOW_D75F1E2E_11B3_4A46_B0BF_D6EAB68C0B2C_PORT_80_TCP_ADDR': '172.20.64.131', 'MLFLOW_6E6098A4_5B84_449A_95B9_31CBD8AB9862_SERVICE_PORT_HTTP': '80', 'VOLUME_NFS_SERVICE_PORT_MOUNTD': '20048', 'MLFLOW_6618E21A_300D_402E_B64C_F927E20CA022_PORT_80_TCP_ADDR': '172.20.48.108', 'NOTEBOOK_VIEW_PORT_80_TCP': 'tcp://172.20.54.97:80', 'MLFLOW_088DC101_03F4_4AAB_AD66_39D5377A7AAA_PORT_80_TCP_PORT': '80', 'VOLUME_NFS_SERVICE_PORT': '2049', 'MLFLOW_BACKEND_STORE_PATH': '~/.mlflow.sqlite', 'MLFLOW_631CA182_8F25_489D_8D7D_42C14C895A72_SERVICE_HOST': '172.20.252.177', 'MLFLOW_631CA182_8F25_489D_8D7D_42C14C895A72_SERVICE_PORT': '80', 'MLFLOW_B94AD1BA_1D5E_4364_881B_D9ADC9064226_PORT_80_TCP_ADDR': '172.20.40.241', 'MLFLOW_631CA182_8F25_489D_8D7D_42C14C895A72_PORT': 'tcp://172.20.252.177:80', 'MLFLOW_6618E21A_300D_402E_B64C_F927E20CA022_PORT_80_TCP': 'tcp://172.20.48.108:80', 'MLFLOW_A19682E0_9B3A_4017_BE2B_6537A8D263EE_PORT_80_TCP_ADDR': '172.20.102.174', 'MLFLOW_707BC523_C7C6_4FC2_BF17_95A95AF0817F_PORT_80_TCP_PORT': '80', 'MLFLOW_2EC5E5B5_48E3_4C1E_9A04_E80D8D6145E3_PORT': 'tcp://172.20.4.11:80', 'MLFLOW_708F7831_7A58_4B62_B09F_32B6B29099CD_SERVICE_HOST': '172.20.50.165', 'AUTOICE_FRONTEND_SERVICE_PORT_HTTP': '80', 'MLFLOW_8F59CCD5_B69E_44BF_B32A_467CA5DC28D9_SERVICE_PORT_HTTP': '80', 'MLFLOW_708F7831_7A58_4B62_B09F_32B6B29099CD_PORT_80_TCP_ADDR': '172.20.50.165', 'JUPYTER_IMAGE_SPEC': '527538141574.dkr.ecr.eu-central-1.amazonaws.com/eoxhub-jupyterlab:2022.12-01', 'JPY_PARENT_PID': '1', 'MLFLOW_82CA26FC_18DE_4779_B140_6760ADF5651D_SERVICE_PORT': '80', 'MLFLOW_6E6098A4_5B84_449A_95B9_31CBD8AB9862_PORT_80_TCP': 'tcp://172.20.52.192:80', 'MLFLOW_82CA26FC_18DE_4779_B140_6760ADF5651D_PORT_80_TCP_PROTO': 'tcp', 'NBVIEWER_SERVICE_PORT_HTTP': '8080', 'MLFLOW_98B7B842_CE8A_4C98_AFE9_06881D29CCF7_SERVICE_PORT_HTTP': '80', 'MLFLOW_3761126D_F86B_4767_8A6F_F0CB7AAD7446_SERVICE_HOST': '172.20.218.229', 'MLFLOW_CDC5AEEE_5521_4731_9488_6586A4322C90_PORT_80_TCP': 'tcp://172.20.255.96:80', 'MLFLOW_631CA182_8F25_489D_8D7D_42C14C895A72_PORT_80_TCP_PROTO': 'tcp', 'NOTEBOOK_VIEW_SERVICE_HOST': '172.20.54.97', 'MLFLOW_CD03EB51_89AD_4366_B636_523AAF43E16A_PORT': 'tcp://172.20.242.99:80', 'MLFLOW_3761126D_F86B_4767_8A6F_F0CB7AAD7446_PORT_80_TCP': 'tcp://172.20.218.229:80', '_CE_CONDA': '', 'VOLUME_NFS_SERVICE_PORT_RPCBIND': '111', 'MLFLOW_418974FE_C77F_41E8_ABA2_ADBCD426A9CF_SERVICE_HOST': '172.20.41.116', 'MLFLOW_631CA182_8F25_489D_8D7D_42C14C895A72_SERVICE_PORT_HTTP': '80', 'MLFLOW_A19682E0_9B3A_4017_BE2B_6537A8D263EE_SERVICE_PORT_HTTP': '80', 'MLFLOW_9D913CFF_F31F_4651_B876_5B235C821A5C_SERVICE_PORT': '80', 'MLFLOW_6618E21A_300D_402E_B64C_F927E20CA022_PORT_80_TCP_PROTO': 'tcp', 'EDC_PATH': '/home/9d913cff-f31f-4651-b876-5b235c821a5c/.shared/notebooks/eurodatacube', 'MLFLOW_B70AF4AD_FF6E_46BB_83BC_D4B7651B2A47_SERVICE_PORT': '80', 'MLFLOW_418974FE_C77F_41E8_ABA2_ADBCD426A9CF_PORT_80_TCP_PROTO': 'tcp', 'MLFLOW_CDC5AEEE_5521_4731_9488_6586A4322C90_PORT_80_TCP_PORT': '80', 'AUTOICE_FRONTEND_PORT_80_TCP': 'tcp://172.20.123.6:80', 'MLFLOW_8F59CCD5_B69E_44BF_B32A_467CA5DC28D9_PORT_80_TCP': 'tcp://172.20.142.21:80', 'MLFLOW_98B7B842_CE8A_4C98_AFE9_06881D29CCF7_PORT_80_TCP_PORT': '80', 'CONDA_SHLVL': '1', 'MLFLOW_8F59CCD5_B69E_44BF_B32A_467CA5DC28D9_PORT_80_TCP_PROTO': 'tcp', 'AUTOICE_FRONTEND_PORT_80_TCP_PROTO': 'tcp', 'MLFLOW_B70AF4AD_FF6E_46BB_83BC_D4B7651B2A47_PORT_80_TCP_ADDR': '172.20.41.56', 'MLFLOW_680E465C_76A1_43E9_AA2C_25B4433455EB_PORT': 'tcp://172.20.68.149:80', 'MLFLOW_2A3AC7AA_A28C_470F_9AEA_B7E73D56F241_PORT_80_TCP': 'tcp://172.20.110.62:80', 'MLFLOW_CD03EB51_89AD_4366_B636_523AAF43E16A_PORT_80_TCP': 'tcp://172.20.242.99:80', 'NOTEBOOK_VIEW_PORT': 'tcp://172.20.54.97:80', 'MLFLOW_3761126D_F86B_4767_8A6F_F0CB7AAD7446_SERVICE_PORT_HTTP': '80', 'MLFLOW_AEEB12B0_514D_45C8_9206_6AF134187C47_PORT_80_TCP': 'tcp://172.20.15.81:80', 'MLFLOW_2EC5E5B5_48E3_4C1E_9A04_E80D8D6145E3_SERVICE_HOST': '172.20.4.11', 'MLFLOW_D75F1E2E_11B3_4A46_B0BF_D6EAB68C0B2C_SERVICE_HOST': '172.20.64.131', 'MLFLOW_680E465C_76A1_43E9_AA2C_25B4433455EB_SERVICE_HOST': '172.20.68.149', 'MLFLOW_43758682_958F_4A82_A7D6_60FF914C5C94_PORT': 'tcp://172.20.62.210:80', 'MLFLOW_B94AD1BA_1D5E_4364_881B_D9ADC9064226_PORT_80_TCP_PROTO': 'tcp', 'MLFLOW_B70AF4AD_FF6E_46BB_83BC_D4B7651B2A47_SERVICE_HOST': '172.20.41.56', 'SHLVL': '0', 'MLFLOW_088DC101_03F4_4AAB_AD66_39D5377A7AAA_PORT_80_TCP_PROTO': 'tcp', 'MLFLOW_3761126D_F86B_4767_8A6F_F0CB7AAD7446_PORT': 'tcp://172.20.218.229:80', 'MLFLOW_CF6C8692_505F_48B0_BF45_44209F59CD4C_SERVICE_PORT': '80', 'MLFLOW_418974FE_C77F_41E8_ABA2_ADBCD426A9CF_SERVICE_PORT_HTTP': '80', 'CONDA_DIR': '/opt/conda', 'NVARCH': 'x86_64', 'KUBERNETES_PORT_443_TCP_PROTO': 'tcp', 'MLFLOW_CD03EB51_89AD_4366_B636_523AAF43E16A_PORT_80_TCP_ADDR': '172.20.242.99', 'MLFLOW_6E6098A4_5B84_449A_95B9_31CBD8AB9862_PORT_80_TCP_ADDR': '172.20.52.192', 'JUPYTERHUB_API_URL': 'http://hub.core.svc.cluster.local:8081/hub/api', 'PROJ_LIB': '/home/conda/autoice/envs/autoice-torch_v1/share/proj', 'MLFLOW_707BC523_C7C6_4FC2_BF17_95A95AF0817F_PORT_80_TCP_PROTO': 'tcp', 'BRAND': 'autoice', 'MLFLOW_98B7B842_CE8A_4C98_AFE9_06881D29CCF7_PORT': 'tcp://172.20.205.8:80', 'JUPYTERHUB_CLIENT_ID': 'jupyterhub-user-9d913cff-f31f-4651-b876-5b235c821a5c', 'MLFLOW_CDC5AEEE_5521_4731_9488_6586A4322C90_SERVICE_PORT': '80', 'MLFLOW_EE3104D0_2718_4015_938D_F042E4426B06_SERVICE_PORT_HTTP': '80', 'MLFLOW_707BC523_C7C6_4FC2_BF17_95A95AF0817F_SERVICE_PORT_HTTP': '80', 'MLFLOW_9D913CFF_F31F_4651_B876_5B235C821A5C_SERVICE_PORT_HTTP': '80', 'KUBERNETES_PORT_443_TCP_ADDR': '172.20.0.1', 'MLFLOW_418974FE_C77F_41E8_ABA2_ADBCD426A9CF_PORT_80_TCP_ADDR': '172.20.41.116', 'MLFLOW_3761126D_F86B_4767_8A6F_F0CB7AAD7446_PORT_80_TCP_ADDR': '172.20.218.229', 'JUPYTERHUB_HOST': '', 'NV_CUDA_COMPAT_PACKAGE': 'cuda-compat-11-7', 'DEFAULT_ENV': 'default', 'MLFLOW_D75F1E2E_11B3_4A46_B0BF_D6EAB68C0B2C_PORT_80_TCP_PROTO': 'tcp', 'NBVIEWER_SERVICE_HOST': '172.20.14.162', 'MLFLOW_2A3AC7AA_A28C_470F_9AEA_B7E73D56F241_PORT': 'tcp://172.20.110.62:80', 'MLFLOW_A19682E0_9B3A_4017_BE2B_6537A8D263EE_SERVICE_PORT': '80', 'MLFLOW_680E465C_76A1_43E9_AA2C_25B4433455EB_PORT_80_TCP_ADDR': '172.20.68.149', 'MLFLOW_D75F1E2E_11B3_4A46_B0BF_D6EAB68C0B2C_PORT_80_TCP': 'tcp://172.20.64.131:80', 'MLFLOW_708F7831_7A58_4B62_B09F_32B6B29099CD_PORT_80_TCP_PORT': '80', 'CONDA_PYTHON_EXE': '/opt/conda/bin/python', 'NOTEBOOK_VIEW_SERVICE_PORT': '80', 'LD_LIBRARY_PATH': '/usr/local/nvidia/lib64', 'MLFLOW_6E6098A4_5B84_449A_95B9_31CBD8AB9862_PORT_80_TCP_PROTO': 'tcp', 'MLFLOW_98B7B842_CE8A_4C98_AFE9_06881D29CCF7_SERVICE_HOST': '172.20.205.8', 'GIT_PYTHON_REFRESH': 'quiet', 'NBVIEWER_PORT_8080_TCP_ADDR': '172.20.14.162', 'MLFLOW_8F59CCD5_B69E_44BF_B32A_467CA5DC28D9_PORT_80_TCP_PORT': '80', 'AUTOICE_FRONTEND_PORT_80_TCP_PORT': '80', 'CONDA_DEFAULT_ENV': 'autoice-torch_v1', 'MLFLOW_B70AF4AD_FF6E_46BB_83BC_D4B7651B2A47_PORT': 'tcp://172.20.41.56:80', 'CPU_GUARANTEE': '0.75', 'MLFLOW_9D913CFF_F31F_4651_B876_5B235C821A5C_PORT': 'tcp://172.20.199.106:80', 'AUTOICE_FRONTEND_SERVICE_HOST': '172.20.123.6', 'MLFLOW_8F59CCD5_B69E_44BF_B32A_467CA5DC28D9_SERVICE_HOST': '172.20.142.21', 'MLFLOW_B70AF4AD_FF6E_46BB_83BC_D4B7651B2A47_PORT_80_TCP_PROTO': 'tcp', 'CPU_LIMIT': '15.0', 'MLFLOW_6618E21A_300D_402E_B64C_F927E20CA022_PORT': 'tcp://172.20.48.108:80', 'MLFLOW_A19682E0_9B3A_4017_BE2B_6537A8D263EE_PORT_80_TCP': 'tcp://172.20.102.174:80', 'MLFLOW_EE3104D0_2718_4015_938D_F042E4426B06_PORT_80_TCP': 'tcp://172.20.114.74:80', 'MLFLOW_E7E41D87_73DF_4340_960C_BEFC0B68153C_PORT_80_TCP': 'tcp://172.20.80.67:80', 'KUBERNETES_SERVICE_HOST': '172.20.0.1', 'EMAIL': 'antonius.scherer@gmail.com', 'VOLUME_NFS_PORT_2049_TCP_ADDR': '172.20.203.80', 'LC_ALL': 'C.UTF-8', 'MLFLOW_EE3104D0_2718_4015_938D_F042E4426B06_PORT_80_TCP_ADDR': '172.20.114.74', 'KUBERNETES_PORT': 'tcp://172.20.0.1:443', 'MLFLOW_EE3104D0_2718_4015_938D_F042E4426B06_PORT_80_TCP_PROTO': 'tcp', 'MLFLOW_2A3AC7AA_A28C_470F_9AEA_B7E73D56F241_PORT_80_TCP_ADDR': '172.20.110.62', 'KUBERNETES_PORT_443_TCP_PORT': '443', 'MLFLOW_43758682_958F_4A82_A7D6_60FF914C5C94_SERVICE_PORT_HTTP': '80', 'MLFLOW_CF6C8692_505F_48B0_BF45_44209F59CD4C_PORT_80_TCP_PROTO': 'tcp', 'MLFLOW_CF6C8692_505F_48B0_BF45_44209F59CD4C_PORT': 'tcp://172.20.25.81:80', 'MLFLOW_AEEB12B0_514D_45C8_9206_6AF134187C47_PORT_80_TCP_PROTO': 'tcp', 'MLFLOW_CD03EB51_89AD_4366_B636_523AAF43E16A_PORT_80_TCP_PROTO': 'tcp', 'MLFLOW_680E465C_76A1_43E9_AA2C_25B4433455EB_SERVICE_PORT_HTTP': '80', 'GDAL_DATA': '/home/conda/autoice/envs/autoice-torch_v1/share/gdal', 'VOLUME_NFS_SERVICE_PORT_NFS': '2049', 'PATH': '/home/conda/autoice/envs/autoice-torch_v1/bin:/opt/conda/condabin:/usr/local/nvidia/bin:/opt/conda/envs/default/share/code-server/bin:/opt/conda/envs/default/bin:/opt/conda/bin:/usr/local/nvidia/bin:/usr/local/cuda/bin:/usr/local/sbin:/usr/local/bin:/usr/sbin:/usr/bin:/sbin:/bin:/opt/scripts', 'MLFLOW_E7E41D87_73DF_4340_960C_BEFC0B68153C_SERVICE_HOST': '172.20.80.67', 'MLFLOW_2EC5E5B5_48E3_4C1E_9A04_E80D8D6145E3_PORT_80_TCP': 'tcp://172.20.4.11:80', 'MLFLOW_2EC5E5B5_48E3_4C1E_9A04_E80D8D6145E3_SERVICE_PORT': '80', 'MLFLOW_CD03EB51_89AD_4366_B636_523AAF43E16A_SERVICE_HOST': '172.20.242.99', 'MLFLOW_707BC523_C7C6_4FC2_BF17_95A95AF0817F_SERVICE_HOST': '172.20.169.45', 'MLFLOW_680E465C_76A1_43E9_AA2C_25B4433455EB_PORT_80_TCP': 'tcp://172.20.68.149:80', 'MLFLOW_707BC523_C7C6_4FC2_BF17_95A95AF0817F_SERVICE_PORT': '80', 'MLFLOW_088DC101_03F4_4AAB_AD66_39D5377A7AAA_PORT_80_TCP_ADDR': '172.20.178.94', 'MLFLOW_707BC523_C7C6_4FC2_BF17_95A95AF0817F_PORT': 'tcp://172.20.169.45:80', 'MLFLOW_E7E41D87_73DF_4340_960C_BEFC0B68153C_SERVICE_PORT_HTTP': '80', 'NOTEBOOK_VIEW_SERVICE_PORT_HTTP': '80', 'MLFLOW_CDC5AEEE_5521_4731_9488_6586A4322C90_PORT_80_TCP_ADDR': '172.20.255.96', 'JUPYTERHUB_USER': '9d913cff-f31f-4651-b876-5b235c821a5c', 'MLFLOW_98B7B842_CE8A_4C98_AFE9_06881D29CCF7_PORT_80_TCP': 'tcp://172.20.205.8:80', 'MLFLOW_CDC5AEEE_5521_4731_9488_6586A4322C90_SERVICE_HOST': '172.20.255.96', 'JUPYTERHUB_ACTIVITY_URL': 'http://hub.core.svc.cluster.local:8081/hub/api/users/9d913cff-f31f-4651-b876-5b235c821a5c/activity', 'MLFLOW_708F7831_7A58_4B62_B09F_32B6B29099CD_PORT_80_TCP_PROTO': 'tcp', 'MLFLOW_D75F1E2E_11B3_4A46_B0BF_D6EAB68C0B2C_SERVICE_PORT': '80', 'MLFLOW_9D913CFF_F31F_4651_B876_5B235C821A5C_PORT_80_TCP_PROTO': 'tcp', 'MLFLOW_2A3AC7AA_A28C_470F_9AEA_B7E73D56F241_SERVICE_HOST': '172.20.110.62', 'MLFLOW_E7E41D87_73DF_4340_960C_BEFC0B68153C_PORT_80_TCP_ADDR': '172.20.80.67', 'MLFLOW_631CA182_8F25_489D_8D7D_42C14C895A72_PORT_80_TCP_ADDR': '172.20.252.177', 'VOLUME_NFS_PORT_111_TCP': 'tcp://172.20.203.80:111', 'VOLUME_NFS_PORT_20048_TCP_PORT': '20048', 'MLFLOW_D75F1E2E_11B3_4A46_B0BF_D6EAB68C0B2C_PORT': 'tcp://172.20.64.131:80', 'PROJ_NETWORK': 'ON', 'MLFLOW_B94AD1BA_1D5E_4364_881B_D9ADC9064226_PORT_80_TCP': 'tcp://172.20.40.241:80', 'VOLUME_NFS_PORT_111_TCP_PORT': '111', 'MLFLOW_EE3104D0_2718_4015_938D_F042E4426B06_SERVICE_PORT': '80', 'MLFLOW_9D913CFF_F31F_4651_B876_5B235C821A5C_PORT_80_TCP_ADDR': '172.20.199.106', 'TERM': 'xterm-color', 'CLICOLOR': '1', 'PAGER': 'cat', 'GIT_PAGER': 'cat', 'MPLBACKEND': 'module://matplotlib_inline.backend_inline'})\n"
     ]
    }
   ],
   "source": [
    "print(os.environ['AI4ARCTIC_DATA'])\n",
    "print(os.environ)"
   ]
  },
  {
   "cell_type": "code",
   "execution_count": 3,
   "id": "c82d24f0-233b-41f9-95ef-af0cc0895800",
   "metadata": {
    "tags": []
   },
   "outputs": [
    {
     "name": "stdout",
     "output_type": "stream",
     "text": [
      "Stored 'train_options' (dict)\n",
      "Options initialised\n"
     ]
    }
   ],
   "source": [
    "# -- Third-part modules -- #\n",
    "import json\n",
    "import matplotlib.pyplot as plt\n",
    "import numpy as np\n",
    "import torch\n",
    "import xarray as xr\n",
    "from tqdm.notebook import tqdm  # Progress bar\n",
    "import mlflow\n",
    "import mlflow.pytorch\n",
    "\n",
    "# --Proprietary modules -- #\n",
    "from functions import chart_cbar, r2_metric, f1_metric, compute_metrics  # Functions to calculate metrics and show the relevant chart colorbar.\n",
    "from loaders import AI4ArcticChallengeDataset, AI4ArcticChallengeTestDataset, get_variable_options  # Custom dataloaders for regular training and validation.\n",
    "from unet import UNet  # Convolutional Neural Network model\n",
    "from utils import CHARTS, SIC_LOOKUP, SOD_LOOKUP, FLOE_LOOKUP, SCENE_VARIABLES, colour_str\n",
    "\n",
    "train_options = {\n",
    "    # -- Training options -- #\n",
    "    'path_to_processed_data': os.environ['AI4ARCTIC_DATA'],  # Replace with data directory path.\n",
    "    'path_to_env': '',  # Replace with environmment directory path.\n",
    "    'lr': 0.0001,  # Optimizer learning rate.\n",
    "    'epochs': 50,  # Number of epochs before training stop.\n",
    "    'epoch_len': 500,  # Number of batches for each epoch.\n",
    "    'patch_size': 256,  # Size of patches sampled. Used for both Width and Height.\n",
    "    'batch_size': 8,  # Number of patches for each batch.\n",
    "    'loader_upsampling': 'nearest',  # How to upscale low resolution variables to high resolution.\n",
    "    \n",
    "    # -- Data prepraration lookups and metrics.\n",
    "    'train_variables': SCENE_VARIABLES,  # Contains the relevant variables in the scenes.\n",
    "    'charts': CHARTS,  # Charts to train on.\n",
    "    'n_classes': {  # number of total classes in the reference charts, including the mask.\n",
    "        'SIC': SIC_LOOKUP['n_classes'],\n",
    "        'SOD': SOD_LOOKUP['n_classes'],\n",
    "        'FLOE': FLOE_LOOKUP['n_classes']\n",
    "    },\n",
    "    'pixel_spacing': 80,  # SAR pixel spacing. 80 for the ready-to-train AI4Arctic Challenge dataset.\n",
    "    'train_fill_value': 0,  # Mask value for SAR training data.\n",
    "    'class_fill_values': {  # Mask value for class/reference data.\n",
    "        'SIC': SIC_LOOKUP['mask'],\n",
    "        'SOD': SOD_LOOKUP['mask'],\n",
    "        'FLOE': FLOE_LOOKUP['mask'],\n",
    "    },\n",
    "    \n",
    "    # -- Validation options -- #\n",
    "    'chart_metric': {  # Metric functions for each ice parameter and the associated weight.\n",
    "        'SIC': {\n",
    "            'func': r2_metric,\n",
    "            'weight': 2,\n",
    "        },\n",
    "        'SOD': {\n",
    "            'func': f1_metric,\n",
    "            'weight': 2,\n",
    "        },\n",
    "        'FLOE': {\n",
    "            'func': f1_metric,\n",
    "            'weight': 1,\n",
    "        },\n",
    "    },\n",
    "    'num_val_scenes': 10,  # Number of scenes randomly sampled from train_list to use in validation.\n",
    "    \n",
    "    # -- GPU/cuda options -- #\n",
    "    'gpu_id': 0,  # Index of GPU. In case of multiple GPUs.\n",
    "    'num_workers': 6,  # Number of parallel processes to fetch data.\n",
    "    'num_workers_val': 1,  # Number of parallel processes during validation.\n",
    "    \n",
    "    # -- U-Net Options -- # now 3 lvls as in the paper\n",
    "    # DIFF:\n",
    "    # 1. run: 'unet_conv_filters': [16, 32, 32, 3],\n",
    "    'unet_conv_filters': [16, 32, 32, 32, 32, 32, 32, 32],     # Number of filters in the U-Net.\n",
    "    'conv_kernel_size': (3, 3),  # Size of convolutional kernels.\n",
    "    'conv_stride_rate': (1, 1),  # Stride rate of convolutional kernels.\n",
    "    'conv_dilation_rate': (1, 1),  # Dilation rate of convolutional kernels.\n",
    "    'conv_padding': (1, 1),  # Number of padded pixels in convolutional layers.\n",
    "    'conv_padding_style': 'zeros',  # Style of padding.\n",
    "}\n",
    "# Get options for variables, amsrenv grid, cropping and upsampling.\n",
    "get_variable_options = get_variable_options(train_options)\n",
    "# To be used in test_upload.\n",
    "%store train_options  \n",
    "\n",
    "# Load training list.\n",
    "with open(train_options['path_to_env'] + 'datalists/dataset.json') as file:\n",
    "    train_options['train_list'] = json.loads(file.read())\n",
    "# Convert the original scene names to the preprocessed names.\n",
    "train_options['train_list'] = [file[17:32] + '_' + file[77:80] + '_prep.nc' for file in train_options['train_list']]\n",
    "# Select a random number of validation scenes with the same seed. Feel free to change the seed.et\n",
    "np.random.seed(0)\n",
    "train_options['validate_list'] = np.random.choice(np.array(train_options['train_list']), size=train_options['num_val_scenes'], replace=False)\n",
    "# Remove the validation scenes from the train list.\n",
    "train_options['train_list'] = [scene for scene in train_options['train_list'] if scene not in train_options['validate_list']]\n",
    "print('Options initialised')\n"
   ]
  },
  {
   "cell_type": "markdown",
   "id": "74517e22-5636-4004-84c5-3cc416276054",
   "metadata": {
    "tags": []
   },
   "source": [
    "### CUDA / GPU Setup\n",
    "This sets up the 'device' variable containing GPU information, and the custom dataset and dataloader."
   ]
  },
  {
   "cell_type": "code",
   "execution_count": 4,
   "id": "26c3c79a-3f60-4ca3-a6e9-b967929a3c12",
   "metadata": {},
   "outputs": [
    {
     "name": "stdout",
     "output_type": "stream",
     "text": [
      "\u001b[0;31mGPU not available.\u001b[0m\n",
      "GPU and data setup complete.\n"
     ]
    }
   ],
   "source": [
    "# Get GPU resources.\n",
    "if torch.cuda.is_available():\n",
    "    print(colour_str('GPU available!', 'green'))\n",
    "    print('Total number of available devices: ', colour_str(torch.cuda.device_count(), 'orange'))\n",
    "    device = torch.device(f\"cuda:{train_options['gpu_id']}\")\n",
    "\n",
    "else:\n",
    "    print(colour_str('GPU not available.', 'red'))\n",
    "    device = torch.device('cpu')\n",
    "\n",
    "# Custom dataset and dataloader.\n",
    "dataset = AI4ArcticChallengeDataset(files=train_options['train_list'], options=train_options)\n",
    "dataloader = torch.utils.data.DataLoader(dataset, batch_size=None, shuffle=True, num_workers=train_options['num_workers'], pin_memory=True)\n",
    "# - Setup of the validation dataset/dataloader. The same is used for model testing in 'test_upload.ipynb'.\n",
    "dataset_val = AI4ArcticChallengeTestDataset(options=train_options, files=train_options['validate_list'])\n",
    "dataloader_val = torch.utils.data.DataLoader(dataset_val, batch_size=None, num_workers=train_options['num_workers_val'], shuffle=False)\n",
    "\n",
    "print('GPU and data setup complete.')"
   ]
  },
  {
   "cell_type": "markdown",
   "id": "31e9849d-da01-402e-a79f-2f196618fb21",
   "metadata": {},
   "source": [
    "### Example of Model, optimiser and loss function setup"
   ]
  },
  {
   "cell_type": "code",
   "execution_count": 5,
   "id": "df663da8-9779-4f8e-b641-29c9ea4e6036",
   "metadata": {},
   "outputs": [
    {
     "name": "stdout",
     "output_type": "stream",
     "text": [
      "Model setup complete\n"
     ]
    }
   ],
   "source": [
    "# Setup U-Net model, adam optimizer, loss function and dataloader.\n",
    "net = UNet(options=train_options).to(device)\n",
    "optimizer = torch.optim.Adam(list(net.parameters()), lr=train_options['lr'])\n",
    "torch.backends.cudnn.benchmark = True  # Selects the kernel with the best performance for the GPU and given input size.\n",
    "\n",
    "# Loss functions to use for each sea ice parameter.\n",
    "# The ignore_index argument discounts the masked values, ensuring that the model is not using these pixels to train on.\n",
    "# It is equivalent to multiplying the loss of the relevant masked pixel with 0.\n",
    "loss_functions = {chart: torch.nn.CrossEntropyLoss(ignore_index=train_options['class_fill_values'][chart]) \\\n",
    "                                                   for chart in train_options['charts']}\n",
    "print('Model setup complete')"
   ]
  },
  {
   "cell_type": "markdown",
   "id": "bc2980de-1025-4b75-9c43-0c3023a2d12c",
   "metadata": {
    "tags": []
   },
   "source": [
    "## Example of model training and validation loop\n",
    "A simple model training loop following by a simple validation loop. Validation is carried out on full scenes, i.e. no cropping or stitching. If there is not enough space on the GPU, then try to do it on the cpu. This can be done by using 'net = net.cpu()'."
   ]
  },
  {
   "cell_type": "markdown",
   "id": "c7136c1c-22b2-4b59-b6eb-a9824748faff",
   "metadata": {},
   "source": [
    "### Workflow with MLflow\n",
    "\n",
    "- every model needs to be initiated with start_run() function\n",
    "- parameters can be logged with log_params() method\n",
    "- metrics are added with log_metric() with specified name and value\n",
    "- model can be stored into the model storage as artifact using corresponding flavour\n",
    "- for using MLflow autologing, model needs to use one of the supported flavours, eg. pytorch-lightning, fastai, tensorflow, xgboost or others - see [full list](https://www.mlflow.org/docs/latest/tracking.html#automatic-logging) \n"
   ]
  },
  {
   "cell_type": "code",
   "execution_count": 6,
   "id": "bbb870e4-4083-4ead-a4f8-919d1f79598b",
   "metadata": {},
   "outputs": [
    {
     "data": {
      "text/plain": [
       "'1'"
      ]
     },
     "execution_count": 6,
     "metadata": {},
     "output_type": "execute_result"
    }
   ],
   "source": [
    "## setting up the sqlite database for tracking of experiments in MLflow\n",
    "mlflow.set_tracking_uri('sqlite:///' + os.path.expanduser(os.environ[\"MLFLOW_BACKEND_STORE_PATH\"]))\n",
    "os.path.expanduser(os.environ[\"MLFLOW_BACKEND_STORE_PATH\"])\n",
    "\n",
    "## setting the used experiment - if do not exist, new one will be created\n",
    "e = mlflow.set_experiment(\"pizza funghi\")\n",
    "e.experiment_id"
   ]
  },
  {
   "cell_type": "code",
   "execution_count": null,
   "id": "8f1fdbd6-c674-4dc3-b271-2b3660a55646",
   "metadata": {},
   "outputs": [],
   "source": [
    "# implementing an ealy stopper\n",
    "class EarlyStopper:\n",
    "    \"\"\"\n",
    "    Stops the training early iff the validation loss does not increase anymore more than a small delta.\n",
    "    As the FLOE is weighted only half as much as the other two, the model does only need to get better half as much there.\n",
    "    \"\"\"\n",
    "    def __init__(self, patience=1, min_delta=0.1):\n",
    "        self.patience = patience\n",
    "        self.min_delta = min_delta\n",
    "        self.counter = 0\n",
    "        self.max_val_score = -np.inf\n",
    "        \n",
    "    def early_stop(self, combined_score, best_combined_score):\n",
    "        # does not improve enough anymore: < old best + delta\n",
    "        if combined_score <= (self.max_val_score + self.min_delta):\n",
    "            self.counter += 1\n",
    "        else:\n",
    "            self.max_val_score = best_combined_score # such that there is not a crawling improvement not seen\n",
    "            self.counter = 0\n",
    "        return self.counter > self.patience"
   ]
  },
  {
   "cell_type": "code",
   "execution_count": 7,
   "id": "0d00e418-ff77-4948-92bd-0b2313b281d6",
   "metadata": {},
   "outputs": [
    {
     "data": {
      "application/vnd.jupyter.widget-view+json": {
       "model_id": "d2102af85a234887a2037574732ab28a",
       "version_major": 2,
       "version_minor": 0
      },
      "text/plain": [
       "  0%|          | 0/50 [00:00<?, ?it/s]"
      ]
     },
     "metadata": {},
     "output_type": "display_data"
    },
    {
     "data": {
      "application/vnd.jupyter.widget-view+json": {
       "model_id": "3bc6a778902d455c93c6f41816a7558b",
       "version_major": 2,
       "version_minor": 0
      },
      "text/plain": [
       "  0%|          | 0/500 [00:00<?, ?it/s]"
      ]
     },
     "metadata": {},
     "output_type": "display_data"
    },
    {
     "name": "stderr",
     "output_type": "stream",
     "text": [
      "/home/conda/autoice/d163ac953e591afe74a6e27636e7584eb349f707f4365d74b1eda380edb75a78-20221130-125246-700756-50-torch_v1/lib/python3.9/site-packages/torch/amp/autocast_mode.py:202: UserWarning: User provided device_type of 'cuda', but CUDA is not available. Disabling\n",
      "  warnings.warn('User provided device_type of \\'cuda\\', but CUDA is not available. Disabling')\n"
     ]
    },
    {
     "name": "stdout",
     "output_type": "stream",
     "text": [
      "Mean training loss: 5.858\r"
     ]
    },
    {
     "data": {
      "application/vnd.jupyter.widget-view+json": {
       "model_id": "7740ee8beb5f4153a3d332c9b2170a47",
       "version_major": 2,
       "version_minor": 0
      },
      "text/plain": [
       "  0%|          | 0/10 [00:00<?, ?it/s]"
      ]
     },
     "metadata": {},
     "output_type": "display_data"
    },
    {
     "name": "stdout",
     "output_type": "stream",
     "text": [
      "\n",
      "Final batch loss: 5.675\n",
      "Epoch 0 score:\n",
      "SIC r2_metric: -81.538%\n",
      "SOD f1_metric: 0.406%\n",
      "FLOE f1_metric: 23.585%\n",
      "Combined score: -27.736%\n"
     ]
    },
    {
     "data": {
      "application/vnd.jupyter.widget-view+json": {
       "model_id": "185e03eadba147d89ebf44c085d20c0d",
       "version_major": 2,
       "version_minor": 0
      },
      "text/plain": [
       "  0%|          | 0/500 [00:00<?, ?it/s]"
      ]
     },
     "metadata": {},
     "output_type": "display_data"
    },
    {
     "name": "stderr",
     "output_type": "stream",
     "text": [
      "/home/conda/autoice/d163ac953e591afe74a6e27636e7584eb349f707f4365d74b1eda380edb75a78-20221130-125246-700756-50-torch_v1/lib/python3.9/site-packages/torch/amp/autocast_mode.py:202: UserWarning: User provided device_type of 'cuda', but CUDA is not available. Disabling\n",
      "  warnings.warn('User provided device_type of \\'cuda\\', but CUDA is not available. Disabling')\n"
     ]
    },
    {
     "name": "stdout",
     "output_type": "stream",
     "text": [
      "Mean training loss: 4.229\r"
     ]
    },
    {
     "data": {
      "application/vnd.jupyter.widget-view+json": {
       "model_id": "4ecd65dd9a90468b83fc9a4eb5dfead1",
       "version_major": 2,
       "version_minor": 0
      },
      "text/plain": [
       "  0%|          | 0/10 [00:00<?, ?it/s]"
      ]
     },
     "metadata": {},
     "output_type": "display_data"
    },
    {
     "name": "stdout",
     "output_type": "stream",
     "text": [
      "\n",
      "Final batch loss: 3.629\n",
      "Epoch 1 score:\n",
      "SIC r2_metric: 30.018%\n",
      "SOD f1_metric: 8.14%\n",
      "FLOE f1_metric: 25.675%\n",
      "Combined score: 20.398%\n"
     ]
    },
    {
     "data": {
      "application/vnd.jupyter.widget-view+json": {
       "model_id": "5fcb0c956c084c3c99c540922e037ac6",
       "version_major": 2,
       "version_minor": 0
      },
      "text/plain": [
       "  0%|          | 0/500 [00:00<?, ?it/s]"
      ]
     },
     "metadata": {},
     "output_type": "display_data"
    },
    {
     "name": "stderr",
     "output_type": "stream",
     "text": [
      "/home/conda/autoice/d163ac953e591afe74a6e27636e7584eb349f707f4365d74b1eda380edb75a78-20221130-125246-700756-50-torch_v1/lib/python3.9/site-packages/torch/amp/autocast_mode.py:202: UserWarning: User provided device_type of 'cuda', but CUDA is not available. Disabling\n",
      "  warnings.warn('User provided device_type of \\'cuda\\', but CUDA is not available. Disabling')\n"
     ]
    },
    {
     "name": "stdout",
     "output_type": "stream",
     "text": [
      "Mean training loss: 3.236\r"
     ]
    },
    {
     "data": {
      "application/vnd.jupyter.widget-view+json": {
       "model_id": "38ab24f542dc40d18f9dead6b6fddafc",
       "version_major": 2,
       "version_minor": 0
      },
      "text/plain": [
       "  0%|          | 0/10 [00:00<?, ?it/s]"
      ]
     },
     "metadata": {},
     "output_type": "display_data"
    },
    {
     "name": "stdout",
     "output_type": "stream",
     "text": [
      "\n",
      "Final batch loss: 2.421\n",
      "Epoch 2 score:\n",
      "SIC r2_metric: 74.487%\n",
      "SOD f1_metric: 59.325%\n",
      "FLOE f1_metric: 80.523%\n",
      "Combined score: 69.629%\n"
     ]
    },
    {
     "data": {
      "application/vnd.jupyter.widget-view+json": {
       "model_id": "1027069d85f4480bb80c5ea67d888799",
       "version_major": 2,
       "version_minor": 0
      },
      "text/plain": [
       "  0%|          | 0/500 [00:00<?, ?it/s]"
      ]
     },
     "metadata": {},
     "output_type": "display_data"
    },
    {
     "name": "stderr",
     "output_type": "stream",
     "text": [
      "/home/conda/autoice/d163ac953e591afe74a6e27636e7584eb349f707f4365d74b1eda380edb75a78-20221130-125246-700756-50-torch_v1/lib/python3.9/site-packages/torch/amp/autocast_mode.py:202: UserWarning: User provided device_type of 'cuda', but CUDA is not available. Disabling\n",
      "  warnings.warn('User provided device_type of \\'cuda\\', but CUDA is not available. Disabling')\n"
     ]
    },
    {
     "name": "stdout",
     "output_type": "stream",
     "text": [
      "Mean training loss: 2.730\r"
     ]
    },
    {
     "data": {
      "application/vnd.jupyter.widget-view+json": {
       "model_id": "f10adac071974cbc9bcd7e23e336b9fe",
       "version_major": 2,
       "version_minor": 0
      },
      "text/plain": [
       "  0%|          | 0/10 [00:00<?, ?it/s]"
      ]
     },
     "metadata": {},
     "output_type": "display_data"
    },
    {
     "name": "stdout",
     "output_type": "stream",
     "text": [
      "\n",
      "Final batch loss: 2.601\n",
      "Epoch 3 score:\n",
      "SIC r2_metric: -33.105%\n",
      "SOD f1_metric: 22.83%\n",
      "FLOE f1_metric: 23.444%\n",
      "Combined score: 0.579%\n"
     ]
    },
    {
     "data": {
      "application/vnd.jupyter.widget-view+json": {
       "model_id": "1bcc33e0aa0246ba842321c8a9515cb3",
       "version_major": 2,
       "version_minor": 0
      },
      "text/plain": [
       "  0%|          | 0/500 [00:00<?, ?it/s]"
      ]
     },
     "metadata": {},
     "output_type": "display_data"
    },
    {
     "name": "stderr",
     "output_type": "stream",
     "text": [
      "/home/conda/autoice/d163ac953e591afe74a6e27636e7584eb349f707f4365d74b1eda380edb75a78-20221130-125246-700756-50-torch_v1/lib/python3.9/site-packages/torch/amp/autocast_mode.py:202: UserWarning: User provided device_type of 'cuda', but CUDA is not available. Disabling\n",
      "  warnings.warn('User provided device_type of \\'cuda\\', but CUDA is not available. Disabling')\n"
     ]
    },
    {
     "name": "stdout",
     "output_type": "stream",
     "text": [
      "Mean training loss: 2.316\r"
     ]
    },
    {
     "data": {
      "application/vnd.jupyter.widget-view+json": {
       "model_id": "fca5c705e32c444190471b618d41a9b5",
       "version_major": 2,
       "version_minor": 0
      },
      "text/plain": [
       "  0%|          | 0/10 [00:00<?, ?it/s]"
      ]
     },
     "metadata": {},
     "output_type": "display_data"
    },
    {
     "name": "stdout",
     "output_type": "stream",
     "text": [
      "\n",
      "Final batch loss: 2.613\n",
      "Epoch 4 score:\n",
      "SIC r2_metric: 80.297%\n",
      "SOD f1_metric: 54.18%\n",
      "FLOE f1_metric: 71.8%\n",
      "Combined score: 68.151%\n"
     ]
    },
    {
     "data": {
      "application/vnd.jupyter.widget-view+json": {
       "model_id": "17f8ac80a4fe4b618e747a0952757f1d",
       "version_major": 2,
       "version_minor": 0
      },
      "text/plain": [
       "  0%|          | 0/500 [00:00<?, ?it/s]"
      ]
     },
     "metadata": {},
     "output_type": "display_data"
    },
    {
     "name": "stderr",
     "output_type": "stream",
     "text": [
      "/home/conda/autoice/d163ac953e591afe74a6e27636e7584eb349f707f4365d74b1eda380edb75a78-20221130-125246-700756-50-torch_v1/lib/python3.9/site-packages/torch/amp/autocast_mode.py:202: UserWarning: User provided device_type of 'cuda', but CUDA is not available. Disabling\n",
      "  warnings.warn('User provided device_type of \\'cuda\\', but CUDA is not available. Disabling')\n"
     ]
    },
    {
     "name": "stdout",
     "output_type": "stream",
     "text": [
      "Mean training loss: 2.252\r"
     ]
    },
    {
     "data": {
      "application/vnd.jupyter.widget-view+json": {
       "model_id": "22742e29d4214e6993c23d1b4812eafa",
       "version_major": 2,
       "version_minor": 0
      },
      "text/plain": [
       "  0%|          | 0/10 [00:00<?, ?it/s]"
      ]
     },
     "metadata": {},
     "output_type": "display_data"
    },
    {
     "name": "stdout",
     "output_type": "stream",
     "text": [
      "\n",
      "Final batch loss: 2.061\n",
      "Epoch 5 score:\n",
      "SIC r2_metric: 79.94%\n",
      "SOD f1_metric: 75.508%\n",
      "FLOE f1_metric: 83.309%\n",
      "Combined score: 78.841%\n"
     ]
    },
    {
     "data": {
      "application/vnd.jupyter.widget-view+json": {
       "model_id": "c12949e0eac946ca8a023dd0237f5ce7",
       "version_major": 2,
       "version_minor": 0
      },
      "text/plain": [
       "  0%|          | 0/500 [00:00<?, ?it/s]"
      ]
     },
     "metadata": {},
     "output_type": "display_data"
    },
    {
     "name": "stderr",
     "output_type": "stream",
     "text": [
      "/home/conda/autoice/d163ac953e591afe74a6e27636e7584eb349f707f4365d74b1eda380edb75a78-20221130-125246-700756-50-torch_v1/lib/python3.9/site-packages/torch/amp/autocast_mode.py:202: UserWarning: User provided device_type of 'cuda', but CUDA is not available. Disabling\n",
      "  warnings.warn('User provided device_type of \\'cuda\\', but CUDA is not available. Disabling')\n"
     ]
    },
    {
     "name": "stdout",
     "output_type": "stream",
     "text": [
      "Mean training loss: 2.034\r"
     ]
    },
    {
     "data": {
      "application/vnd.jupyter.widget-view+json": {
       "model_id": "1c150db984084c1ca6fe9da3c0dea2cb",
       "version_major": 2,
       "version_minor": 0
      },
      "text/plain": [
       "  0%|          | 0/10 [00:00<?, ?it/s]"
      ]
     },
     "metadata": {},
     "output_type": "display_data"
    },
    {
     "name": "stdout",
     "output_type": "stream",
     "text": [
      "\n",
      "Final batch loss: 1.956\n",
      "Epoch 6 score:\n",
      "SIC r2_metric: 61.124%\n",
      "SOD f1_metric: 73.605%\n",
      "FLOE f1_metric: 79.411%\n",
      "Combined score: 69.774%\n"
     ]
    },
    {
     "data": {
      "application/vnd.jupyter.widget-view+json": {
       "model_id": "82883870561c4fd89c7dd74e9a3afa0f",
       "version_major": 2,
       "version_minor": 0
      },
      "text/plain": [
       "  0%|          | 0/500 [00:00<?, ?it/s]"
      ]
     },
     "metadata": {},
     "output_type": "display_data"
    },
    {
     "name": "stderr",
     "output_type": "stream",
     "text": [
      "/home/conda/autoice/d163ac953e591afe74a6e27636e7584eb349f707f4365d74b1eda380edb75a78-20221130-125246-700756-50-torch_v1/lib/python3.9/site-packages/torch/amp/autocast_mode.py:202: UserWarning: User provided device_type of 'cuda', but CUDA is not available. Disabling\n",
      "  warnings.warn('User provided device_type of \\'cuda\\', but CUDA is not available. Disabling')\n"
     ]
    },
    {
     "name": "stdout",
     "output_type": "stream",
     "text": [
      "Mean training loss: 1.901\r"
     ]
    },
    {
     "data": {
      "application/vnd.jupyter.widget-view+json": {
       "model_id": "5b5986778efc48aa9153c961313a359e",
       "version_major": 2,
       "version_minor": 0
      },
      "text/plain": [
       "  0%|          | 0/10 [00:00<?, ?it/s]"
      ]
     },
     "metadata": {},
     "output_type": "display_data"
    },
    {
     "name": "stdout",
     "output_type": "stream",
     "text": [
      "\n",
      "Final batch loss: 1.917\n",
      "Epoch 7 score:\n",
      "SIC r2_metric: 78.981%\n",
      "SOD f1_metric: 75.076%\n",
      "FLOE f1_metric: 83.801%\n",
      "Combined score: 78.383%\n"
     ]
    },
    {
     "data": {
      "application/vnd.jupyter.widget-view+json": {
       "model_id": "1f3aa91de01542bc94c5fc710c58f166",
       "version_major": 2,
       "version_minor": 0
      },
      "text/plain": [
       "  0%|          | 0/500 [00:00<?, ?it/s]"
      ]
     },
     "metadata": {},
     "output_type": "display_data"
    },
    {
     "name": "stderr",
     "output_type": "stream",
     "text": [
      "/home/conda/autoice/d163ac953e591afe74a6e27636e7584eb349f707f4365d74b1eda380edb75a78-20221130-125246-700756-50-torch_v1/lib/python3.9/site-packages/torch/amp/autocast_mode.py:202: UserWarning: User provided device_type of 'cuda', but CUDA is not available. Disabling\n",
      "  warnings.warn('User provided device_type of \\'cuda\\', but CUDA is not available. Disabling')\n"
     ]
    },
    {
     "name": "stdout",
     "output_type": "stream",
     "text": [
      "Mean training loss: 2.028\r"
     ]
    },
    {
     "data": {
      "application/vnd.jupyter.widget-view+json": {
       "model_id": "f73695394cec431eb4da890dea733df4",
       "version_major": 2,
       "version_minor": 0
      },
      "text/plain": [
       "  0%|          | 0/10 [00:00<?, ?it/s]"
      ]
     },
     "metadata": {},
     "output_type": "display_data"
    },
    {
     "name": "stdout",
     "output_type": "stream",
     "text": [
      "\n",
      "Final batch loss: 1.364\n",
      "Epoch 8 score:\n",
      "SIC r2_metric: 79.131%\n",
      "SOD f1_metric: 73.705%\n",
      "FLOE f1_metric: 82.18%\n",
      "Combined score: 77.57%\n"
     ]
    },
    {
     "data": {
      "application/vnd.jupyter.widget-view+json": {
       "model_id": "61d0dc743c0b4651a804b28de6c82aac",
       "version_major": 2,
       "version_minor": 0
      },
      "text/plain": [
       "  0%|          | 0/500 [00:00<?, ?it/s]"
      ]
     },
     "metadata": {},
     "output_type": "display_data"
    },
    {
     "name": "stderr",
     "output_type": "stream",
     "text": [
      "/home/conda/autoice/d163ac953e591afe74a6e27636e7584eb349f707f4365d74b1eda380edb75a78-20221130-125246-700756-50-torch_v1/lib/python3.9/site-packages/torch/amp/autocast_mode.py:202: UserWarning: User provided device_type of 'cuda', but CUDA is not available. Disabling\n",
      "  warnings.warn('User provided device_type of \\'cuda\\', but CUDA is not available. Disabling')\n"
     ]
    },
    {
     "name": "stdout",
     "output_type": "stream",
     "text": [
      "Mean training loss: 1.898\r"
     ]
    },
    {
     "data": {
      "application/vnd.jupyter.widget-view+json": {
       "model_id": "71777930e64a4668841363e1f0490774",
       "version_major": 2,
       "version_minor": 0
      },
      "text/plain": [
       "  0%|          | 0/10 [00:00<?, ?it/s]"
      ]
     },
     "metadata": {},
     "output_type": "display_data"
    },
    {
     "name": "stdout",
     "output_type": "stream",
     "text": [
      "\n",
      "Final batch loss: 1.513\n",
      "Epoch 9 score:\n",
      "SIC r2_metric: 79.204%\n",
      "SOD f1_metric: 79.436%\n",
      "FLOE f1_metric: 83.52%\n",
      "Combined score: 80.16%\n"
     ]
    },
    {
     "data": {
      "application/vnd.jupyter.widget-view+json": {
       "model_id": "5e8871132d4943e18e36348d28411733",
       "version_major": 2,
       "version_minor": 0
      },
      "text/plain": [
       "  0%|          | 0/500 [00:00<?, ?it/s]"
      ]
     },
     "metadata": {},
     "output_type": "display_data"
    },
    {
     "name": "stderr",
     "output_type": "stream",
     "text": [
      "/home/conda/autoice/d163ac953e591afe74a6e27636e7584eb349f707f4365d74b1eda380edb75a78-20221130-125246-700756-50-torch_v1/lib/python3.9/site-packages/torch/amp/autocast_mode.py:202: UserWarning: User provided device_type of 'cuda', but CUDA is not available. Disabling\n",
      "  warnings.warn('User provided device_type of \\'cuda\\', but CUDA is not available. Disabling')\n"
     ]
    },
    {
     "name": "stdout",
     "output_type": "stream",
     "text": [
      "Mean training loss: 1.943\r"
     ]
    },
    {
     "data": {
      "application/vnd.jupyter.widget-view+json": {
       "model_id": "fc2e0394e94342ae82a7252bede4a0be",
       "version_major": 2,
       "version_minor": 0
      },
      "text/plain": [
       "  0%|          | 0/10 [00:00<?, ?it/s]"
      ]
     },
     "metadata": {},
     "output_type": "display_data"
    },
    {
     "name": "stdout",
     "output_type": "stream",
     "text": [
      "\n",
      "Final batch loss: 3.730\n",
      "Epoch 10 score:\n",
      "SIC r2_metric: 76.045%\n",
      "SOD f1_metric: 75.487%\n",
      "FLOE f1_metric: 81.877%\n",
      "Combined score: 76.988%\n"
     ]
    },
    {
     "data": {
      "application/vnd.jupyter.widget-view+json": {
       "model_id": "68bf498b159d403bb94a1caffb3c9518",
       "version_major": 2,
       "version_minor": 0
      },
      "text/plain": [
       "  0%|          | 0/500 [00:00<?, ?it/s]"
      ]
     },
     "metadata": {},
     "output_type": "display_data"
    },
    {
     "name": "stderr",
     "output_type": "stream",
     "text": [
      "/home/conda/autoice/d163ac953e591afe74a6e27636e7584eb349f707f4365d74b1eda380edb75a78-20221130-125246-700756-50-torch_v1/lib/python3.9/site-packages/torch/amp/autocast_mode.py:202: UserWarning: User provided device_type of 'cuda', but CUDA is not available. Disabling\n",
      "  warnings.warn('User provided device_type of \\'cuda\\', but CUDA is not available. Disabling')\n"
     ]
    },
    {
     "name": "stdout",
     "output_type": "stream",
     "text": [
      "Mean training loss: 1.849\r"
     ]
    },
    {
     "data": {
      "application/vnd.jupyter.widget-view+json": {
       "model_id": "5c45fa9bf7c5428d9f0f7ef4b8070bce",
       "version_major": 2,
       "version_minor": 0
      },
      "text/plain": [
       "  0%|          | 0/10 [00:00<?, ?it/s]"
      ]
     },
     "metadata": {},
     "output_type": "display_data"
    },
    {
     "name": "stdout",
     "output_type": "stream",
     "text": [
      "\n",
      "Final batch loss: 1.108\n",
      "Epoch 11 score:\n",
      "SIC r2_metric: 81.358%\n",
      "SOD f1_metric: 79.986%\n",
      "FLOE f1_metric: 84.069%\n",
      "Combined score: 81.351%\n"
     ]
    },
    {
     "data": {
      "application/vnd.jupyter.widget-view+json": {
       "model_id": "ac00587eac9a407182f5b187af4b062c",
       "version_major": 2,
       "version_minor": 0
      },
      "text/plain": [
       "  0%|          | 0/500 [00:00<?, ?it/s]"
      ]
     },
     "metadata": {},
     "output_type": "display_data"
    },
    {
     "name": "stderr",
     "output_type": "stream",
     "text": [
      "/home/conda/autoice/d163ac953e591afe74a6e27636e7584eb349f707f4365d74b1eda380edb75a78-20221130-125246-700756-50-torch_v1/lib/python3.9/site-packages/torch/amp/autocast_mode.py:202: UserWarning: User provided device_type of 'cuda', but CUDA is not available. Disabling\n",
      "  warnings.warn('User provided device_type of \\'cuda\\', but CUDA is not available. Disabling')\n"
     ]
    },
    {
     "name": "stdout",
     "output_type": "stream",
     "text": [
      "Mean training loss: 1.798\r"
     ]
    },
    {
     "data": {
      "application/vnd.jupyter.widget-view+json": {
       "model_id": "d3d71ca6a7264712b43e1cb617a0e477",
       "version_major": 2,
       "version_minor": 0
      },
      "text/plain": [
       "  0%|          | 0/10 [00:00<?, ?it/s]"
      ]
     },
     "metadata": {},
     "output_type": "display_data"
    },
    {
     "name": "stdout",
     "output_type": "stream",
     "text": [
      "\n",
      "Final batch loss: 1.655\n",
      "Epoch 12 score:\n",
      "SIC r2_metric: 70.849%\n",
      "SOD f1_metric: 75.156%\n",
      "FLOE f1_metric: 81.48%\n",
      "Combined score: 74.698%\n"
     ]
    },
    {
     "data": {
      "application/vnd.jupyter.widget-view+json": {
       "model_id": "588a9ee03abb4b719fb8992777e795dc",
       "version_major": 2,
       "version_minor": 0
      },
      "text/plain": [
       "  0%|          | 0/500 [00:00<?, ?it/s]"
      ]
     },
     "metadata": {},
     "output_type": "display_data"
    },
    {
     "name": "stderr",
     "output_type": "stream",
     "text": [
      "/home/conda/autoice/d163ac953e591afe74a6e27636e7584eb349f707f4365d74b1eda380edb75a78-20221130-125246-700756-50-torch_v1/lib/python3.9/site-packages/torch/amp/autocast_mode.py:202: UserWarning: User provided device_type of 'cuda', but CUDA is not available. Disabling\n",
      "  warnings.warn('User provided device_type of \\'cuda\\', but CUDA is not available. Disabling')\n"
     ]
    },
    {
     "name": "stdout",
     "output_type": "stream",
     "text": [
      "Mean training loss: 1.769\r"
     ]
    },
    {
     "data": {
      "application/vnd.jupyter.widget-view+json": {
       "model_id": "71231b2d19114fd5990f94515a90a9c7",
       "version_major": 2,
       "version_minor": 0
      },
      "text/plain": [
       "  0%|          | 0/10 [00:00<?, ?it/s]"
      ]
     },
     "metadata": {},
     "output_type": "display_data"
    },
    {
     "name": "stdout",
     "output_type": "stream",
     "text": [
      "\n",
      "Final batch loss: 0.663\n",
      "Epoch 13 score:\n",
      "SIC r2_metric: 78.252%\n",
      "SOD f1_metric: 77.591%\n",
      "FLOE f1_metric: 83.225%\n",
      "Combined score: 78.982%\n"
     ]
    },
    {
     "data": {
      "application/vnd.jupyter.widget-view+json": {
       "model_id": "e956e280dbe34118883ac4df09cc1b1b",
       "version_major": 2,
       "version_minor": 0
      },
      "text/plain": [
       "  0%|          | 0/500 [00:00<?, ?it/s]"
      ]
     },
     "metadata": {},
     "output_type": "display_data"
    },
    {
     "name": "stderr",
     "output_type": "stream",
     "text": [
      "/home/conda/autoice/d163ac953e591afe74a6e27636e7584eb349f707f4365d74b1eda380edb75a78-20221130-125246-700756-50-torch_v1/lib/python3.9/site-packages/torch/amp/autocast_mode.py:202: UserWarning: User provided device_type of 'cuda', but CUDA is not available. Disabling\n",
      "  warnings.warn('User provided device_type of \\'cuda\\', but CUDA is not available. Disabling')\n"
     ]
    },
    {
     "name": "stdout",
     "output_type": "stream",
     "text": [
      "Mean training loss: 1.765\r"
     ]
    },
    {
     "data": {
      "application/vnd.jupyter.widget-view+json": {
       "model_id": "80f3eb7227c94b88b90db6ab6cc39085",
       "version_major": 2,
       "version_minor": 0
      },
      "text/plain": [
       "  0%|          | 0/10 [00:00<?, ?it/s]"
      ]
     },
     "metadata": {},
     "output_type": "display_data"
    },
    {
     "name": "stdout",
     "output_type": "stream",
     "text": [
      "\n",
      "Final batch loss: 1.746\n",
      "Epoch 14 score:\n",
      "SIC r2_metric: 79.259%\n",
      "SOD f1_metric: 82.062%\n",
      "FLOE f1_metric: 84.596%\n",
      "Combined score: 81.448%\n"
     ]
    },
    {
     "data": {
      "application/vnd.jupyter.widget-view+json": {
       "model_id": "623910f98e8543308641d5b241fc0454",
       "version_major": 2,
       "version_minor": 0
      },
      "text/plain": [
       "  0%|          | 0/500 [00:00<?, ?it/s]"
      ]
     },
     "metadata": {},
     "output_type": "display_data"
    },
    {
     "name": "stderr",
     "output_type": "stream",
     "text": [
      "/home/conda/autoice/d163ac953e591afe74a6e27636e7584eb349f707f4365d74b1eda380edb75a78-20221130-125246-700756-50-torch_v1/lib/python3.9/site-packages/torch/amp/autocast_mode.py:202: UserWarning: User provided device_type of 'cuda', but CUDA is not available. Disabling\n",
      "  warnings.warn('User provided device_type of \\'cuda\\', but CUDA is not available. Disabling')\n"
     ]
    },
    {
     "name": "stdout",
     "output_type": "stream",
     "text": [
      "Mean training loss: 1.743\r"
     ]
    },
    {
     "data": {
      "application/vnd.jupyter.widget-view+json": {
       "model_id": "ef33151832bd4e1fbefb40ac40c82416",
       "version_major": 2,
       "version_minor": 0
      },
      "text/plain": [
       "  0%|          | 0/10 [00:00<?, ?it/s]"
      ]
     },
     "metadata": {},
     "output_type": "display_data"
    },
    {
     "name": "stdout",
     "output_type": "stream",
     "text": [
      "\n",
      "Final batch loss: 0.909\n",
      "Epoch 15 score:\n",
      "SIC r2_metric: 78.5%\n",
      "SOD f1_metric: 79.247%\n",
      "FLOE f1_metric: 82.673%\n",
      "Combined score: 79.633%\n"
     ]
    },
    {
     "data": {
      "application/vnd.jupyter.widget-view+json": {
       "model_id": "fdac66ff61f3480f929e003e3c7ac184",
       "version_major": 2,
       "version_minor": 0
      },
      "text/plain": [
       "  0%|          | 0/500 [00:00<?, ?it/s]"
      ]
     },
     "metadata": {},
     "output_type": "display_data"
    },
    {
     "name": "stderr",
     "output_type": "stream",
     "text": [
      "/home/conda/autoice/d163ac953e591afe74a6e27636e7584eb349f707f4365d74b1eda380edb75a78-20221130-125246-700756-50-torch_v1/lib/python3.9/site-packages/torch/amp/autocast_mode.py:202: UserWarning: User provided device_type of 'cuda', but CUDA is not available. Disabling\n",
      "  warnings.warn('User provided device_type of \\'cuda\\', but CUDA is not available. Disabling')\n"
     ]
    },
    {
     "name": "stdout",
     "output_type": "stream",
     "text": [
      "Mean training loss: 1.736\r"
     ]
    },
    {
     "data": {
      "application/vnd.jupyter.widget-view+json": {
       "model_id": "f089c813f5c94f0aba433f4ddb10da12",
       "version_major": 2,
       "version_minor": 0
      },
      "text/plain": [
       "  0%|          | 0/10 [00:00<?, ?it/s]"
      ]
     },
     "metadata": {},
     "output_type": "display_data"
    },
    {
     "name": "stdout",
     "output_type": "stream",
     "text": [
      "\n",
      "Final batch loss: 1.266\n",
      "Epoch 16 score:\n",
      "SIC r2_metric: 78.93%\n",
      "SOD f1_metric: 79.495%\n",
      "FLOE f1_metric: 83.733%\n",
      "Combined score: 80.117%\n"
     ]
    },
    {
     "data": {
      "application/vnd.jupyter.widget-view+json": {
       "model_id": "19a9a8251eee40fb8c01dfcffc1a0d4d",
       "version_major": 2,
       "version_minor": 0
      },
      "text/plain": [
       "  0%|          | 0/500 [00:00<?, ?it/s]"
      ]
     },
     "metadata": {},
     "output_type": "display_data"
    },
    {
     "name": "stderr",
     "output_type": "stream",
     "text": [
      "/home/conda/autoice/d163ac953e591afe74a6e27636e7584eb349f707f4365d74b1eda380edb75a78-20221130-125246-700756-50-torch_v1/lib/python3.9/site-packages/torch/amp/autocast_mode.py:202: UserWarning: User provided device_type of 'cuda', but CUDA is not available. Disabling\n",
      "  warnings.warn('User provided device_type of \\'cuda\\', but CUDA is not available. Disabling')\n"
     ]
    },
    {
     "name": "stdout",
     "output_type": "stream",
     "text": [
      "Mean training loss: 1.713\r"
     ]
    },
    {
     "data": {
      "application/vnd.jupyter.widget-view+json": {
       "model_id": "03bb9ab685cf48f3ab6112cc5ee996c5",
       "version_major": 2,
       "version_minor": 0
      },
      "text/plain": [
       "  0%|          | 0/10 [00:00<?, ?it/s]"
      ]
     },
     "metadata": {},
     "output_type": "display_data"
    },
    {
     "name": "stdout",
     "output_type": "stream",
     "text": [
      "\n",
      "Final batch loss: 0.879\n",
      "Epoch 17 score:\n",
      "SIC r2_metric: 78.71%\n",
      "SOD f1_metric: 81.815%\n",
      "FLOE f1_metric: 82.375%\n",
      "Combined score: 80.685%\n"
     ]
    },
    {
     "data": {
      "application/vnd.jupyter.widget-view+json": {
       "model_id": "af6f3202377649b385d4d4fe297e68c2",
       "version_major": 2,
       "version_minor": 0
      },
      "text/plain": [
       "  0%|          | 0/500 [00:00<?, ?it/s]"
      ]
     },
     "metadata": {},
     "output_type": "display_data"
    },
    {
     "name": "stderr",
     "output_type": "stream",
     "text": [
      "/home/conda/autoice/d163ac953e591afe74a6e27636e7584eb349f707f4365d74b1eda380edb75a78-20221130-125246-700756-50-torch_v1/lib/python3.9/site-packages/torch/amp/autocast_mode.py:202: UserWarning: User provided device_type of 'cuda', but CUDA is not available. Disabling\n",
      "  warnings.warn('User provided device_type of \\'cuda\\', but CUDA is not available. Disabling')\n"
     ]
    },
    {
     "name": "stdout",
     "output_type": "stream",
     "text": [
      "Mean training loss: 1.653\r"
     ]
    },
    {
     "data": {
      "application/vnd.jupyter.widget-view+json": {
       "model_id": "6ff67a1a85d04d48ad9681416dc7da9b",
       "version_major": 2,
       "version_minor": 0
      },
      "text/plain": [
       "  0%|          | 0/10 [00:00<?, ?it/s]"
      ]
     },
     "metadata": {},
     "output_type": "display_data"
    },
    {
     "name": "stdout",
     "output_type": "stream",
     "text": [
      "\n",
      "Final batch loss: 1.197\n",
      "Epoch 18 score:\n",
      "SIC r2_metric: 74.677%\n",
      "SOD f1_metric: 82.926%\n",
      "FLOE f1_metric: 82.312%\n",
      "Combined score: 79.504%\n"
     ]
    },
    {
     "data": {
      "application/vnd.jupyter.widget-view+json": {
       "model_id": "9ef773323a4e4d58be9ab206a5cc6767",
       "version_major": 2,
       "version_minor": 0
      },
      "text/plain": [
       "  0%|          | 0/500 [00:00<?, ?it/s]"
      ]
     },
     "metadata": {},
     "output_type": "display_data"
    },
    {
     "name": "stderr",
     "output_type": "stream",
     "text": [
      "/home/conda/autoice/d163ac953e591afe74a6e27636e7584eb349f707f4365d74b1eda380edb75a78-20221130-125246-700756-50-torch_v1/lib/python3.9/site-packages/torch/amp/autocast_mode.py:202: UserWarning: User provided device_type of 'cuda', but CUDA is not available. Disabling\n",
      "  warnings.warn('User provided device_type of \\'cuda\\', but CUDA is not available. Disabling')\n"
     ]
    },
    {
     "name": "stdout",
     "output_type": "stream",
     "text": [
      "Mean training loss: 1.670\r"
     ]
    },
    {
     "data": {
      "application/vnd.jupyter.widget-view+json": {
       "model_id": "d134f6fd027944ca951ea44f4781e78b",
       "version_major": 2,
       "version_minor": 0
      },
      "text/plain": [
       "  0%|          | 0/10 [00:00<?, ?it/s]"
      ]
     },
     "metadata": {},
     "output_type": "display_data"
    },
    {
     "name": "stdout",
     "output_type": "stream",
     "text": [
      "\n",
      "Final batch loss: 0.642\n",
      "Epoch 19 score:\n",
      "SIC r2_metric: 78.946%\n",
      "SOD f1_metric: 79.276%\n",
      "FLOE f1_metric: 83.045%\n",
      "Combined score: 79.898%\n"
     ]
    },
    {
     "data": {
      "application/vnd.jupyter.widget-view+json": {
       "model_id": "eb278a208d544ec2aa38426efd618140",
       "version_major": 2,
       "version_minor": 0
      },
      "text/plain": [
       "  0%|          | 0/500 [00:00<?, ?it/s]"
      ]
     },
     "metadata": {},
     "output_type": "display_data"
    },
    {
     "name": "stderr",
     "output_type": "stream",
     "text": [
      "/home/conda/autoice/d163ac953e591afe74a6e27636e7584eb349f707f4365d74b1eda380edb75a78-20221130-125246-700756-50-torch_v1/lib/python3.9/site-packages/torch/amp/autocast_mode.py:202: UserWarning: User provided device_type of 'cuda', but CUDA is not available. Disabling\n",
      "  warnings.warn('User provided device_type of \\'cuda\\', but CUDA is not available. Disabling')\n"
     ]
    },
    {
     "name": "stdout",
     "output_type": "stream",
     "text": [
      "Mean training loss: 1.675\r"
     ]
    },
    {
     "data": {
      "application/vnd.jupyter.widget-view+json": {
       "model_id": "c8d17b66beab4ee5993edc1706f2f65c",
       "version_major": 2,
       "version_minor": 0
      },
      "text/plain": [
       "  0%|          | 0/10 [00:00<?, ?it/s]"
      ]
     },
     "metadata": {},
     "output_type": "display_data"
    },
    {
     "name": "stdout",
     "output_type": "stream",
     "text": [
      "\n",
      "Final batch loss: 2.259\n",
      "Epoch 20 score:\n",
      "SIC r2_metric: 77.109%\n",
      "SOD f1_metric: 77.025%\n",
      "FLOE f1_metric: 83.185%\n",
      "Combined score: 78.291%\n"
     ]
    },
    {
     "data": {
      "application/vnd.jupyter.widget-view+json": {
       "model_id": "dc5cc6afe5e04a629c2b21d164e289f0",
       "version_major": 2,
       "version_minor": 0
      },
      "text/plain": [
       "  0%|          | 0/500 [00:00<?, ?it/s]"
      ]
     },
     "metadata": {},
     "output_type": "display_data"
    },
    {
     "name": "stderr",
     "output_type": "stream",
     "text": [
      "/home/conda/autoice/d163ac953e591afe74a6e27636e7584eb349f707f4365d74b1eda380edb75a78-20221130-125246-700756-50-torch_v1/lib/python3.9/site-packages/torch/amp/autocast_mode.py:202: UserWarning: User provided device_type of 'cuda', but CUDA is not available. Disabling\n",
      "  warnings.warn('User provided device_type of \\'cuda\\', but CUDA is not available. Disabling')\n"
     ]
    },
    {
     "name": "stdout",
     "output_type": "stream",
     "text": [
      "Mean training loss: 1.658\r"
     ]
    },
    {
     "data": {
      "application/vnd.jupyter.widget-view+json": {
       "model_id": "2c4c008bea0e4c08bf7766269bcd4f4b",
       "version_major": 2,
       "version_minor": 0
      },
      "text/plain": [
       "  0%|          | 0/10 [00:00<?, ?it/s]"
      ]
     },
     "metadata": {},
     "output_type": "display_data"
    },
    {
     "name": "stdout",
     "output_type": "stream",
     "text": [
      "\n",
      "Final batch loss: 1.801\n",
      "Epoch 21 score:\n",
      "SIC r2_metric: 74.378%\n",
      "SOD f1_metric: 83.13%\n",
      "FLOE f1_metric: 82.715%\n",
      "Combined score: 79.546%\n"
     ]
    },
    {
     "data": {
      "application/vnd.jupyter.widget-view+json": {
       "model_id": "032dd7a4f37044309c1b0174ff492f54",
       "version_major": 2,
       "version_minor": 0
      },
      "text/plain": [
       "  0%|          | 0/500 [00:00<?, ?it/s]"
      ]
     },
     "metadata": {},
     "output_type": "display_data"
    },
    {
     "name": "stderr",
     "output_type": "stream",
     "text": [
      "/home/conda/autoice/d163ac953e591afe74a6e27636e7584eb349f707f4365d74b1eda380edb75a78-20221130-125246-700756-50-torch_v1/lib/python3.9/site-packages/torch/amp/autocast_mode.py:202: UserWarning: User provided device_type of 'cuda', but CUDA is not available. Disabling\n",
      "  warnings.warn('User provided device_type of \\'cuda\\', but CUDA is not available. Disabling')\n"
     ]
    },
    {
     "name": "stdout",
     "output_type": "stream",
     "text": [
      "Mean training loss: 1.707\r"
     ]
    },
    {
     "data": {
      "application/vnd.jupyter.widget-view+json": {
       "model_id": "f8471da57e7a4df88a148172912d56b8",
       "version_major": 2,
       "version_minor": 0
      },
      "text/plain": [
       "  0%|          | 0/10 [00:00<?, ?it/s]"
      ]
     },
     "metadata": {},
     "output_type": "display_data"
    },
    {
     "name": "stdout",
     "output_type": "stream",
     "text": [
      "\n",
      "Final batch loss: 0.647\n",
      "Epoch 22 score:\n",
      "SIC r2_metric: 80.454%\n",
      "SOD f1_metric: 83.754%\n",
      "FLOE f1_metric: 83.893%\n",
      "Combined score: 82.462%\n"
     ]
    },
    {
     "data": {
      "application/vnd.jupyter.widget-view+json": {
       "model_id": "0b62011237d2417c8eae18dcb82a4609",
       "version_major": 2,
       "version_minor": 0
      },
      "text/plain": [
       "  0%|          | 0/500 [00:00<?, ?it/s]"
      ]
     },
     "metadata": {},
     "output_type": "display_data"
    },
    {
     "name": "stderr",
     "output_type": "stream",
     "text": [
      "/home/conda/autoice/d163ac953e591afe74a6e27636e7584eb349f707f4365d74b1eda380edb75a78-20221130-125246-700756-50-torch_v1/lib/python3.9/site-packages/torch/amp/autocast_mode.py:202: UserWarning: User provided device_type of 'cuda', but CUDA is not available. Disabling\n",
      "  warnings.warn('User provided device_type of \\'cuda\\', but CUDA is not available. Disabling')\n"
     ]
    },
    {
     "name": "stdout",
     "output_type": "stream",
     "text": [
      "Mean training loss: 1.635\r"
     ]
    },
    {
     "data": {
      "application/vnd.jupyter.widget-view+json": {
       "model_id": "6e1a9f17f52f4587b1802761a854ab32",
       "version_major": 2,
       "version_minor": 0
      },
      "text/plain": [
       "  0%|          | 0/10 [00:00<?, ?it/s]"
      ]
     },
     "metadata": {},
     "output_type": "display_data"
    },
    {
     "name": "stdout",
     "output_type": "stream",
     "text": [
      "\n",
      "Final batch loss: 2.105\n",
      "Epoch 23 score:\n",
      "SIC r2_metric: 79.108%\n",
      "SOD f1_metric: 85.365%\n",
      "FLOE f1_metric: 83.485%\n",
      "Combined score: 82.486%\n"
     ]
    },
    {
     "data": {
      "application/vnd.jupyter.widget-view+json": {
       "model_id": "ac3f7dea1eb4492ba5af8451d38e4854",
       "version_major": 2,
       "version_minor": 0
      },
      "text/plain": [
       "  0%|          | 0/500 [00:00<?, ?it/s]"
      ]
     },
     "metadata": {},
     "output_type": "display_data"
    },
    {
     "name": "stderr",
     "output_type": "stream",
     "text": [
      "/home/conda/autoice/d163ac953e591afe74a6e27636e7584eb349f707f4365d74b1eda380edb75a78-20221130-125246-700756-50-torch_v1/lib/python3.9/site-packages/torch/amp/autocast_mode.py:202: UserWarning: User provided device_type of 'cuda', but CUDA is not available. Disabling\n",
      "  warnings.warn('User provided device_type of \\'cuda\\', but CUDA is not available. Disabling')\n"
     ]
    },
    {
     "name": "stdout",
     "output_type": "stream",
     "text": [
      "Mean training loss: 1.631\r"
     ]
    },
    {
     "data": {
      "application/vnd.jupyter.widget-view+json": {
       "model_id": "ca58ca89011d40cc9dbd48862ce08240",
       "version_major": 2,
       "version_minor": 0
      },
      "text/plain": [
       "  0%|          | 0/10 [00:00<?, ?it/s]"
      ]
     },
     "metadata": {},
     "output_type": "display_data"
    },
    {
     "name": "stdout",
     "output_type": "stream",
     "text": [
      "\n",
      "Final batch loss: 1.238\n",
      "Epoch 24 score:\n",
      "SIC r2_metric: 80.461%\n",
      "SOD f1_metric: 84.587%\n",
      "FLOE f1_metric: 84.306%\n",
      "Combined score: 82.88%\n"
     ]
    },
    {
     "data": {
      "application/vnd.jupyter.widget-view+json": {
       "model_id": "a496e95b941a4d038f531bfbfaf582c4",
       "version_major": 2,
       "version_minor": 0
      },
      "text/plain": [
       "  0%|          | 0/500 [00:00<?, ?it/s]"
      ]
     },
     "metadata": {},
     "output_type": "display_data"
    },
    {
     "name": "stderr",
     "output_type": "stream",
     "text": [
      "/home/conda/autoice/d163ac953e591afe74a6e27636e7584eb349f707f4365d74b1eda380edb75a78-20221130-125246-700756-50-torch_v1/lib/python3.9/site-packages/torch/amp/autocast_mode.py:202: UserWarning: User provided device_type of 'cuda', but CUDA is not available. Disabling\n",
      "  warnings.warn('User provided device_type of \\'cuda\\', but CUDA is not available. Disabling')\n"
     ]
    },
    {
     "name": "stdout",
     "output_type": "stream",
     "text": [
      "Mean training loss: 1.629\r"
     ]
    },
    {
     "data": {
      "application/vnd.jupyter.widget-view+json": {
       "model_id": "79926168177b411590aae9f943bf8b56",
       "version_major": 2,
       "version_minor": 0
      },
      "text/plain": [
       "  0%|          | 0/10 [00:00<?, ?it/s]"
      ]
     },
     "metadata": {},
     "output_type": "display_data"
    },
    {
     "name": "stdout",
     "output_type": "stream",
     "text": [
      "\n",
      "Final batch loss: 0.700\n",
      "Epoch 25 score:\n",
      "SIC r2_metric: 75.198%\n",
      "SOD f1_metric: 83.396%\n",
      "FLOE f1_metric: 83.278%\n",
      "Combined score: 80.093%\n"
     ]
    },
    {
     "data": {
      "application/vnd.jupyter.widget-view+json": {
       "model_id": "6d1e208fa5d64b7c87a02553d73a182c",
       "version_major": 2,
       "version_minor": 0
      },
      "text/plain": [
       "  0%|          | 0/500 [00:00<?, ?it/s]"
      ]
     },
     "metadata": {},
     "output_type": "display_data"
    },
    {
     "name": "stderr",
     "output_type": "stream",
     "text": [
      "/home/conda/autoice/d163ac953e591afe74a6e27636e7584eb349f707f4365d74b1eda380edb75a78-20221130-125246-700756-50-torch_v1/lib/python3.9/site-packages/torch/amp/autocast_mode.py:202: UserWarning: User provided device_type of 'cuda', but CUDA is not available. Disabling\n",
      "  warnings.warn('User provided device_type of \\'cuda\\', but CUDA is not available. Disabling')\n"
     ]
    },
    {
     "name": "stdout",
     "output_type": "stream",
     "text": [
      "Mean training loss: 1.550\r"
     ]
    },
    {
     "data": {
      "application/vnd.jupyter.widget-view+json": {
       "model_id": "4ff70f9addc24abb989c3a46aab33945",
       "version_major": 2,
       "version_minor": 0
      },
      "text/plain": [
       "  0%|          | 0/10 [00:00<?, ?it/s]"
      ]
     },
     "metadata": {},
     "output_type": "display_data"
    },
    {
     "name": "stdout",
     "output_type": "stream",
     "text": [
      "\n",
      "Final batch loss: 1.008\n",
      "Epoch 26 score:\n",
      "SIC r2_metric: 76.644%\n",
      "SOD f1_metric: 84.199%\n",
      "FLOE f1_metric: 83.18%\n",
      "Combined score: 80.973%\n"
     ]
    },
    {
     "data": {
      "application/vnd.jupyter.widget-view+json": {
       "model_id": "bcdb961c2c524e75a6c9a5bac40d7534",
       "version_major": 2,
       "version_minor": 0
      },
      "text/plain": [
       "  0%|          | 0/500 [00:00<?, ?it/s]"
      ]
     },
     "metadata": {},
     "output_type": "display_data"
    },
    {
     "name": "stderr",
     "output_type": "stream",
     "text": [
      "/home/conda/autoice/d163ac953e591afe74a6e27636e7584eb349f707f4365d74b1eda380edb75a78-20221130-125246-700756-50-torch_v1/lib/python3.9/site-packages/torch/amp/autocast_mode.py:202: UserWarning: User provided device_type of 'cuda', but CUDA is not available. Disabling\n",
      "  warnings.warn('User provided device_type of \\'cuda\\', but CUDA is not available. Disabling')\n"
     ]
    },
    {
     "name": "stdout",
     "output_type": "stream",
     "text": [
      "Mean training loss: 1.571\r"
     ]
    },
    {
     "data": {
      "application/vnd.jupyter.widget-view+json": {
       "model_id": "7b7eb7b8769d490c87984804655a8580",
       "version_major": 2,
       "version_minor": 0
      },
      "text/plain": [
       "  0%|          | 0/10 [00:00<?, ?it/s]"
      ]
     },
     "metadata": {},
     "output_type": "display_data"
    },
    {
     "name": "stdout",
     "output_type": "stream",
     "text": [
      "\n",
      "Final batch loss: 1.351\n",
      "Epoch 27 score:\n",
      "SIC r2_metric: 79.896%\n",
      "SOD f1_metric: 84.216%\n",
      "FLOE f1_metric: 85.362%\n",
      "Combined score: 82.717%\n"
     ]
    },
    {
     "data": {
      "application/vnd.jupyter.widget-view+json": {
       "model_id": "871bea332a864d2eb5f17e9c98c55fac",
       "version_major": 2,
       "version_minor": 0
      },
      "text/plain": [
       "  0%|          | 0/500 [00:00<?, ?it/s]"
      ]
     },
     "metadata": {},
     "output_type": "display_data"
    },
    {
     "name": "stderr",
     "output_type": "stream",
     "text": [
      "/home/conda/autoice/d163ac953e591afe74a6e27636e7584eb349f707f4365d74b1eda380edb75a78-20221130-125246-700756-50-torch_v1/lib/python3.9/site-packages/torch/amp/autocast_mode.py:202: UserWarning: User provided device_type of 'cuda', but CUDA is not available. Disabling\n",
      "  warnings.warn('User provided device_type of \\'cuda\\', but CUDA is not available. Disabling')\n"
     ]
    },
    {
     "name": "stdout",
     "output_type": "stream",
     "text": [
      "Mean training loss: 1.623\r"
     ]
    },
    {
     "data": {
      "application/vnd.jupyter.widget-view+json": {
       "model_id": "173773fc66d248d6a66864efd19b87c5",
       "version_major": 2,
       "version_minor": 0
      },
      "text/plain": [
       "  0%|          | 0/10 [00:00<?, ?it/s]"
      ]
     },
     "metadata": {},
     "output_type": "display_data"
    },
    {
     "name": "stdout",
     "output_type": "stream",
     "text": [
      "\n",
      "Final batch loss: 0.976\n",
      "Epoch 28 score:\n",
      "SIC r2_metric: 76.226%\n",
      "SOD f1_metric: 84.13%\n",
      "FLOE f1_metric: 83.15%\n",
      "Combined score: 80.772%\n"
     ]
    },
    {
     "data": {
      "application/vnd.jupyter.widget-view+json": {
       "model_id": "2af41386886040928e2e24a832f8557b",
       "version_major": 2,
       "version_minor": 0
      },
      "text/plain": [
       "  0%|          | 0/500 [00:00<?, ?it/s]"
      ]
     },
     "metadata": {},
     "output_type": "display_data"
    },
    {
     "name": "stderr",
     "output_type": "stream",
     "text": [
      "/home/conda/autoice/d163ac953e591afe74a6e27636e7584eb349f707f4365d74b1eda380edb75a78-20221130-125246-700756-50-torch_v1/lib/python3.9/site-packages/torch/amp/autocast_mode.py:202: UserWarning: User provided device_type of 'cuda', but CUDA is not available. Disabling\n",
      "  warnings.warn('User provided device_type of \\'cuda\\', but CUDA is not available. Disabling')\n"
     ]
    },
    {
     "name": "stdout",
     "output_type": "stream",
     "text": [
      "Mean training loss: 1.581\r"
     ]
    },
    {
     "data": {
      "application/vnd.jupyter.widget-view+json": {
       "model_id": "31a90d7e930a4e2091a31ca973cfa49a",
       "version_major": 2,
       "version_minor": 0
      },
      "text/plain": [
       "  0%|          | 0/10 [00:00<?, ?it/s]"
      ]
     },
     "metadata": {},
     "output_type": "display_data"
    },
    {
     "name": "stdout",
     "output_type": "stream",
     "text": [
      "\n",
      "Final batch loss: 0.967\n",
      "Epoch 29 score:\n",
      "SIC r2_metric: 80.061%\n",
      "SOD f1_metric: 84.277%\n",
      "FLOE f1_metric: 83.774%\n",
      "Combined score: 82.49%\n"
     ]
    },
    {
     "data": {
      "application/vnd.jupyter.widget-view+json": {
       "model_id": "62e439538cac4848bcec47cc6fc42044",
       "version_major": 2,
       "version_minor": 0
      },
      "text/plain": [
       "  0%|          | 0/500 [00:00<?, ?it/s]"
      ]
     },
     "metadata": {},
     "output_type": "display_data"
    },
    {
     "name": "stderr",
     "output_type": "stream",
     "text": [
      "/home/conda/autoice/d163ac953e591afe74a6e27636e7584eb349f707f4365d74b1eda380edb75a78-20221130-125246-700756-50-torch_v1/lib/python3.9/site-packages/torch/amp/autocast_mode.py:202: UserWarning: User provided device_type of 'cuda', but CUDA is not available. Disabling\n",
      "  warnings.warn('User provided device_type of \\'cuda\\', but CUDA is not available. Disabling')\n"
     ]
    },
    {
     "name": "stdout",
     "output_type": "stream",
     "text": [
      "Mean training loss: 1.578\r"
     ]
    },
    {
     "data": {
      "application/vnd.jupyter.widget-view+json": {
       "model_id": "b15774872a024babbfef9ed0b8bbf0e4",
       "version_major": 2,
       "version_minor": 0
      },
      "text/plain": [
       "  0%|          | 0/10 [00:00<?, ?it/s]"
      ]
     },
     "metadata": {},
     "output_type": "display_data"
    },
    {
     "name": "stdout",
     "output_type": "stream",
     "text": [
      "\n",
      "Final batch loss: 1.563\n",
      "Epoch 30 score:\n",
      "SIC r2_metric: 79.467%\n",
      "SOD f1_metric: 83.702%\n",
      "FLOE f1_metric: 83.121%\n",
      "Combined score: 81.892%\n"
     ]
    },
    {
     "data": {
      "application/vnd.jupyter.widget-view+json": {
       "model_id": "cde8de74754846288a3dc478a0eaa718",
       "version_major": 2,
       "version_minor": 0
      },
      "text/plain": [
       "  0%|          | 0/500 [00:00<?, ?it/s]"
      ]
     },
     "metadata": {},
     "output_type": "display_data"
    },
    {
     "name": "stderr",
     "output_type": "stream",
     "text": [
      "/home/conda/autoice/d163ac953e591afe74a6e27636e7584eb349f707f4365d74b1eda380edb75a78-20221130-125246-700756-50-torch_v1/lib/python3.9/site-packages/torch/amp/autocast_mode.py:202: UserWarning: User provided device_type of 'cuda', but CUDA is not available. Disabling\n",
      "  warnings.warn('User provided device_type of \\'cuda\\', but CUDA is not available. Disabling')\n"
     ]
    },
    {
     "name": "stdout",
     "output_type": "stream",
     "text": [
      "Mean training loss: 1.637\r"
     ]
    },
    {
     "data": {
      "application/vnd.jupyter.widget-view+json": {
       "model_id": "9525d79816ab4cd0a73ba718575f1eb3",
       "version_major": 2,
       "version_minor": 0
      },
      "text/plain": [
       "  0%|          | 0/10 [00:00<?, ?it/s]"
      ]
     },
     "metadata": {},
     "output_type": "display_data"
    },
    {
     "name": "stdout",
     "output_type": "stream",
     "text": [
      "\n",
      "Final batch loss: 1.475\n",
      "Epoch 31 score:\n",
      "SIC r2_metric: 79.703%\n",
      "SOD f1_metric: 84.872%\n",
      "FLOE f1_metric: 83.526%\n",
      "Combined score: 82.535%\n"
     ]
    },
    {
     "data": {
      "application/vnd.jupyter.widget-view+json": {
       "model_id": "61c680f3445345358ec2494ee146ad8a",
       "version_major": 2,
       "version_minor": 0
      },
      "text/plain": [
       "  0%|          | 0/500 [00:00<?, ?it/s]"
      ]
     },
     "metadata": {},
     "output_type": "display_data"
    },
    {
     "name": "stderr",
     "output_type": "stream",
     "text": [
      "/home/conda/autoice/d163ac953e591afe74a6e27636e7584eb349f707f4365d74b1eda380edb75a78-20221130-125246-700756-50-torch_v1/lib/python3.9/site-packages/torch/amp/autocast_mode.py:202: UserWarning: User provided device_type of 'cuda', but CUDA is not available. Disabling\n",
      "  warnings.warn('User provided device_type of \\'cuda\\', but CUDA is not available. Disabling')\n"
     ]
    },
    {
     "name": "stdout",
     "output_type": "stream",
     "text": [
      "Mean training loss: 1.546\r"
     ]
    },
    {
     "data": {
      "application/vnd.jupyter.widget-view+json": {
       "model_id": "2333a8439e2a47fb8a2a9d51b21a167b",
       "version_major": 2,
       "version_minor": 0
      },
      "text/plain": [
       "  0%|          | 0/10 [00:00<?, ?it/s]"
      ]
     },
     "metadata": {},
     "output_type": "display_data"
    },
    {
     "name": "stdout",
     "output_type": "stream",
     "text": [
      "\n",
      "Final batch loss: 1.811\n",
      "Epoch 32 score:\n",
      "SIC r2_metric: 75.305%\n",
      "SOD f1_metric: 84.002%\n",
      "FLOE f1_metric: 82.657%\n",
      "Combined score: 80.254%\n"
     ]
    },
    {
     "data": {
      "application/vnd.jupyter.widget-view+json": {
       "model_id": "5620e5b2d958480888c2968d9c5ccb60",
       "version_major": 2,
       "version_minor": 0
      },
      "text/plain": [
       "  0%|          | 0/500 [00:00<?, ?it/s]"
      ]
     },
     "metadata": {},
     "output_type": "display_data"
    },
    {
     "name": "stderr",
     "output_type": "stream",
     "text": [
      "/home/conda/autoice/d163ac953e591afe74a6e27636e7584eb349f707f4365d74b1eda380edb75a78-20221130-125246-700756-50-torch_v1/lib/python3.9/site-packages/torch/amp/autocast_mode.py:202: UserWarning: User provided device_type of 'cuda', but CUDA is not available. Disabling\n",
      "  warnings.warn('User provided device_type of \\'cuda\\', but CUDA is not available. Disabling')\n"
     ]
    },
    {
     "name": "stdout",
     "output_type": "stream",
     "text": [
      "Mean training loss: 1.595\r"
     ]
    },
    {
     "data": {
      "application/vnd.jupyter.widget-view+json": {
       "model_id": "61c6550cf3734e99be71e2356fc80e76",
       "version_major": 2,
       "version_minor": 0
      },
      "text/plain": [
       "  0%|          | 0/10 [00:00<?, ?it/s]"
      ]
     },
     "metadata": {},
     "output_type": "display_data"
    },
    {
     "name": "stdout",
     "output_type": "stream",
     "text": [
      "\n",
      "Final batch loss: 2.831\n",
      "Epoch 33 score:\n",
      "SIC r2_metric: 81.209%\n",
      "SOD f1_metric: 86.002%\n",
      "FLOE f1_metric: 83.59%\n",
      "Combined score: 83.602%\n"
     ]
    },
    {
     "data": {
      "application/vnd.jupyter.widget-view+json": {
       "model_id": "f4f18ed6182a47789b3f91d3ab594fd1",
       "version_major": 2,
       "version_minor": 0
      },
      "text/plain": [
       "  0%|          | 0/500 [00:00<?, ?it/s]"
      ]
     },
     "metadata": {},
     "output_type": "display_data"
    },
    {
     "name": "stderr",
     "output_type": "stream",
     "text": [
      "/home/conda/autoice/d163ac953e591afe74a6e27636e7584eb349f707f4365d74b1eda380edb75a78-20221130-125246-700756-50-torch_v1/lib/python3.9/site-packages/torch/amp/autocast_mode.py:202: UserWarning: User provided device_type of 'cuda', but CUDA is not available. Disabling\n",
      "  warnings.warn('User provided device_type of \\'cuda\\', but CUDA is not available. Disabling')\n"
     ]
    },
    {
     "name": "stdout",
     "output_type": "stream",
     "text": [
      "Mean training loss: 1.625\r"
     ]
    },
    {
     "data": {
      "application/vnd.jupyter.widget-view+json": {
       "model_id": "936933f9356c43399b6f9750553581d3",
       "version_major": 2,
       "version_minor": 0
      },
      "text/plain": [
       "  0%|          | 0/10 [00:00<?, ?it/s]"
      ]
     },
     "metadata": {},
     "output_type": "display_data"
    },
    {
     "name": "stdout",
     "output_type": "stream",
     "text": [
      "\n",
      "Final batch loss: 1.241\n",
      "Epoch 34 score:\n",
      "SIC r2_metric: 80.419%\n",
      "SOD f1_metric: 81.892%\n",
      "FLOE f1_metric: 84.081%\n",
      "Combined score: 81.741%\n"
     ]
    },
    {
     "data": {
      "application/vnd.jupyter.widget-view+json": {
       "model_id": "c4b85af353194ffaa446143cf530ec4c",
       "version_major": 2,
       "version_minor": 0
      },
      "text/plain": [
       "  0%|          | 0/500 [00:00<?, ?it/s]"
      ]
     },
     "metadata": {},
     "output_type": "display_data"
    },
    {
     "name": "stderr",
     "output_type": "stream",
     "text": [
      "/home/conda/autoice/d163ac953e591afe74a6e27636e7584eb349f707f4365d74b1eda380edb75a78-20221130-125246-700756-50-torch_v1/lib/python3.9/site-packages/torch/amp/autocast_mode.py:202: UserWarning: User provided device_type of 'cuda', but CUDA is not available. Disabling\n",
      "  warnings.warn('User provided device_type of \\'cuda\\', but CUDA is not available. Disabling')\n"
     ]
    },
    {
     "name": "stdout",
     "output_type": "stream",
     "text": [
      "Mean training loss: 1.532\r"
     ]
    },
    {
     "data": {
      "application/vnd.jupyter.widget-view+json": {
       "model_id": "c1441db6cbe3449689aa725b9b84a721",
       "version_major": 2,
       "version_minor": 0
      },
      "text/plain": [
       "  0%|          | 0/10 [00:00<?, ?it/s]"
      ]
     },
     "metadata": {},
     "output_type": "display_data"
    },
    {
     "name": "stdout",
     "output_type": "stream",
     "text": [
      "\n",
      "Final batch loss: 0.829\n",
      "Epoch 35 score:\n",
      "SIC r2_metric: 84.001%\n",
      "SOD f1_metric: 83.533%\n",
      "FLOE f1_metric: 84.635%\n",
      "Combined score: 83.941%\n"
     ]
    },
    {
     "data": {
      "application/vnd.jupyter.widget-view+json": {
       "model_id": "f5061e18d43149c285a5e542a0be42bf",
       "version_major": 2,
       "version_minor": 0
      },
      "text/plain": [
       "  0%|          | 0/500 [00:00<?, ?it/s]"
      ]
     },
     "metadata": {},
     "output_type": "display_data"
    },
    {
     "name": "stderr",
     "output_type": "stream",
     "text": [
      "/home/conda/autoice/d163ac953e591afe74a6e27636e7584eb349f707f4365d74b1eda380edb75a78-20221130-125246-700756-50-torch_v1/lib/python3.9/site-packages/torch/amp/autocast_mode.py:202: UserWarning: User provided device_type of 'cuda', but CUDA is not available. Disabling\n",
      "  warnings.warn('User provided device_type of \\'cuda\\', but CUDA is not available. Disabling')\n"
     ]
    },
    {
     "name": "stdout",
     "output_type": "stream",
     "text": [
      "Mean training loss: 1.570\r"
     ]
    },
    {
     "data": {
      "application/vnd.jupyter.widget-view+json": {
       "model_id": "a5fbbc92fa2d4dd1bc163ae4d96b8096",
       "version_major": 2,
       "version_minor": 0
      },
      "text/plain": [
       "  0%|          | 0/10 [00:00<?, ?it/s]"
      ]
     },
     "metadata": {},
     "output_type": "display_data"
    },
    {
     "name": "stdout",
     "output_type": "stream",
     "text": [
      "\n",
      "Final batch loss: 2.508\n",
      "Epoch 36 score:\n",
      "SIC r2_metric: 76.501%\n",
      "SOD f1_metric: 84.658%\n",
      "FLOE f1_metric: 82.042%\n",
      "Combined score: 80.872%\n"
     ]
    },
    {
     "data": {
      "application/vnd.jupyter.widget-view+json": {
       "model_id": "e109fe10dc504507aeab40db287d2ebd",
       "version_major": 2,
       "version_minor": 0
      },
      "text/plain": [
       "  0%|          | 0/500 [00:00<?, ?it/s]"
      ]
     },
     "metadata": {},
     "output_type": "display_data"
    },
    {
     "name": "stderr",
     "output_type": "stream",
     "text": [
      "/home/conda/autoice/d163ac953e591afe74a6e27636e7584eb349f707f4365d74b1eda380edb75a78-20221130-125246-700756-50-torch_v1/lib/python3.9/site-packages/torch/amp/autocast_mode.py:202: UserWarning: User provided device_type of 'cuda', but CUDA is not available. Disabling\n",
      "  warnings.warn('User provided device_type of \\'cuda\\', but CUDA is not available. Disabling')\n"
     ]
    },
    {
     "name": "stdout",
     "output_type": "stream",
     "text": [
      "Mean training loss: 1.546\r"
     ]
    },
    {
     "data": {
      "application/vnd.jupyter.widget-view+json": {
       "model_id": "6469b5b66a0d44b4a61876275c5f34e1",
       "version_major": 2,
       "version_minor": 0
      },
      "text/plain": [
       "  0%|          | 0/10 [00:00<?, ?it/s]"
      ]
     },
     "metadata": {},
     "output_type": "display_data"
    },
    {
     "name": "stdout",
     "output_type": "stream",
     "text": [
      "\n",
      "Final batch loss: 2.201\n",
      "Epoch 37 score:\n",
      "SIC r2_metric: 82.215%\n",
      "SOD f1_metric: 84.859%\n",
      "FLOE f1_metric: 84.503%\n",
      "Combined score: 83.73%\n"
     ]
    },
    {
     "data": {
      "application/vnd.jupyter.widget-view+json": {
       "model_id": "ff7f4ababbcb49b5908853aed7956587",
       "version_major": 2,
       "version_minor": 0
      },
      "text/plain": [
       "  0%|          | 0/500 [00:00<?, ?it/s]"
      ]
     },
     "metadata": {},
     "output_type": "display_data"
    },
    {
     "name": "stderr",
     "output_type": "stream",
     "text": [
      "/home/conda/autoice/d163ac953e591afe74a6e27636e7584eb349f707f4365d74b1eda380edb75a78-20221130-125246-700756-50-torch_v1/lib/python3.9/site-packages/torch/amp/autocast_mode.py:202: UserWarning: User provided device_type of 'cuda', but CUDA is not available. Disabling\n",
      "  warnings.warn('User provided device_type of \\'cuda\\', but CUDA is not available. Disabling')\n"
     ]
    },
    {
     "name": "stdout",
     "output_type": "stream",
     "text": [
      "Mean training loss: 1.557\r"
     ]
    },
    {
     "data": {
      "application/vnd.jupyter.widget-view+json": {
       "model_id": "72ffa1be4dea46f4a9c50bae2bdbbad8",
       "version_major": 2,
       "version_minor": 0
      },
      "text/plain": [
       "  0%|          | 0/10 [00:00<?, ?it/s]"
      ]
     },
     "metadata": {},
     "output_type": "display_data"
    },
    {
     "name": "stdout",
     "output_type": "stream",
     "text": [
      "\n",
      "Final batch loss: 0.918\n",
      "Epoch 38 score:\n",
      "SIC r2_metric: 81.232%\n",
      "SOD f1_metric: 83.216%\n",
      "FLOE f1_metric: 83.721%\n",
      "Combined score: 82.523%\n"
     ]
    },
    {
     "data": {
      "application/vnd.jupyter.widget-view+json": {
       "model_id": "811852da26a643658e4d22177cd3aee0",
       "version_major": 2,
       "version_minor": 0
      },
      "text/plain": [
       "  0%|          | 0/500 [00:00<?, ?it/s]"
      ]
     },
     "metadata": {},
     "output_type": "display_data"
    },
    {
     "name": "stderr",
     "output_type": "stream",
     "text": [
      "/home/conda/autoice/d163ac953e591afe74a6e27636e7584eb349f707f4365d74b1eda380edb75a78-20221130-125246-700756-50-torch_v1/lib/python3.9/site-packages/torch/amp/autocast_mode.py:202: UserWarning: User provided device_type of 'cuda', but CUDA is not available. Disabling\n",
      "  warnings.warn('User provided device_type of \\'cuda\\', but CUDA is not available. Disabling')\n"
     ]
    },
    {
     "name": "stdout",
     "output_type": "stream",
     "text": [
      "Mean training loss: 1.585\r"
     ]
    },
    {
     "data": {
      "application/vnd.jupyter.widget-view+json": {
       "model_id": "f868c3fafb32448f9bc8cac030e47b6a",
       "version_major": 2,
       "version_minor": 0
      },
      "text/plain": [
       "  0%|          | 0/10 [00:00<?, ?it/s]"
      ]
     },
     "metadata": {},
     "output_type": "display_data"
    },
    {
     "name": "stdout",
     "output_type": "stream",
     "text": [
      "\n",
      "Final batch loss: 0.983\n",
      "Epoch 39 score:\n",
      "SIC r2_metric: 80.684%\n",
      "SOD f1_metric: 86.754%\n",
      "FLOE f1_metric: 84.424%\n",
      "Combined score: 83.86%\n"
     ]
    },
    {
     "data": {
      "application/vnd.jupyter.widget-view+json": {
       "model_id": "de8784dca9fc4f7593b7f2330b8d4586",
       "version_major": 2,
       "version_minor": 0
      },
      "text/plain": [
       "  0%|          | 0/500 [00:00<?, ?it/s]"
      ]
     },
     "metadata": {},
     "output_type": "display_data"
    },
    {
     "name": "stderr",
     "output_type": "stream",
     "text": [
      "/home/conda/autoice/d163ac953e591afe74a6e27636e7584eb349f707f4365d74b1eda380edb75a78-20221130-125246-700756-50-torch_v1/lib/python3.9/site-packages/torch/amp/autocast_mode.py:202: UserWarning: User provided device_type of 'cuda', but CUDA is not available. Disabling\n",
      "  warnings.warn('User provided device_type of \\'cuda\\', but CUDA is not available. Disabling')\n"
     ]
    },
    {
     "name": "stdout",
     "output_type": "stream",
     "text": [
      "Mean training loss: 1.525\r"
     ]
    },
    {
     "data": {
      "application/vnd.jupyter.widget-view+json": {
       "model_id": "4df8b026bca442d097d04d075a097ed3",
       "version_major": 2,
       "version_minor": 0
      },
      "text/plain": [
       "  0%|          | 0/10 [00:00<?, ?it/s]"
      ]
     },
     "metadata": {},
     "output_type": "display_data"
    },
    {
     "name": "stdout",
     "output_type": "stream",
     "text": [
      "\n",
      "Final batch loss: 1.553\n",
      "Epoch 40 score:\n",
      "SIC r2_metric: 80.195%\n",
      "SOD f1_metric: 87.785%\n",
      "FLOE f1_metric: 84.592%\n",
      "Combined score: 84.11%\n"
     ]
    },
    {
     "data": {
      "application/vnd.jupyter.widget-view+json": {
       "model_id": "0da350e580f246228ccbf21779599110",
       "version_major": 2,
       "version_minor": 0
      },
      "text/plain": [
       "  0%|          | 0/500 [00:00<?, ?it/s]"
      ]
     },
     "metadata": {},
     "output_type": "display_data"
    },
    {
     "name": "stderr",
     "output_type": "stream",
     "text": [
      "/home/conda/autoice/d163ac953e591afe74a6e27636e7584eb349f707f4365d74b1eda380edb75a78-20221130-125246-700756-50-torch_v1/lib/python3.9/site-packages/torch/amp/autocast_mode.py:202: UserWarning: User provided device_type of 'cuda', but CUDA is not available. Disabling\n",
      "  warnings.warn('User provided device_type of \\'cuda\\', but CUDA is not available. Disabling')\n"
     ]
    },
    {
     "name": "stdout",
     "output_type": "stream",
     "text": [
      "Mean training loss: 1.586\r"
     ]
    },
    {
     "ename": "MlflowException",
     "evalue": "(sqlite3.OperationalError) database is locked\n(Background on this error at: https://sqlalche.me/e/14/e3q8)",
     "output_type": "error",
     "traceback": [
      "\u001b[0;31m---------------------------------------------------------------------------\u001b[0m",
      "\u001b[0;31mOperationalError\u001b[0m                          Traceback (most recent call last)",
      "File \u001b[0;32m/home/conda/autoice/d163ac953e591afe74a6e27636e7584eb349f707f4365d74b1eda380edb75a78-20221130-125246-700756-50-torch_v1/lib/python3.9/site-packages/sqlalchemy/engine/base.py:1089\u001b[0m, in \u001b[0;36mConnection._commit_impl\u001b[0;34m(self, autocommit)\u001b[0m\n\u001b[1;32m   1088\u001b[0m \u001b[38;5;28;01mtry\u001b[39;00m:\n\u001b[0;32m-> 1089\u001b[0m     \u001b[38;5;28;43mself\u001b[39;49m\u001b[38;5;241;43m.\u001b[39;49m\u001b[43mengine\u001b[49m\u001b[38;5;241;43m.\u001b[39;49m\u001b[43mdialect\u001b[49m\u001b[38;5;241;43m.\u001b[39;49m\u001b[43mdo_commit\u001b[49m\u001b[43m(\u001b[49m\u001b[38;5;28;43mself\u001b[39;49m\u001b[38;5;241;43m.\u001b[39;49m\u001b[43mconnection\u001b[49m\u001b[43m)\u001b[49m\n\u001b[1;32m   1090\u001b[0m \u001b[38;5;28;01mexcept\u001b[39;00m \u001b[38;5;167;01mBaseException\u001b[39;00m \u001b[38;5;28;01mas\u001b[39;00m e:\n",
      "File \u001b[0;32m/home/conda/autoice/d163ac953e591afe74a6e27636e7584eb349f707f4365d74b1eda380edb75a78-20221130-125246-700756-50-torch_v1/lib/python3.9/site-packages/sqlalchemy/engine/default.py:686\u001b[0m, in \u001b[0;36mDefaultDialect.do_commit\u001b[0;34m(self, dbapi_connection)\u001b[0m\n\u001b[1;32m    685\u001b[0m \u001b[38;5;28;01mdef\u001b[39;00m \u001b[38;5;21mdo_commit\u001b[39m(\u001b[38;5;28mself\u001b[39m, dbapi_connection):\n\u001b[0;32m--> 686\u001b[0m     \u001b[43mdbapi_connection\u001b[49m\u001b[38;5;241;43m.\u001b[39;49m\u001b[43mcommit\u001b[49m\u001b[43m(\u001b[49m\u001b[43m)\u001b[49m\n",
      "\u001b[0;31mOperationalError\u001b[0m: database is locked",
      "\nThe above exception was the direct cause of the following exception:\n",
      "\u001b[0;31mOperationalError\u001b[0m                          Traceback (most recent call last)",
      "File \u001b[0;32m/home/conda/autoice/d163ac953e591afe74a6e27636e7584eb349f707f4365d74b1eda380edb75a78-20221130-125246-700756-50-torch_v1/lib/python3.9/site-packages/mlflow/store/db/utils.py:98\u001b[0m, in \u001b[0;36m_get_managed_session_maker.<locals>.make_managed_session\u001b[0;34m()\u001b[0m\n\u001b[1;32m     97\u001b[0m     session\u001b[38;5;241m.\u001b[39mexecute(sql\u001b[38;5;241m.\u001b[39mtext(\u001b[38;5;124m\"\u001b[39m\u001b[38;5;124mPRAGMA case_sensitive_like = true;\u001b[39m\u001b[38;5;124m\"\u001b[39m))\n\u001b[0;32m---> 98\u001b[0m \u001b[38;5;28;01myield\u001b[39;00m session\n\u001b[1;32m     99\u001b[0m session\u001b[38;5;241m.\u001b[39mcommit()\n",
      "File \u001b[0;32m/home/conda/autoice/d163ac953e591afe74a6e27636e7584eb349f707f4365d74b1eda380edb75a78-20221130-125246-700756-50-torch_v1/lib/python3.9/site-packages/mlflow/store/tracking/sqlalchemy_store.py:761\u001b[0m, in \u001b[0;36mSqlAlchemyStore._log_metrics\u001b[0;34m(self, run_id, metrics)\u001b[0m\n\u001b[1;32m    760\u001b[0m \u001b[38;5;28;01mtry\u001b[39;00m:\n\u001b[0;32m--> 761\u001b[0m     \u001b[43m_insert_metrics\u001b[49m\u001b[43m(\u001b[49m\u001b[43mmetric_instances\u001b[49m\u001b[43m)\u001b[49m\n\u001b[1;32m    762\u001b[0m \u001b[38;5;28;01mexcept\u001b[39;00m sqlalchemy\u001b[38;5;241m.\u001b[39mexc\u001b[38;5;241m.\u001b[39mIntegrityError:\n\u001b[1;32m    763\u001b[0m     \u001b[38;5;66;03m# Primary key can be violated if it is tried to log a metric with same value,\u001b[39;00m\n\u001b[1;32m    764\u001b[0m     \u001b[38;5;66;03m# timestamp, step, and key within the same run.\u001b[39;00m\n\u001b[0;32m   (...)\u001b[0m\n\u001b[1;32m    767\u001b[0m     \u001b[38;5;66;03m# continue using the session. In this case, we re-use the session to query\u001b[39;00m\n\u001b[1;32m    768\u001b[0m     \u001b[38;5;66;03m# SqlMetric\u001b[39;00m\n",
      "File \u001b[0;32m/home/conda/autoice/d163ac953e591afe74a6e27636e7584eb349f707f4365d74b1eda380edb75a78-20221130-125246-700756-50-torch_v1/lib/python3.9/site-packages/mlflow/store/tracking/sqlalchemy_store.py:758\u001b[0m, in \u001b[0;36mSqlAlchemyStore._log_metrics.<locals>._insert_metrics\u001b[0;34m(metric_instances)\u001b[0m\n\u001b[1;32m    757\u001b[0m \u001b[38;5;28mself\u001b[39m\u001b[38;5;241m.\u001b[39m_update_latest_metrics_if_necessary(metric_instances, session)\n\u001b[0;32m--> 758\u001b[0m \u001b[43msession\u001b[49m\u001b[38;5;241;43m.\u001b[39;49m\u001b[43mcommit\u001b[49m\u001b[43m(\u001b[49m\u001b[43m)\u001b[49m\n",
      "File \u001b[0;32m/home/conda/autoice/d163ac953e591afe74a6e27636e7584eb349f707f4365d74b1eda380edb75a78-20221130-125246-700756-50-torch_v1/lib/python3.9/site-packages/sqlalchemy/orm/session.py:1451\u001b[0m, in \u001b[0;36mSession.commit\u001b[0;34m(self)\u001b[0m\n\u001b[1;32m   1449\u001b[0m         \u001b[38;5;28;01mraise\u001b[39;00m sa_exc\u001b[38;5;241m.\u001b[39mInvalidRequestError(\u001b[38;5;124m\"\u001b[39m\u001b[38;5;124mNo transaction is begun.\u001b[39m\u001b[38;5;124m\"\u001b[39m)\n\u001b[0;32m-> 1451\u001b[0m \u001b[38;5;28;43mself\u001b[39;49m\u001b[38;5;241;43m.\u001b[39;49m\u001b[43m_transaction\u001b[49m\u001b[38;5;241;43m.\u001b[39;49m\u001b[43mcommit\u001b[49m\u001b[43m(\u001b[49m\u001b[43m_to_root\u001b[49m\u001b[38;5;241;43m=\u001b[39;49m\u001b[38;5;28;43mself\u001b[39;49m\u001b[38;5;241;43m.\u001b[39;49m\u001b[43mfuture\u001b[49m\u001b[43m)\u001b[49m\n",
      "File \u001b[0;32m/home/conda/autoice/d163ac953e591afe74a6e27636e7584eb349f707f4365d74b1eda380edb75a78-20221130-125246-700756-50-torch_v1/lib/python3.9/site-packages/sqlalchemy/orm/session.py:836\u001b[0m, in \u001b[0;36mSessionTransaction.commit\u001b[0;34m(self, _to_root)\u001b[0m\n\u001b[1;32m    835\u001b[0m     \u001b[38;5;28;01mif\u001b[39;00m should_commit:\n\u001b[0;32m--> 836\u001b[0m         \u001b[43mtrans\u001b[49m\u001b[38;5;241;43m.\u001b[39;49m\u001b[43mcommit\u001b[49m\u001b[43m(\u001b[49m\u001b[43m)\u001b[49m\n\u001b[1;32m    838\u001b[0m \u001b[38;5;28mself\u001b[39m\u001b[38;5;241m.\u001b[39m_state \u001b[38;5;241m=\u001b[39m COMMITTED\n",
      "File \u001b[0;32m/home/conda/autoice/d163ac953e591afe74a6e27636e7584eb349f707f4365d74b1eda380edb75a78-20221130-125246-700756-50-torch_v1/lib/python3.9/site-packages/sqlalchemy/engine/base.py:2459\u001b[0m, in \u001b[0;36mTransaction.commit\u001b[0;34m(self)\u001b[0m\n\u001b[1;32m   2458\u001b[0m \u001b[38;5;28;01mtry\u001b[39;00m:\n\u001b[0;32m-> 2459\u001b[0m     \u001b[38;5;28;43mself\u001b[39;49m\u001b[38;5;241;43m.\u001b[39;49m\u001b[43m_do_commit\u001b[49m\u001b[43m(\u001b[49m\u001b[43m)\u001b[49m\n\u001b[1;32m   2460\u001b[0m \u001b[38;5;28;01mfinally\u001b[39;00m:\n",
      "File \u001b[0;32m/home/conda/autoice/d163ac953e591afe74a6e27636e7584eb349f707f4365d74b1eda380edb75a78-20221130-125246-700756-50-torch_v1/lib/python3.9/site-packages/sqlalchemy/engine/base.py:2649\u001b[0m, in \u001b[0;36mRootTransaction._do_commit\u001b[0;34m(self)\u001b[0m\n\u001b[1;32m   2648\u001b[0m \u001b[38;5;28;01mtry\u001b[39;00m:\n\u001b[0;32m-> 2649\u001b[0m     \u001b[38;5;28;43mself\u001b[39;49m\u001b[38;5;241;43m.\u001b[39;49m\u001b[43m_connection_commit_impl\u001b[49m\u001b[43m(\u001b[49m\u001b[43m)\u001b[49m\n\u001b[1;32m   2650\u001b[0m \u001b[38;5;28;01mfinally\u001b[39;00m:\n\u001b[1;32m   2651\u001b[0m     \u001b[38;5;66;03m# whether or not commit succeeds, cancel any\u001b[39;00m\n\u001b[1;32m   2652\u001b[0m     \u001b[38;5;66;03m# nested transactions, make this transaction \"inactive\"\u001b[39;00m\n\u001b[1;32m   2653\u001b[0m     \u001b[38;5;66;03m# and remove it as a reset agent\u001b[39;00m\n",
      "File \u001b[0;32m/home/conda/autoice/d163ac953e591afe74a6e27636e7584eb349f707f4365d74b1eda380edb75a78-20221130-125246-700756-50-torch_v1/lib/python3.9/site-packages/sqlalchemy/engine/base.py:2620\u001b[0m, in \u001b[0;36mRootTransaction._connection_commit_impl\u001b[0;34m(self)\u001b[0m\n\u001b[1;32m   2619\u001b[0m \u001b[38;5;28;01mdef\u001b[39;00m \u001b[38;5;21m_connection_commit_impl\u001b[39m(\u001b[38;5;28mself\u001b[39m):\n\u001b[0;32m-> 2620\u001b[0m     \u001b[38;5;28;43mself\u001b[39;49m\u001b[38;5;241;43m.\u001b[39;49m\u001b[43mconnection\u001b[49m\u001b[38;5;241;43m.\u001b[39;49m\u001b[43m_commit_impl\u001b[49m\u001b[43m(\u001b[49m\u001b[43m)\u001b[49m\n",
      "File \u001b[0;32m/home/conda/autoice/d163ac953e591afe74a6e27636e7584eb349f707f4365d74b1eda380edb75a78-20221130-125246-700756-50-torch_v1/lib/python3.9/site-packages/sqlalchemy/engine/base.py:1091\u001b[0m, in \u001b[0;36mConnection._commit_impl\u001b[0;34m(self, autocommit)\u001b[0m\n\u001b[1;32m   1090\u001b[0m \u001b[38;5;28;01mexcept\u001b[39;00m \u001b[38;5;167;01mBaseException\u001b[39;00m \u001b[38;5;28;01mas\u001b[39;00m e:\n\u001b[0;32m-> 1091\u001b[0m     \u001b[38;5;28;43mself\u001b[39;49m\u001b[38;5;241;43m.\u001b[39;49m\u001b[43m_handle_dbapi_exception\u001b[49m\u001b[43m(\u001b[49m\u001b[43me\u001b[49m\u001b[43m,\u001b[49m\u001b[43m \u001b[49m\u001b[38;5;28;43;01mNone\u001b[39;49;00m\u001b[43m,\u001b[49m\u001b[43m \u001b[49m\u001b[38;5;28;43;01mNone\u001b[39;49;00m\u001b[43m,\u001b[49m\u001b[43m \u001b[49m\u001b[38;5;28;43;01mNone\u001b[39;49;00m\u001b[43m,\u001b[49m\u001b[43m \u001b[49m\u001b[38;5;28;43;01mNone\u001b[39;49;00m\u001b[43m)\u001b[49m\n",
      "File \u001b[0;32m/home/conda/autoice/d163ac953e591afe74a6e27636e7584eb349f707f4365d74b1eda380edb75a78-20221130-125246-700756-50-torch_v1/lib/python3.9/site-packages/sqlalchemy/engine/base.py:2124\u001b[0m, in \u001b[0;36mConnection._handle_dbapi_exception\u001b[0;34m(self, e, statement, parameters, cursor, context)\u001b[0m\n\u001b[1;32m   2123\u001b[0m \u001b[38;5;28;01melif\u001b[39;00m should_wrap:\n\u001b[0;32m-> 2124\u001b[0m     \u001b[43mutil\u001b[49m\u001b[38;5;241;43m.\u001b[39;49m\u001b[43mraise_\u001b[49m\u001b[43m(\u001b[49m\n\u001b[1;32m   2125\u001b[0m \u001b[43m        \u001b[49m\u001b[43msqlalchemy_exception\u001b[49m\u001b[43m,\u001b[49m\u001b[43m \u001b[49m\u001b[43mwith_traceback\u001b[49m\u001b[38;5;241;43m=\u001b[39;49m\u001b[43mexc_info\u001b[49m\u001b[43m[\u001b[49m\u001b[38;5;241;43m2\u001b[39;49m\u001b[43m]\u001b[49m\u001b[43m,\u001b[49m\u001b[43m \u001b[49m\u001b[43mfrom_\u001b[49m\u001b[38;5;241;43m=\u001b[39;49m\u001b[43me\u001b[49m\n\u001b[1;32m   2126\u001b[0m \u001b[43m    \u001b[49m\u001b[43m)\u001b[49m\n\u001b[1;32m   2127\u001b[0m \u001b[38;5;28;01melse\u001b[39;00m:\n",
      "File \u001b[0;32m/home/conda/autoice/d163ac953e591afe74a6e27636e7584eb349f707f4365d74b1eda380edb75a78-20221130-125246-700756-50-torch_v1/lib/python3.9/site-packages/sqlalchemy/util/compat.py:210\u001b[0m, in \u001b[0;36mraise_\u001b[0;34m(***failed resolving arguments***)\u001b[0m\n\u001b[1;32m    209\u001b[0m \u001b[38;5;28;01mtry\u001b[39;00m:\n\u001b[0;32m--> 210\u001b[0m     \u001b[38;5;28;01mraise\u001b[39;00m exception\n\u001b[1;32m    211\u001b[0m \u001b[38;5;28;01mfinally\u001b[39;00m:\n\u001b[1;32m    212\u001b[0m     \u001b[38;5;66;03m# credit to\u001b[39;00m\n\u001b[1;32m    213\u001b[0m     \u001b[38;5;66;03m# https://cosmicpercolator.com/2016/01/13/exception-leaks-in-python-2-and-3/\u001b[39;00m\n\u001b[1;32m    214\u001b[0m     \u001b[38;5;66;03m# as the __traceback__ object creates a cycle\u001b[39;00m\n",
      "File \u001b[0;32m/home/conda/autoice/d163ac953e591afe74a6e27636e7584eb349f707f4365d74b1eda380edb75a78-20221130-125246-700756-50-torch_v1/lib/python3.9/site-packages/sqlalchemy/engine/base.py:1089\u001b[0m, in \u001b[0;36mConnection._commit_impl\u001b[0;34m(self, autocommit)\u001b[0m\n\u001b[1;32m   1088\u001b[0m \u001b[38;5;28;01mtry\u001b[39;00m:\n\u001b[0;32m-> 1089\u001b[0m     \u001b[38;5;28;43mself\u001b[39;49m\u001b[38;5;241;43m.\u001b[39;49m\u001b[43mengine\u001b[49m\u001b[38;5;241;43m.\u001b[39;49m\u001b[43mdialect\u001b[49m\u001b[38;5;241;43m.\u001b[39;49m\u001b[43mdo_commit\u001b[49m\u001b[43m(\u001b[49m\u001b[38;5;28;43mself\u001b[39;49m\u001b[38;5;241;43m.\u001b[39;49m\u001b[43mconnection\u001b[49m\u001b[43m)\u001b[49m\n\u001b[1;32m   1090\u001b[0m \u001b[38;5;28;01mexcept\u001b[39;00m \u001b[38;5;167;01mBaseException\u001b[39;00m \u001b[38;5;28;01mas\u001b[39;00m e:\n",
      "File \u001b[0;32m/home/conda/autoice/d163ac953e591afe74a6e27636e7584eb349f707f4365d74b1eda380edb75a78-20221130-125246-700756-50-torch_v1/lib/python3.9/site-packages/sqlalchemy/engine/default.py:686\u001b[0m, in \u001b[0;36mDefaultDialect.do_commit\u001b[0;34m(self, dbapi_connection)\u001b[0m\n\u001b[1;32m    685\u001b[0m \u001b[38;5;28;01mdef\u001b[39;00m \u001b[38;5;21mdo_commit\u001b[39m(\u001b[38;5;28mself\u001b[39m, dbapi_connection):\n\u001b[0;32m--> 686\u001b[0m     \u001b[43mdbapi_connection\u001b[49m\u001b[38;5;241;43m.\u001b[39;49m\u001b[43mcommit\u001b[49m\u001b[43m(\u001b[49m\u001b[43m)\u001b[49m\n",
      "\u001b[0;31mOperationalError\u001b[0m: (sqlite3.OperationalError) database is locked\n(Background on this error at: https://sqlalche.me/e/14/e3q8)",
      "\nDuring handling of the above exception, another exception occurred:\n",
      "\u001b[0;31mMlflowException\u001b[0m                           Traceback (most recent call last)",
      "Cell \u001b[0;32mIn [7], line 27\u001b[0m\n\u001b[1;32m     26\u001b[0m         loss_batch \u001b[38;5;241m+\u001b[39m\u001b[38;5;241m=\u001b[39m loss_functions[chart](\u001b[38;5;28minput\u001b[39m\u001b[38;5;241m=\u001b[39moutput[chart], target\u001b[38;5;241m=\u001b[39mbatch_y[chart]\u001b[38;5;241m.\u001b[39mto(device))\n\u001b[0;32m---> 27\u001b[0m         \u001b[43mmlflow\u001b[49m\u001b[38;5;241;43m.\u001b[39;49m\u001b[43mlog_metric\u001b[49m\u001b[43m(\u001b[49m\u001b[43mkey\u001b[49m\u001b[38;5;241;43m=\u001b[39;49m\u001b[38;5;124;43m\"\u001b[39;49m\u001b[38;5;124;43mchart_loss\u001b[39;49m\u001b[38;5;124;43m\"\u001b[39;49m\u001b[43m,\u001b[49m\u001b[43m \u001b[49m\u001b[43mvalue\u001b[49m\u001b[38;5;241;43m=\u001b[39;49m\u001b[43mloss_batch\u001b[49m\u001b[43m)\u001b[49m\n\u001b[1;32m     29\u001b[0m \u001b[38;5;66;03m# - Reset gradients from previous pass.\u001b[39;00m\n",
      "File \u001b[0;32m/home/conda/autoice/d163ac953e591afe74a6e27636e7584eb349f707f4365d74b1eda380edb75a78-20221130-125246-700756-50-torch_v1/lib/python3.9/site-packages/mlflow/tracking/fluent.py:644\u001b[0m, in \u001b[0;36mlog_metric\u001b[0;34m(key, value, step)\u001b[0m\n\u001b[1;32m    643\u001b[0m run_id \u001b[38;5;241m=\u001b[39m _get_or_start_run()\u001b[38;5;241m.\u001b[39minfo\u001b[38;5;241m.\u001b[39mrun_id\n\u001b[0;32m--> 644\u001b[0m \u001b[43mMlflowClient\u001b[49m\u001b[43m(\u001b[49m\u001b[43m)\u001b[49m\u001b[38;5;241;43m.\u001b[39;49m\u001b[43mlog_metric\u001b[49m\u001b[43m(\u001b[49m\u001b[43mrun_id\u001b[49m\u001b[43m,\u001b[49m\u001b[43m \u001b[49m\u001b[43mkey\u001b[49m\u001b[43m,\u001b[49m\u001b[43m \u001b[49m\u001b[43mvalue\u001b[49m\u001b[43m,\u001b[49m\u001b[43m \u001b[49m\u001b[43mget_current_time_millis\u001b[49m\u001b[43m(\u001b[49m\u001b[43m)\u001b[49m\u001b[43m,\u001b[49m\u001b[43m \u001b[49m\u001b[43mstep\u001b[49m\u001b[43m \u001b[49m\u001b[38;5;129;43;01mor\u001b[39;49;00m\u001b[43m \u001b[49m\u001b[38;5;241;43m0\u001b[39;49m\u001b[43m)\u001b[49m\n",
      "File \u001b[0;32m/home/conda/autoice/d163ac953e591afe74a6e27636e7584eb349f707f4365d74b1eda380edb75a78-20221130-125246-700756-50-torch_v1/lib/python3.9/site-packages/mlflow/tracking/client.py:821\u001b[0m, in \u001b[0;36mMlflowClient.log_metric\u001b[0;34m(self, run_id, key, value, timestamp, step)\u001b[0m\n\u001b[1;32m    766\u001b[0m \u001b[38;5;124;03m\"\"\"\u001b[39;00m\n\u001b[1;32m    767\u001b[0m \u001b[38;5;124;03mLog a metric against the run ID.\u001b[39;00m\n\u001b[1;32m    768\u001b[0m \n\u001b[0;32m   (...)\u001b[0m\n\u001b[1;32m    819\u001b[0m \u001b[38;5;124;03m    status: FINISHED\u001b[39;00m\n\u001b[1;32m    820\u001b[0m \u001b[38;5;124;03m\"\"\"\u001b[39;00m\n\u001b[0;32m--> 821\u001b[0m \u001b[38;5;28;43mself\u001b[39;49m\u001b[38;5;241;43m.\u001b[39;49m\u001b[43m_tracking_client\u001b[49m\u001b[38;5;241;43m.\u001b[39;49m\u001b[43mlog_metric\u001b[49m\u001b[43m(\u001b[49m\u001b[43mrun_id\u001b[49m\u001b[43m,\u001b[49m\u001b[43m \u001b[49m\u001b[43mkey\u001b[49m\u001b[43m,\u001b[49m\u001b[43m \u001b[49m\u001b[43mvalue\u001b[49m\u001b[43m,\u001b[49m\u001b[43m \u001b[49m\u001b[43mtimestamp\u001b[49m\u001b[43m,\u001b[49m\u001b[43m \u001b[49m\u001b[43mstep\u001b[49m\u001b[43m)\u001b[49m\n",
      "File \u001b[0;32m/home/conda/autoice/d163ac953e591afe74a6e27636e7584eb349f707f4365d74b1eda380edb75a78-20221130-125246-700756-50-torch_v1/lib/python3.9/site-packages/mlflow/tracking/_tracking_service/client.py:307\u001b[0m, in \u001b[0;36mTrackingServiceClient.log_metric\u001b[0;34m(self, run_id, key, value, timestamp, step)\u001b[0m\n\u001b[1;32m    306\u001b[0m metric \u001b[38;5;241m=\u001b[39m Metric(key, metric_value, timestamp, step)\n\u001b[0;32m--> 307\u001b[0m \u001b[38;5;28;43mself\u001b[39;49m\u001b[38;5;241;43m.\u001b[39;49m\u001b[43mstore\u001b[49m\u001b[38;5;241;43m.\u001b[39;49m\u001b[43mlog_metric\u001b[49m\u001b[43m(\u001b[49m\u001b[43mrun_id\u001b[49m\u001b[43m,\u001b[49m\u001b[43m \u001b[49m\u001b[43mmetric\u001b[49m\u001b[43m)\u001b[49m\n",
      "File \u001b[0;32m/home/conda/autoice/d163ac953e591afe74a6e27636e7584eb349f707f4365d74b1eda380edb75a78-20221130-125246-700756-50-torch_v1/lib/python3.9/site-packages/mlflow/store/tracking/sqlalchemy_store.py:726\u001b[0m, in \u001b[0;36mSqlAlchemyStore.log_metric\u001b[0;34m(self, run_id, metric)\u001b[0m\n\u001b[1;32m    724\u001b[0m \u001b[38;5;28;01mdef\u001b[39;00m \u001b[38;5;21mlog_metric\u001b[39m(\u001b[38;5;28mself\u001b[39m, run_id, metric):\n\u001b[1;32m    725\u001b[0m     \u001b[38;5;66;03m# simply call _log_metrics and let it handle the rest\u001b[39;00m\n\u001b[0;32m--> 726\u001b[0m     \u001b[38;5;28;43mself\u001b[39;49m\u001b[38;5;241;43m.\u001b[39;49m\u001b[43m_log_metrics\u001b[49m\u001b[43m(\u001b[49m\u001b[43mrun_id\u001b[49m\u001b[43m,\u001b[49m\u001b[43m \u001b[49m\u001b[43m[\u001b[49m\u001b[43mmetric\u001b[49m\u001b[43m]\u001b[49m\u001b[43m)\u001b[49m\n",
      "File \u001b[0;32m/home/conda/autoice/d163ac953e591afe74a6e27636e7584eb349f707f4365d74b1eda380edb75a78-20221130-125246-700756-50-torch_v1/lib/python3.9/site-packages/mlflow/store/tracking/sqlalchemy_store.py:795\u001b[0m, in \u001b[0;36mSqlAlchemyStore._log_metrics\u001b[0;34m(self, run_id, metrics)\u001b[0m\n\u001b[1;32m    793\u001b[0m \u001b[38;5;66;03m# if there exist metrics that were tried to be logged & rolled back even\u001b[39;00m\n\u001b[1;32m    794\u001b[0m \u001b[38;5;66;03m# though they were not violating the PK, log them\u001b[39;00m\n\u001b[0;32m--> 795\u001b[0m _insert_metrics(non_existing_metrics)\n",
      "File \u001b[0;32m/home/conda/autoice/d163ac953e591afe74a6e27636e7584eb349f707f4365d74b1eda380edb75a78-20221130-125246-700756-50-torch_v1/lib/python3.9/contextlib.py:135\u001b[0m, in \u001b[0;36m_GeneratorContextManager.__exit__\u001b[0;34m(self, type, value, traceback)\u001b[0m\n\u001b[1;32m    134\u001b[0m \u001b[38;5;28;01mtry\u001b[39;00m:\n\u001b[0;32m--> 135\u001b[0m     \u001b[38;5;28;43mself\u001b[39;49m\u001b[38;5;241;43m.\u001b[39;49m\u001b[43mgen\u001b[49m\u001b[38;5;241;43m.\u001b[39;49m\u001b[43mthrow\u001b[49m\u001b[43m(\u001b[49m\u001b[38;5;28;43mtype\u001b[39;49m\u001b[43m,\u001b[49m\u001b[43m \u001b[49m\u001b[43mvalue\u001b[49m\u001b[43m,\u001b[49m\u001b[43m \u001b[49m\u001b[43mtraceback\u001b[49m\u001b[43m)\u001b[49m\n\u001b[1;32m    136\u001b[0m \u001b[38;5;28;01mexcept\u001b[39;00m \u001b[38;5;167;01mStopIteration\u001b[39;00m \u001b[38;5;28;01mas\u001b[39;00m exc:\n\u001b[1;32m    137\u001b[0m     \u001b[38;5;66;03m# Suppress StopIteration *unless* it's the same exception that\u001b[39;00m\n\u001b[1;32m    138\u001b[0m     \u001b[38;5;66;03m# was passed to throw().  This prevents a StopIteration\u001b[39;00m\n\u001b[1;32m    139\u001b[0m     \u001b[38;5;66;03m# raised inside the \"with\" statement from being suppressed.\u001b[39;00m\n",
      "File \u001b[0;32m/home/conda/autoice/d163ac953e591afe74a6e27636e7584eb349f707f4365d74b1eda380edb75a78-20221130-125246-700756-50-torch_v1/lib/python3.9/site-packages/mlflow/store/db/utils.py:105\u001b[0m, in \u001b[0;36m_get_managed_session_maker.<locals>.make_managed_session\u001b[0;34m()\u001b[0m\n\u001b[1;32m    104\u001b[0m     session\u001b[38;5;241m.\u001b[39mrollback()\n\u001b[0;32m--> 105\u001b[0m     \u001b[38;5;28;01mraise\u001b[39;00m MlflowException(message\u001b[38;5;241m=\u001b[39me, error_code\u001b[38;5;241m=\u001b[39mBAD_REQUEST)\n\u001b[1;32m    106\u001b[0m \u001b[38;5;28;01mexcept\u001b[39;00m \u001b[38;5;167;01mException\u001b[39;00m \u001b[38;5;28;01mas\u001b[39;00m e:\n",
      "\u001b[0;31mMlflowException\u001b[0m: (sqlite3.OperationalError) database is locked\n(Background on this error at: https://sqlalche.me/e/14/e3q8)",
      "\nDuring handling of the above exception, another exception occurred:\n",
      "\u001b[0;31mOperationalError\u001b[0m                          Traceback (most recent call last)",
      "File \u001b[0;32m/home/conda/autoice/d163ac953e591afe74a6e27636e7584eb349f707f4365d74b1eda380edb75a78-20221130-125246-700756-50-torch_v1/lib/python3.9/site-packages/sqlalchemy/engine/base.py:1089\u001b[0m, in \u001b[0;36mConnection._commit_impl\u001b[0;34m(self, autocommit)\u001b[0m\n\u001b[1;32m   1088\u001b[0m \u001b[38;5;28;01mtry\u001b[39;00m:\n\u001b[0;32m-> 1089\u001b[0m     \u001b[38;5;28;43mself\u001b[39;49m\u001b[38;5;241;43m.\u001b[39;49m\u001b[43mengine\u001b[49m\u001b[38;5;241;43m.\u001b[39;49m\u001b[43mdialect\u001b[49m\u001b[38;5;241;43m.\u001b[39;49m\u001b[43mdo_commit\u001b[49m\u001b[43m(\u001b[49m\u001b[38;5;28;43mself\u001b[39;49m\u001b[38;5;241;43m.\u001b[39;49m\u001b[43mconnection\u001b[49m\u001b[43m)\u001b[49m\n\u001b[1;32m   1090\u001b[0m \u001b[38;5;28;01mexcept\u001b[39;00m \u001b[38;5;167;01mBaseException\u001b[39;00m \u001b[38;5;28;01mas\u001b[39;00m e:\n",
      "File \u001b[0;32m/home/conda/autoice/d163ac953e591afe74a6e27636e7584eb349f707f4365d74b1eda380edb75a78-20221130-125246-700756-50-torch_v1/lib/python3.9/site-packages/sqlalchemy/engine/default.py:686\u001b[0m, in \u001b[0;36mDefaultDialect.do_commit\u001b[0;34m(self, dbapi_connection)\u001b[0m\n\u001b[1;32m    685\u001b[0m \u001b[38;5;28;01mdef\u001b[39;00m \u001b[38;5;21mdo_commit\u001b[39m(\u001b[38;5;28mself\u001b[39m, dbapi_connection):\n\u001b[0;32m--> 686\u001b[0m     \u001b[43mdbapi_connection\u001b[49m\u001b[38;5;241;43m.\u001b[39;49m\u001b[43mcommit\u001b[49m\u001b[43m(\u001b[49m\u001b[43m)\u001b[49m\n",
      "\u001b[0;31mOperationalError\u001b[0m: database is locked",
      "\nThe above exception was the direct cause of the following exception:\n",
      "\u001b[0;31mOperationalError\u001b[0m                          Traceback (most recent call last)",
      "File \u001b[0;32m/home/conda/autoice/d163ac953e591afe74a6e27636e7584eb349f707f4365d74b1eda380edb75a78-20221130-125246-700756-50-torch_v1/lib/python3.9/site-packages/mlflow/store/db/utils.py:99\u001b[0m, in \u001b[0;36m_get_managed_session_maker.<locals>.make_managed_session\u001b[0;34m()\u001b[0m\n\u001b[1;32m     98\u001b[0m     \u001b[38;5;28;01myield\u001b[39;00m session\n\u001b[0;32m---> 99\u001b[0m     \u001b[43msession\u001b[49m\u001b[38;5;241;43m.\u001b[39;49m\u001b[43mcommit\u001b[49m\u001b[43m(\u001b[49m\u001b[43m)\u001b[49m\n\u001b[1;32m    100\u001b[0m \u001b[38;5;28;01mexcept\u001b[39;00m MlflowException:\n",
      "File \u001b[0;32m/home/conda/autoice/d163ac953e591afe74a6e27636e7584eb349f707f4365d74b1eda380edb75a78-20221130-125246-700756-50-torch_v1/lib/python3.9/site-packages/sqlalchemy/orm/session.py:1451\u001b[0m, in \u001b[0;36mSession.commit\u001b[0;34m(self)\u001b[0m\n\u001b[1;32m   1449\u001b[0m         \u001b[38;5;28;01mraise\u001b[39;00m sa_exc\u001b[38;5;241m.\u001b[39mInvalidRequestError(\u001b[38;5;124m\"\u001b[39m\u001b[38;5;124mNo transaction is begun.\u001b[39m\u001b[38;5;124m\"\u001b[39m)\n\u001b[0;32m-> 1451\u001b[0m \u001b[38;5;28;43mself\u001b[39;49m\u001b[38;5;241;43m.\u001b[39;49m\u001b[43m_transaction\u001b[49m\u001b[38;5;241;43m.\u001b[39;49m\u001b[43mcommit\u001b[49m\u001b[43m(\u001b[49m\u001b[43m_to_root\u001b[49m\u001b[38;5;241;43m=\u001b[39;49m\u001b[38;5;28;43mself\u001b[39;49m\u001b[38;5;241;43m.\u001b[39;49m\u001b[43mfuture\u001b[49m\u001b[43m)\u001b[49m\n",
      "File \u001b[0;32m/home/conda/autoice/d163ac953e591afe74a6e27636e7584eb349f707f4365d74b1eda380edb75a78-20221130-125246-700756-50-torch_v1/lib/python3.9/site-packages/sqlalchemy/orm/session.py:836\u001b[0m, in \u001b[0;36mSessionTransaction.commit\u001b[0;34m(self, _to_root)\u001b[0m\n\u001b[1;32m    835\u001b[0m     \u001b[38;5;28;01mif\u001b[39;00m should_commit:\n\u001b[0;32m--> 836\u001b[0m         \u001b[43mtrans\u001b[49m\u001b[38;5;241;43m.\u001b[39;49m\u001b[43mcommit\u001b[49m\u001b[43m(\u001b[49m\u001b[43m)\u001b[49m\n\u001b[1;32m    838\u001b[0m \u001b[38;5;28mself\u001b[39m\u001b[38;5;241m.\u001b[39m_state \u001b[38;5;241m=\u001b[39m COMMITTED\n",
      "File \u001b[0;32m/home/conda/autoice/d163ac953e591afe74a6e27636e7584eb349f707f4365d74b1eda380edb75a78-20221130-125246-700756-50-torch_v1/lib/python3.9/site-packages/sqlalchemy/engine/base.py:2459\u001b[0m, in \u001b[0;36mTransaction.commit\u001b[0;34m(self)\u001b[0m\n\u001b[1;32m   2458\u001b[0m \u001b[38;5;28;01mtry\u001b[39;00m:\n\u001b[0;32m-> 2459\u001b[0m     \u001b[38;5;28;43mself\u001b[39;49m\u001b[38;5;241;43m.\u001b[39;49m\u001b[43m_do_commit\u001b[49m\u001b[43m(\u001b[49m\u001b[43m)\u001b[49m\n\u001b[1;32m   2460\u001b[0m \u001b[38;5;28;01mfinally\u001b[39;00m:\n",
      "File \u001b[0;32m/home/conda/autoice/d163ac953e591afe74a6e27636e7584eb349f707f4365d74b1eda380edb75a78-20221130-125246-700756-50-torch_v1/lib/python3.9/site-packages/sqlalchemy/engine/base.py:2649\u001b[0m, in \u001b[0;36mRootTransaction._do_commit\u001b[0;34m(self)\u001b[0m\n\u001b[1;32m   2648\u001b[0m \u001b[38;5;28;01mtry\u001b[39;00m:\n\u001b[0;32m-> 2649\u001b[0m     \u001b[38;5;28;43mself\u001b[39;49m\u001b[38;5;241;43m.\u001b[39;49m\u001b[43m_connection_commit_impl\u001b[49m\u001b[43m(\u001b[49m\u001b[43m)\u001b[49m\n\u001b[1;32m   2650\u001b[0m \u001b[38;5;28;01mfinally\u001b[39;00m:\n\u001b[1;32m   2651\u001b[0m     \u001b[38;5;66;03m# whether or not commit succeeds, cancel any\u001b[39;00m\n\u001b[1;32m   2652\u001b[0m     \u001b[38;5;66;03m# nested transactions, make this transaction \"inactive\"\u001b[39;00m\n\u001b[1;32m   2653\u001b[0m     \u001b[38;5;66;03m# and remove it as a reset agent\u001b[39;00m\n",
      "File \u001b[0;32m/home/conda/autoice/d163ac953e591afe74a6e27636e7584eb349f707f4365d74b1eda380edb75a78-20221130-125246-700756-50-torch_v1/lib/python3.9/site-packages/sqlalchemy/engine/base.py:2620\u001b[0m, in \u001b[0;36mRootTransaction._connection_commit_impl\u001b[0;34m(self)\u001b[0m\n\u001b[1;32m   2619\u001b[0m \u001b[38;5;28;01mdef\u001b[39;00m \u001b[38;5;21m_connection_commit_impl\u001b[39m(\u001b[38;5;28mself\u001b[39m):\n\u001b[0;32m-> 2620\u001b[0m     \u001b[38;5;28;43mself\u001b[39;49m\u001b[38;5;241;43m.\u001b[39;49m\u001b[43mconnection\u001b[49m\u001b[38;5;241;43m.\u001b[39;49m\u001b[43m_commit_impl\u001b[49m\u001b[43m(\u001b[49m\u001b[43m)\u001b[49m\n",
      "File \u001b[0;32m/home/conda/autoice/d163ac953e591afe74a6e27636e7584eb349f707f4365d74b1eda380edb75a78-20221130-125246-700756-50-torch_v1/lib/python3.9/site-packages/sqlalchemy/engine/base.py:1091\u001b[0m, in \u001b[0;36mConnection._commit_impl\u001b[0;34m(self, autocommit)\u001b[0m\n\u001b[1;32m   1090\u001b[0m \u001b[38;5;28;01mexcept\u001b[39;00m \u001b[38;5;167;01mBaseException\u001b[39;00m \u001b[38;5;28;01mas\u001b[39;00m e:\n\u001b[0;32m-> 1091\u001b[0m     \u001b[38;5;28;43mself\u001b[39;49m\u001b[38;5;241;43m.\u001b[39;49m\u001b[43m_handle_dbapi_exception\u001b[49m\u001b[43m(\u001b[49m\u001b[43me\u001b[49m\u001b[43m,\u001b[49m\u001b[43m \u001b[49m\u001b[38;5;28;43;01mNone\u001b[39;49;00m\u001b[43m,\u001b[49m\u001b[43m \u001b[49m\u001b[38;5;28;43;01mNone\u001b[39;49;00m\u001b[43m,\u001b[49m\u001b[43m \u001b[49m\u001b[38;5;28;43;01mNone\u001b[39;49;00m\u001b[43m,\u001b[49m\u001b[43m \u001b[49m\u001b[38;5;28;43;01mNone\u001b[39;49;00m\u001b[43m)\u001b[49m\n",
      "File \u001b[0;32m/home/conda/autoice/d163ac953e591afe74a6e27636e7584eb349f707f4365d74b1eda380edb75a78-20221130-125246-700756-50-torch_v1/lib/python3.9/site-packages/sqlalchemy/engine/base.py:2124\u001b[0m, in \u001b[0;36mConnection._handle_dbapi_exception\u001b[0;34m(self, e, statement, parameters, cursor, context)\u001b[0m\n\u001b[1;32m   2123\u001b[0m \u001b[38;5;28;01melif\u001b[39;00m should_wrap:\n\u001b[0;32m-> 2124\u001b[0m     \u001b[43mutil\u001b[49m\u001b[38;5;241;43m.\u001b[39;49m\u001b[43mraise_\u001b[49m\u001b[43m(\u001b[49m\n\u001b[1;32m   2125\u001b[0m \u001b[43m        \u001b[49m\u001b[43msqlalchemy_exception\u001b[49m\u001b[43m,\u001b[49m\u001b[43m \u001b[49m\u001b[43mwith_traceback\u001b[49m\u001b[38;5;241;43m=\u001b[39;49m\u001b[43mexc_info\u001b[49m\u001b[43m[\u001b[49m\u001b[38;5;241;43m2\u001b[39;49m\u001b[43m]\u001b[49m\u001b[43m,\u001b[49m\u001b[43m \u001b[49m\u001b[43mfrom_\u001b[49m\u001b[38;5;241;43m=\u001b[39;49m\u001b[43me\u001b[49m\n\u001b[1;32m   2126\u001b[0m \u001b[43m    \u001b[49m\u001b[43m)\u001b[49m\n\u001b[1;32m   2127\u001b[0m \u001b[38;5;28;01melse\u001b[39;00m:\n",
      "File \u001b[0;32m/home/conda/autoice/d163ac953e591afe74a6e27636e7584eb349f707f4365d74b1eda380edb75a78-20221130-125246-700756-50-torch_v1/lib/python3.9/site-packages/sqlalchemy/util/compat.py:210\u001b[0m, in \u001b[0;36mraise_\u001b[0;34m(***failed resolving arguments***)\u001b[0m\n\u001b[1;32m    209\u001b[0m \u001b[38;5;28;01mtry\u001b[39;00m:\n\u001b[0;32m--> 210\u001b[0m     \u001b[38;5;28;01mraise\u001b[39;00m exception\n\u001b[1;32m    211\u001b[0m \u001b[38;5;28;01mfinally\u001b[39;00m:\n\u001b[1;32m    212\u001b[0m     \u001b[38;5;66;03m# credit to\u001b[39;00m\n\u001b[1;32m    213\u001b[0m     \u001b[38;5;66;03m# https://cosmicpercolator.com/2016/01/13/exception-leaks-in-python-2-and-3/\u001b[39;00m\n\u001b[1;32m    214\u001b[0m     \u001b[38;5;66;03m# as the __traceback__ object creates a cycle\u001b[39;00m\n",
      "File \u001b[0;32m/home/conda/autoice/d163ac953e591afe74a6e27636e7584eb349f707f4365d74b1eda380edb75a78-20221130-125246-700756-50-torch_v1/lib/python3.9/site-packages/sqlalchemy/engine/base.py:1089\u001b[0m, in \u001b[0;36mConnection._commit_impl\u001b[0;34m(self, autocommit)\u001b[0m\n\u001b[1;32m   1088\u001b[0m \u001b[38;5;28;01mtry\u001b[39;00m:\n\u001b[0;32m-> 1089\u001b[0m     \u001b[38;5;28;43mself\u001b[39;49m\u001b[38;5;241;43m.\u001b[39;49m\u001b[43mengine\u001b[49m\u001b[38;5;241;43m.\u001b[39;49m\u001b[43mdialect\u001b[49m\u001b[38;5;241;43m.\u001b[39;49m\u001b[43mdo_commit\u001b[49m\u001b[43m(\u001b[49m\u001b[38;5;28;43mself\u001b[39;49m\u001b[38;5;241;43m.\u001b[39;49m\u001b[43mconnection\u001b[49m\u001b[43m)\u001b[49m\n\u001b[1;32m   1090\u001b[0m \u001b[38;5;28;01mexcept\u001b[39;00m \u001b[38;5;167;01mBaseException\u001b[39;00m \u001b[38;5;28;01mas\u001b[39;00m e:\n",
      "File \u001b[0;32m/home/conda/autoice/d163ac953e591afe74a6e27636e7584eb349f707f4365d74b1eda380edb75a78-20221130-125246-700756-50-torch_v1/lib/python3.9/site-packages/sqlalchemy/engine/default.py:686\u001b[0m, in \u001b[0;36mDefaultDialect.do_commit\u001b[0;34m(self, dbapi_connection)\u001b[0m\n\u001b[1;32m    685\u001b[0m \u001b[38;5;28;01mdef\u001b[39;00m \u001b[38;5;21mdo_commit\u001b[39m(\u001b[38;5;28mself\u001b[39m, dbapi_connection):\n\u001b[0;32m--> 686\u001b[0m     \u001b[43mdbapi_connection\u001b[49m\u001b[38;5;241;43m.\u001b[39;49m\u001b[43mcommit\u001b[49m\u001b[43m(\u001b[49m\u001b[43m)\u001b[49m\n",
      "\u001b[0;31mOperationalError\u001b[0m: (sqlite3.OperationalError) database is locked\n(Background on this error at: https://sqlalche.me/e/14/e3q8)",
      "\nDuring handling of the above exception, another exception occurred:\n",
      "\u001b[0;31mMlflowException\u001b[0m                           Traceback (most recent call last)",
      "Cell \u001b[0;32mIn [7], line 94\u001b[0m\n\u001b[1;32m     89\u001b[0m     best_combined_score \u001b[38;5;241m=\u001b[39m combined_score\n\u001b[1;32m     90\u001b[0m     torch\u001b[38;5;241m.\u001b[39msave(obj\u001b[38;5;241m=\u001b[39m{\u001b[38;5;124m'\u001b[39m\u001b[38;5;124mmodel_state_dict\u001b[39m\u001b[38;5;124m'\u001b[39m: net\u001b[38;5;241m.\u001b[39mstate_dict(),\n\u001b[1;32m     91\u001b[0m                     \u001b[38;5;124m'\u001b[39m\u001b[38;5;124moptimizer_state_dict\u001b[39m\u001b[38;5;124m'\u001b[39m: optimizer\u001b[38;5;241m.\u001b[39mstate_dict(),\n\u001b[1;32m     92\u001b[0m                     \u001b[38;5;124m'\u001b[39m\u001b[38;5;124mepoch\u001b[39m\u001b[38;5;124m'\u001b[39m: epoch},\n\u001b[1;32m     93\u001b[0m                     f\u001b[38;5;241m=\u001b[39m\u001b[38;5;124m'\u001b[39m\u001b[38;5;124mbest_model\u001b[39m\u001b[38;5;124m'\u001b[39m)\n\u001b[0;32m---> 94\u001b[0m \u001b[38;5;28;01mdel\u001b[39;00m inf_ys_flat, outputs_flat  \u001b[38;5;66;03m# Free memory.\u001b[39;00m\n",
      "File \u001b[0;32m/home/conda/autoice/d163ac953e591afe74a6e27636e7584eb349f707f4365d74b1eda380edb75a78-20221130-125246-700756-50-torch_v1/lib/python3.9/site-packages/mlflow/tracking/fluent.py:168\u001b[0m, in \u001b[0;36mActiveRun.__exit__\u001b[0;34m(self, exc_type, exc_val, exc_tb)\u001b[0m\n\u001b[1;32m    166\u001b[0m \u001b[38;5;28;01mdef\u001b[39;00m \u001b[38;5;21m__exit__\u001b[39m(\u001b[38;5;28mself\u001b[39m, exc_type, exc_val, exc_tb):\n\u001b[1;32m    167\u001b[0m     status \u001b[38;5;241m=\u001b[39m RunStatus\u001b[38;5;241m.\u001b[39mFINISHED \u001b[38;5;28;01mif\u001b[39;00m exc_type \u001b[38;5;129;01mis\u001b[39;00m \u001b[38;5;28;01mNone\u001b[39;00m \u001b[38;5;28;01melse\u001b[39;00m RunStatus\u001b[38;5;241m.\u001b[39mFAILED\n\u001b[0;32m--> 168\u001b[0m     \u001b[43mend_run\u001b[49m\u001b[43m(\u001b[49m\u001b[43mRunStatus\u001b[49m\u001b[38;5;241;43m.\u001b[39;49m\u001b[43mto_string\u001b[49m\u001b[43m(\u001b[49m\u001b[43mstatus\u001b[49m\u001b[43m)\u001b[49m\u001b[43m)\u001b[49m\n\u001b[1;32m    169\u001b[0m     \u001b[38;5;28;01mreturn\u001b[39;00m exc_type \u001b[38;5;129;01mis\u001b[39;00m \u001b[38;5;28;01mNone\u001b[39;00m\n",
      "File \u001b[0;32m/home/conda/autoice/d163ac953e591afe74a6e27636e7584eb349f707f4365d74b1eda380edb75a78-20221130-125246-700756-50-torch_v1/lib/python3.9/site-packages/mlflow/tracking/fluent.py:393\u001b[0m, in \u001b[0;36mend_run\u001b[0;34m(status)\u001b[0m\n\u001b[1;32m    391\u001b[0m env\u001b[38;5;241m.\u001b[39munset_variable(_RUN_ID_ENV_VAR)\n\u001b[1;32m    392\u001b[0m run \u001b[38;5;241m=\u001b[39m _active_run_stack\u001b[38;5;241m.\u001b[39mpop()\n\u001b[0;32m--> 393\u001b[0m \u001b[43mMlflowClient\u001b[49m\u001b[43m(\u001b[49m\u001b[43m)\u001b[49m\u001b[38;5;241;43m.\u001b[39;49m\u001b[43mset_terminated\u001b[49m\u001b[43m(\u001b[49m\u001b[43mrun\u001b[49m\u001b[38;5;241;43m.\u001b[39;49m\u001b[43minfo\u001b[49m\u001b[38;5;241;43m.\u001b[39;49m\u001b[43mrun_id\u001b[49m\u001b[43m,\u001b[49m\u001b[43m \u001b[49m\u001b[43mstatus\u001b[49m\u001b[43m)\u001b[49m\n\u001b[1;32m    394\u001b[0m _last_active_run_id \u001b[38;5;241m=\u001b[39m run\u001b[38;5;241m.\u001b[39minfo\u001b[38;5;241m.\u001b[39mrun_id\n",
      "File \u001b[0;32m/home/conda/autoice/d163ac953e591afe74a6e27636e7584eb349f707f4365d74b1eda380edb75a78-20221130-125246-700756-50-torch_v1/lib/python3.9/site-packages/mlflow/tracking/client.py:1647\u001b[0m, in \u001b[0;36mMlflowClient.set_terminated\u001b[0;34m(self, run_id, status, end_time)\u001b[0m\n\u001b[1;32m   1604\u001b[0m \u001b[38;5;28;01mdef\u001b[39;00m \u001b[38;5;21mset_terminated\u001b[39m(\n\u001b[1;32m   1605\u001b[0m     \u001b[38;5;28mself\u001b[39m, run_id: \u001b[38;5;28mstr\u001b[39m, status: Optional[\u001b[38;5;28mstr\u001b[39m] \u001b[38;5;241m=\u001b[39m \u001b[38;5;28;01mNone\u001b[39;00m, end_time: Optional[\u001b[38;5;28mint\u001b[39m] \u001b[38;5;241m=\u001b[39m \u001b[38;5;28;01mNone\u001b[39;00m\n\u001b[1;32m   1606\u001b[0m ) \u001b[38;5;241m-\u001b[39m\u001b[38;5;241m>\u001b[39m \u001b[38;5;28;01mNone\u001b[39;00m:\n\u001b[1;32m   1607\u001b[0m     \u001b[38;5;124;03m\"\"\"Set a run's status to terminated.\u001b[39;00m\n\u001b[1;32m   1608\u001b[0m \n\u001b[1;32m   1609\u001b[0m \u001b[38;5;124;03m    :param status: A string value of :py:class:`mlflow.entities.RunStatus`.\u001b[39;00m\n\u001b[0;32m   (...)\u001b[0m\n\u001b[1;32m   1645\u001b[0m \u001b[38;5;124;03m        status: KILLED\u001b[39;00m\n\u001b[1;32m   1646\u001b[0m \u001b[38;5;124;03m    \"\"\"\u001b[39;00m\n\u001b[0;32m-> 1647\u001b[0m     \u001b[38;5;28;43mself\u001b[39;49m\u001b[38;5;241;43m.\u001b[39;49m\u001b[43m_tracking_client\u001b[49m\u001b[38;5;241;43m.\u001b[39;49m\u001b[43mset_terminated\u001b[49m\u001b[43m(\u001b[49m\u001b[43mrun_id\u001b[49m\u001b[43m,\u001b[49m\u001b[43m \u001b[49m\u001b[43mstatus\u001b[49m\u001b[43m,\u001b[49m\u001b[43m \u001b[49m\u001b[43mend_time\u001b[49m\u001b[43m)\u001b[49m\n",
      "File \u001b[0;32m/home/conda/autoice/d163ac953e591afe74a6e27636e7584eb349f707f4365d74b1eda380edb75a78-20221130-125246-700756-50-torch_v1/lib/python3.9/site-packages/mlflow/tracking/_tracking_service/client.py:506\u001b[0m, in \u001b[0;36mTrackingServiceClient.set_terminated\u001b[0;34m(self, run_id, status, end_time)\u001b[0m\n\u001b[1;32m    504\u001b[0m end_time \u001b[38;5;241m=\u001b[39m end_time \u001b[38;5;28;01mif\u001b[39;00m end_time \u001b[38;5;28;01melse\u001b[39;00m get_current_time_millis()\n\u001b[1;32m    505\u001b[0m status \u001b[38;5;241m=\u001b[39m status \u001b[38;5;28;01mif\u001b[39;00m status \u001b[38;5;28;01melse\u001b[39;00m RunStatus\u001b[38;5;241m.\u001b[39mto_string(RunStatus\u001b[38;5;241m.\u001b[39mFINISHED)\n\u001b[0;32m--> 506\u001b[0m \u001b[38;5;28;43mself\u001b[39;49m\u001b[38;5;241;43m.\u001b[39;49m\u001b[43mstore\u001b[49m\u001b[38;5;241;43m.\u001b[39;49m\u001b[43mupdate_run_info\u001b[49m\u001b[43m(\u001b[49m\n\u001b[1;32m    507\u001b[0m \u001b[43m    \u001b[49m\u001b[43mrun_id\u001b[49m\u001b[43m,\u001b[49m\n\u001b[1;32m    508\u001b[0m \u001b[43m    \u001b[49m\u001b[43mrun_status\u001b[49m\u001b[38;5;241;43m=\u001b[39;49m\u001b[43mRunStatus\u001b[49m\u001b[38;5;241;43m.\u001b[39;49m\u001b[43mfrom_string\u001b[49m\u001b[43m(\u001b[49m\u001b[43mstatus\u001b[49m\u001b[43m)\u001b[49m\u001b[43m,\u001b[49m\n\u001b[1;32m    509\u001b[0m \u001b[43m    \u001b[49m\u001b[43mend_time\u001b[49m\u001b[38;5;241;43m=\u001b[39;49m\u001b[43mend_time\u001b[49m\u001b[43m,\u001b[49m\n\u001b[1;32m    510\u001b[0m \u001b[43m    \u001b[49m\u001b[43mrun_name\u001b[49m\u001b[38;5;241;43m=\u001b[39;49m\u001b[38;5;28;43;01mNone\u001b[39;49;00m\u001b[43m,\u001b[49m\n\u001b[1;32m    511\u001b[0m \u001b[43m\u001b[49m\u001b[43m)\u001b[49m\n",
      "File \u001b[0;32m/home/conda/autoice/d163ac953e591afe74a6e27636e7584eb349f707f4365d74b1eda380edb75a78-20221130-125246-700756-50-torch_v1/lib/python3.9/site-packages/mlflow/store/tracking/sqlalchemy_store.py:650\u001b[0m, in \u001b[0;36mSqlAlchemyStore.update_run_info\u001b[0;34m(self, run_id, run_status, end_time, run_name)\u001b[0m\n\u001b[1;32m    647\u001b[0m \u001b[38;5;28mself\u001b[39m\u001b[38;5;241m.\u001b[39m_save_to_db(objs\u001b[38;5;241m=\u001b[39mrun, session\u001b[38;5;241m=\u001b[39msession)\n\u001b[1;32m    648\u001b[0m run \u001b[38;5;241m=\u001b[39m run\u001b[38;5;241m.\u001b[39mto_mlflow_entity()\n\u001b[0;32m--> 650\u001b[0m \u001b[38;5;28;01mreturn\u001b[39;00m run\u001b[38;5;241m.\u001b[39minfo\n",
      "File \u001b[0;32m/home/conda/autoice/d163ac953e591afe74a6e27636e7584eb349f707f4365d74b1eda380edb75a78-20221130-125246-700756-50-torch_v1/lib/python3.9/contextlib.py:124\u001b[0m, in \u001b[0;36m_GeneratorContextManager.__exit__\u001b[0;34m(self, type, value, traceback)\u001b[0m\n\u001b[1;32m    122\u001b[0m \u001b[38;5;28;01mif\u001b[39;00m \u001b[38;5;28mtype\u001b[39m \u001b[38;5;129;01mis\u001b[39;00m \u001b[38;5;28;01mNone\u001b[39;00m:\n\u001b[1;32m    123\u001b[0m     \u001b[38;5;28;01mtry\u001b[39;00m:\n\u001b[0;32m--> 124\u001b[0m         \u001b[38;5;28;43mnext\u001b[39;49m\u001b[43m(\u001b[49m\u001b[38;5;28;43mself\u001b[39;49m\u001b[38;5;241;43m.\u001b[39;49m\u001b[43mgen\u001b[49m\u001b[43m)\u001b[49m\n\u001b[1;32m    125\u001b[0m     \u001b[38;5;28;01mexcept\u001b[39;00m \u001b[38;5;167;01mStopIteration\u001b[39;00m:\n\u001b[1;32m    126\u001b[0m         \u001b[38;5;28;01mreturn\u001b[39;00m \u001b[38;5;28;01mFalse\u001b[39;00m\n",
      "File \u001b[0;32m/home/conda/autoice/d163ac953e591afe74a6e27636e7584eb349f707f4365d74b1eda380edb75a78-20221130-125246-700756-50-torch_v1/lib/python3.9/site-packages/mlflow/store/db/utils.py:105\u001b[0m, in \u001b[0;36m_get_managed_session_maker.<locals>.make_managed_session\u001b[0;34m()\u001b[0m\n\u001b[1;32m    103\u001b[0m \u001b[38;5;28;01mexcept\u001b[39;00m sqlalchemy\u001b[38;5;241m.\u001b[39mexc\u001b[38;5;241m.\u001b[39mSQLAlchemyError \u001b[38;5;28;01mas\u001b[39;00m e:\n\u001b[1;32m    104\u001b[0m     session\u001b[38;5;241m.\u001b[39mrollback()\n\u001b[0;32m--> 105\u001b[0m     \u001b[38;5;28;01mraise\u001b[39;00m MlflowException(message\u001b[38;5;241m=\u001b[39me, error_code\u001b[38;5;241m=\u001b[39mBAD_REQUEST)\n\u001b[1;32m    106\u001b[0m \u001b[38;5;28;01mexcept\u001b[39;00m \u001b[38;5;167;01mException\u001b[39;00m \u001b[38;5;28;01mas\u001b[39;00m e:\n\u001b[1;32m    107\u001b[0m     session\u001b[38;5;241m.\u001b[39mrollback()\n",
      "\u001b[0;31mMlflowException\u001b[0m: (sqlite3.OperationalError) database is locked\n(Background on this error at: https://sqlalche.me/e/14/e3q8)"
     ]
    }
   ],
   "source": [
    "best_combined_score = 0  # Best weighted model score.\n",
    "early_stopper = EarlyStopper(patience = 4, min_delta=0.3)\n",
    "\n",
    "with mlflow.start_run() as run:\n",
    "    mlflow.log_params(train_options['chart_metric'])\n",
    "    # -- Training Loop -- #\n",
    "    for epoch in tqdm(iterable=range(train_options['epochs']), position=0):\n",
    "        gc.collect()  # Collect garbage to free memory.\n",
    "        loss_sum = torch.tensor([0.])  # To sum the batch losses during the epoch.\n",
    "        net.train()  # Set network to evaluation mode.\n",
    "\n",
    "        # Loops though batches in queue.\n",
    "        for i, (batch_x, batch_y) in enumerate(tqdm(iterable=dataloader, total=train_options['epoch_len'], colour='red', position=0)):\n",
    "            torch.cuda.empty_cache()  # Empties the GPU cache freeing up memory.\n",
    "            loss_batch = 0  # Reset from previous batch.\n",
    "\n",
    "            # - Transfer to device.\n",
    "            batch_x = batch_x.to(device, non_blocking=True)\n",
    "\n",
    "            # - Mixed precision training. (Saving memory)\n",
    "            with torch.cuda.amp.autocast():\n",
    "                # - Forward pass. \n",
    "                output = net(batch_x)\n",
    "\n",
    "                # - Calculate loss.\n",
    "                for chart in train_options['charts']:\n",
    "                    loss_batch += loss_functions[chart](input=output[chart], target=batch_y[chart].to(device))\n",
    "                    mlflow.log_metric(key=\"chart_loss\", value=loss_batch)\n",
    "                    \n",
    "            # - Reset gradients from previous pass.\n",
    "            optimizer.zero_grad()\n",
    "\n",
    "            # - Backward pass.\n",
    "            loss_batch.backward()\n",
    "\n",
    "            # - Optimizer step\n",
    "            optimizer.step()\n",
    "\n",
    "            # - Add batch loss.\n",
    "            loss_sum += loss_batch.detach().item()\n",
    "\n",
    "            # - Average loss for displaying\n",
    "            loss_epoch = torch.true_divide(loss_sum, i + 1).detach().item()\n",
    "            print('\\rMean training loss: ' + f'{loss_epoch:.3f}', end='\\r')\n",
    "            mlflow.log_metric(key=\"mean_loss\", value=loss_epoch)\n",
    "            del output, batch_x, batch_y # Free memory.\n",
    "        del loss_sum\n",
    "\n",
    "        # -- Validation Loop -- #\n",
    "        loss_batch = loss_batch.detach().item()  # For printing after the validation loop.\n",
    "\n",
    "        # - Stores the output and the reference pixels to calculate the scores after inference on all the scenes.\n",
    "        outputs_flat = {chart: np.array([]) for chart in train_options['charts']}\n",
    "        inf_ys_flat = {chart: np.array([]) for chart in train_options['charts']}\n",
    "\n",
    "        net.eval()  # Set network to evaluation mode.\n",
    "        # - Loops though scenes in queue.\n",
    "        for inf_x, inf_y, masks, name in tqdm(iterable=dataloader_val, total=len(train_options['validate_list']), colour='green', position=0):\n",
    "            torch.cuda.empty_cache()\n",
    "\n",
    "            # - Ensures that no gradients are calculated, which otherwise take up a lot of space on the GPU.\n",
    "            with torch.no_grad(), torch.cuda.amp.autocast():\n",
    "                inf_x = inf_x.to(device, non_blocking=True)\n",
    "                output = net(inf_x)\n",
    "\n",
    "            # - Final output layer, and storing of non masked pixels.\n",
    "            for chart in train_options['charts']:\n",
    "                output[chart] = torch.argmax(output[chart], dim=1).squeeze().cpu().numpy()\n",
    "                outputs_flat[chart] = np.append(outputs_flat[chart], output[chart][~masks[chart]])\n",
    "                inf_ys_flat[chart] = np.append(inf_ys_flat[chart], inf_y[chart][~masks[chart]].numpy())\n",
    "\n",
    "            del inf_x, inf_y, masks, output  # Free memory.\n",
    "\n",
    "        # - Compute the relevant scores.\n",
    "        combined_score, scores = compute_metrics(true=inf_ys_flat, pred=outputs_flat, charts=train_options['charts'],\n",
    "                                                 metrics=train_options['chart_metric'])\n",
    "\n",
    "        print(\"\")\n",
    "        print(f\"Final batch loss: {loss_batch:.3f}\")\n",
    "        print(f\"Epoch {epoch} score:\")\n",
    "        for chart in train_options['charts']:\n",
    "            print(f\"{chart} {train_options['chart_metric'][chart]['func'].__name__}: {scores[chart]}%\")\n",
    "        print(f\"Combined score: {combined_score}%\")\n",
    "        \n",
    "        mlflow.log_metric(key=\"final_batch_loss\", value=loss_batch)\n",
    "        mlflow.log_metric(key=\"combined_score\", value=combined_score)\n",
    "\n",
    "        # If the scores is better than the previous epoch, then save the model and rename the image to best_validation.\n",
    "        if combined_score > best_combined_score:\n",
    "            best_combined_score = combined_score\n",
    "            torch.save(obj={'model_state_dict': net.state_dict(),\n",
    "                            'optimizer_state_dict': optimizer.state_dict(),\n",
    "                            'epoch': epoch},\n",
    "                            f='best_model')\n",
    "        elif early_stopper(combined_score, best_combined_score):\n",
    "            break\n",
    "            \n",
    "        del inf_ys_flat, outputs_flat  # Free memory.\n"
   ]
  },
  {
   "cell_type": "code",
   "execution_count": null,
   "id": "8d935674-4c20-44f8-8c1b-014e6e90b85c",
   "metadata": {},
   "outputs": [],
   "source": []
  }
 ],
 "metadata": {
  "kernelspec": {
   "display_name": "autoice-autoice-torch_v1",
   "language": "python",
   "name": "conda-env-autoice-autoice-torch_v1-py"
  },
  "language_info": {
   "codemirror_mode": {
    "name": "ipython",
    "version": 3
   },
   "file_extension": ".py",
   "mimetype": "text/x-python",
   "name": "python",
   "nbconvert_exporter": "python",
   "pygments_lexer": "ipython3",
   "version": "3.9.5"
  }
 },
 "nbformat": 4,
 "nbformat_minor": 5
}
