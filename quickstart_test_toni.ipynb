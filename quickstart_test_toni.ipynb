{
 "cells": [
  {
   "cell_type": "markdown",
   "id": "0c461fb7-78b9-4201-847e-2e11c8f599ff",
   "metadata": {
    "tags": []
   },
   "source": [
    "# Quick start guide\n",
    "This notebook serves as an example of how to train a simple model using pytorch and the ready-to-train AI4Arctic challenge dataset. Initially, a dictionary, 'train_options', is set up with relevant options for both the example U-Net Convolutional Neural Network model and the dataloader. Note that the weights of the U-Net will be initialised at random and therefore not deterministic - results will vary for every training run. Two lists (dataset.json and testset.json) include the names of the scenes relevant to training and testing, where the former can be altered if desired. Training data is loaded in parallel using the build-in torch Dataset and Dataloader classes, and works by randomly sampling a scene and performing a random crop to extract a patch. Each batch will then be compiled of X number of these patches with the patch size in the 'train_options'. An obstacle is different grid resolution sizes, which is overcome by upsampling low resolution variables, e.g. AMSR2, ERA5, to match the SAR pixels. A number of batches will be prepared in parallel and stored until use, depending on the number of workers (processes) spawned (this can be changed in 'num_workers' in 'train_options'). The model is trained on a fixed number of steps according to the number of batches in an epoch, defined by the 'epoch_len' parameter, and will run for a total number of epochs depending on the 'epochs' parameter. After each epoch, the model is evaluated. In this example, a random number of scenes are sampled among the training scenes (and removed from the list of training scenes) to act as a validation set used for the evaluation. The model is evaluated with the metrics, and if the current validation attempt is superior to the previous, then the model parameters are stored in the 'best_model' file in the directory.\n",
    "\n",
    "The models are scored on the three sea ice parameters; Sea Ice Concentration (SIC), Stage of Development (SOD) and the Floe size (FLOE) with the $R²$ metric for the SIC, and the weighted F1 metric for the SOD and FLOE. The 3 scores are combined into a single metric by taking the weighted average with SIC and SOD being weighted with 2 and the FLOE with 1.\n",
    "\n",
    "Finally, once you are ready to test your model on the test scenes (without reference data), the 'test_upload' notebook will produce model outputs with your model of choice and save the output as a netCDF file, which can be uploaded to the AI4EO.eu website. The model outputs will be evaluated and then you will receive a score. \n",
    "\n",
    "This quick start notebook is by no means necessary to utilize, and you are more than welcome to develop your own data pipeline. We do however require that the model output is stored in a netcdf file with xarray.dataarrays titled '{scene_name}_{chart}', i.e. 3 charts per scene / file (see how in 'test_upload'). In addition, you are more than welcome to create your own preprocessing scheme to prepare the raw AI4Arctic challenge dataset. However, we ask that the model output is in 80 m pixel spacing (original is 40 m), and that you follow the class numberings from the lookup tables in 'utils' - at least you will be evaluated in this way. Furthermore, we have included a function to convert the polygon_icechart to SIC, SOD and FLOE, you will have to incorporate it yourself.\n",
    "\n",
    "The first cell imports the necessary Python packages, initializes the 'train_options' dictionary, the sample U-Net options, loads the dataset list and select validation scenes."
   ]
  },
  {
   "cell_type": "code",
   "execution_count": 1,
   "id": "c82d24f0-233b-41f9-95ef-af0cc0895800",
   "metadata": {
    "tags": []
   },
   "outputs": [
    {
     "name": "stdout",
     "output_type": "stream",
     "text": [
      "Stored 'train_options' (dict)\n",
      "Options initialised\n",
      "\u001b[0;32mGPU available!\u001b[0m\n",
      "Total number of available devices:  \u001b[0;33m1\u001b[0m\n",
      "GPU and data setup complete.\n"
     ]
    }
   ],
   "source": [
    "# -- Built-in modules -- #\n",
    "import gc\n",
    "import os\n",
    "import sys\n",
    "\n",
    "# -- Environmental variables -- #\n",
    "os.environ['AI4ARCTIC_DATA'] = 'data'  # Fill in directory for data location.\n",
    "#os.environ['AI4ARCTIC_ENV'] = ''  # Fill in directory for environment with Ai4Arctic get-started package. \n",
    "\n",
    "# -- Third-part modules -- #\n",
    "import json\n",
    "import matplotlib.pyplot as plt\n",
    "import numpy as np\n",
    "import torch\n",
    "import xarray as xr\n",
    "from tqdm.notebook import tqdm  # Progress bar\n",
    "import mlflow\n",
    "import mlflow.pytorch\n",
    "\n",
    "# --Proprietary modules -- #\n",
    "from functions import chart_cbar, r2_metric, f1_metric, compute_metrics  # Functions to calculate metrics and show the relevant chart colorbar.\n",
    "from loaders import AI4ArcticChallengeDataset, AI4ArcticChallengeTestDataset, get_variable_options  # Custom dataloaders for regular training and validation.\n",
    "from unet import UNet  # Convolutional Neural Network model\n",
    "from utils import CHARTS, SIC_LOOKUP, SOD_LOOKUP, FLOE_LOOKUP, SCENE_VARIABLES, colour_str\n",
    "\n",
    "train_options = {\n",
    "    # -- Training options -- #\n",
    "    'path_to_processed_data': os.environ['AI4ARCTIC_DATA'],  # Replace with data directory path.\n",
    "    'path_to_env': '',  # Replace with environmment directory path.\n",
    "    'lr': 0.0001,  # Optimizer learning rate.\n",
    "    'epochs': 1,  # Number of epochs before training stop.\n",
    "    'epoch_len': 2,  # Number of batches for each epoch.\n",
    "    'patch_size': 256,  # Size of patches sampled. Used for both Width and Height.\n",
    "    'batch_size': 1,  # Number of patches for each batch.\n",
    "    'loader_upsampling': 'nearest',  # How to upscale low resolution variables to high resolution.\n",
    "    \n",
    "    # -- Data prepraration lookups and metrics.\n",
    "    'train_variables': SCENE_VARIABLES,  # Contains the relevant variables in the scenes.\n",
    "    'charts': CHARTS,  # Charts to train on.\n",
    "    'n_classes': {  # number of total classes in the reference charts, including the mask.\n",
    "        'SIC': SIC_LOOKUP['n_classes'],\n",
    "        'SOD': SOD_LOOKUP['n_classes'],\n",
    "        'FLOE': FLOE_LOOKUP['n_classes']\n",
    "    },\n",
    "    'pixel_spacing': 80,  # SAR pixel spacing. 80 for the ready-to-train AI4Arctic Challenge dataset.\n",
    "    'train_fill_value': 0,  # Mask value for SAR training data.\n",
    "    'class_fill_values': {  # Mask value for class/reference data.\n",
    "        'SIC': SIC_LOOKUP['mask'],\n",
    "        'SOD': SOD_LOOKUP['mask'],\n",
    "        'FLOE': FLOE_LOOKUP['mask'],\n",
    "    },\n",
    "    \n",
    "    # -- Validation options -- #\n",
    "    'chart_metric': {  # Metric functions for each ice parameter and the associated weight.\n",
    "        'SIC': {\n",
    "            'func': r2_metric,\n",
    "            'weight': 2,\n",
    "        },\n",
    "        'SOD': {\n",
    "            'func': f1_metric,\n",
    "            'weight': 2,\n",
    "        },\n",
    "        'FLOE': {\n",
    "            'func': f1_metric,\n",
    "            'weight': 1,\n",
    "        },\n",
    "    },\n",
    "    'num_val_scenes': 2,  # Number of scenes randomly sampled from train_list to use in validation.\n",
    "    \n",
    "    # -- GPU/cuda options -- #\n",
    "    'gpu_id': 0,  # Index of GPU. In case of multiple GPUs.\n",
    "    'num_workers': 1,  # Number of parallel processes to fetch data.\n",
    "    'num_workers_val': 1,  # Number of parallel processes during validation.\n",
    "    \n",
    "    # -- U-Net Options -- # now 3 lvls as in the paper\n",
    "    # DIFF:\n",
    "    # 1. run: 'unet_conv_filters': [16, 32, 32, 3],\n",
    "    'unet_conv_filters': [24, 16, 32, 32],     # Number of filters in the U-Net.\n",
    "    'conv_kernel_size': (3, 3),  # Size of convolutional kernels.\n",
    "    'conv_stride_rate': (1, 1),  # Stride rate of convolutional kernels.\n",
    "    'conv_dilation_rate': (1, 1),  # Dilation rate of convolutional kernels.\n",
    "    'conv_padding': (1, 1),  # Number of padded pixels in convolutional layers.\n",
    "    'conv_padding_style': 'zeros',  # Style of padding.\n",
    "}\n",
    "# Get options for variables, amsrenv grid, cropping and upsampling.\n",
    "get_variable_options = get_variable_options(train_options)\n",
    "# To be used in test_upload.\n",
    "%store train_options  \n",
    "\n",
    "# Load training list.\n",
    "with open(train_options['path_to_env'] + 'datalists/dataset_prep.json') as file:\n",
    "    train_options['train_list'] = json.loads(file.read())\n",
    "# Convert the original scene names to the preprocessed names.\n",
    "train_options['train_list'] = [file[17:32] + '_' + file[77:80] + '_prep.nc' for file in train_options['train_list']]\n",
    "# Select a random number of validation scenes with the same seed. Feel free to change the seed.et\n",
    "np.random.seed(0)\n",
    "train_options['validate_list'] = np.random.choice(np.array(train_options['train_list']), size=train_options['num_val_scenes'], replace=False)\n",
    "# Remove the validation scenes from the train list.\n",
    "train_options['train_list'] = [scene for scene in train_options['train_list'] if scene not in train_options['validate_list']]\n",
    "print('Options initialised')\n",
    "\n",
    "# Get GPU resources.\n",
    "if torch.cuda.is_available():\n",
    "    print(colour_str('GPU available!', 'green'))\n",
    "    print('Total number of available devices: ', colour_str(torch.cuda.device_count(), 'orange'))\n",
    "    device = torch.device(f\"cuda:{train_options['gpu_id']}\")\n",
    "\n",
    "else:\n",
    "    print(colour_str('GPU not available.', 'red'))\n",
    "    device = torch.device('cpu')\n",
    "\n",
    "# Custom dataset and dataloader.\n",
    "dataset = AI4ArcticChallengeDataset(files=train_options['train_list'], options=train_options)\n",
    "dataloader = torch.utils.data.DataLoader(dataset, batch_size=None, shuffle=True, num_workers=train_options['num_workers'], pin_memory=True)\n",
    "# - Setup of the validation dataset/dataloader. The same is used for model testing in 'test_upload.ipynb'.\n",
    "dataset_val = AI4ArcticChallengeTestDataset(options=train_options, files=train_options['validate_list'])\n",
    "dataloader_val = torch.utils.data.DataLoader(dataset_val, batch_size=None, num_workers=train_options['num_workers_val'], shuffle=False)\n",
    "\n",
    "print('GPU and data setup complete.')\n"
   ]
  },
  {
   "cell_type": "markdown",
   "id": "31e9849d-da01-402e-a79f-2f196618fb21",
   "metadata": {},
   "source": [
    "### Example of Model, optimiser and loss function setup"
   ]
  },
  {
   "cell_type": "code",
   "execution_count": 2,
   "id": "df663da8-9779-4f8e-b641-29c9ea4e6036",
   "metadata": {},
   "outputs": [
    {
     "name": "stdout",
     "output_type": "stream",
     "text": [
      "Model setup complete\n"
     ]
    }
   ],
   "source": [
    "from unet_attention import UNetAttention\n",
    "# Setup U-Net model, adam optimizer, loss function and dataloader.\n",
    "net = UNetAttention(options=train_options).to(device)\n",
    "optimizer = torch.optim.Adam(list(net.parameters()), lr=train_options['lr'])\n",
    "torch.backends.cudnn.benchmark = True  # Selects the kernel with the best performance for the GPU and given input size.\n",
    "\n",
    "# Loss functions to use for each sea ice parameter.\n",
    "# The ignore_index argument discounts the masked values, ensuring that the model is not using these pixels to train on.\n",
    "# It is equivalent to multiplying the loss of the relevant masked pixel with 0.\n",
    "loss_functions = {chart: torch.nn.CrossEntropyLoss(ignore_index=train_options['class_fill_values'][chart]) \\\n",
    "                                                   for chart in train_options['charts']}\n",
    "print('Model setup complete')"
   ]
  },
  {
   "cell_type": "markdown",
   "id": "bc2980de-1025-4b75-9c43-0c3023a2d12c",
   "metadata": {
    "tags": []
   },
   "source": [
    "## Example of model training and validation loop\n",
    "A simple model training loop following by a simple validation loop. Validation is carried out on full scenes, i.e. no cropping or stitching. If there is not enough space on the GPU, then try to do it on the cpu. This can be done by using 'net = net.cpu()'."
   ]
  },
  {
   "cell_type": "markdown",
   "id": "c7136c1c-22b2-4b59-b6eb-a9824748faff",
   "metadata": {},
   "source": [
    "### Workflow with MLflow\n",
    "\n",
    "- every model needs to be initiated with start_run() function\n",
    "- parameters can be logged with log_params() method\n",
    "- metrics are added with log_metric() with specified name and value\n",
    "- model can be stored into the model storage as artifact using corresponding flavour\n",
    "- for using MLflow autologing, model needs to use one of the supported flavours, eg. pytorch-lightning, fastai, tensorflow, xgboost or others - see [full list](https://www.mlflow.org/docs/latest/tracking.html#automatic-logging) \n"
   ]
  },
  {
   "cell_type": "code",
   "execution_count": 3,
   "id": "bbb870e4-4083-4ead-a4f8-919d1f79598b",
   "metadata": {},
   "outputs": [],
   "source": [
    "# ## setting up the sqlite database for tracking of experiments in MLflow\n",
    "# mlflow.set_tracking_uri('sqlite:///' + os.path.expanduser(os.environ[\"MLFLOW_BACKEND_STORE_PATH\"]))\n",
    "# os.path.expanduser(os.environ[\"MLFLOW_BACKEND_STORE_PATH\"])\n",
    "\n",
    "# ## setting the used experiment - if do not exist, new one will be created\n",
    "# e = mlflow.set_experiment(\"pizza funghi\")\n",
    "# e.experiment_id"
   ]
  },
  {
   "cell_type": "code",
   "execution_count": 4,
   "id": "8f1fdbd6-c674-4dc3-b271-2b3660a55646",
   "metadata": {},
   "outputs": [],
   "source": [
    "# implementing an ealy stopper\n",
    "class EarlyStopper:\n",
    "    \"\"\"\n",
    "    Stops the training early iff the validation loss does not increase anymore more than a small delta.\n",
    "    As the FLOE is weighted only half as much as the other two, the model does only need to get better half as much there.\n",
    "    \"\"\"\n",
    "    def __init__(self, patience=1, min_delta=0.1):\n",
    "        self.patience = patience\n",
    "        self.min_delta = min_delta\n",
    "        self.counter = 0\n",
    "        self.max_val_score = -np.inf\n",
    "        \n",
    "    def early_stop(self, combined_score, best_combined_score):\n",
    "        # does not improve enough anymore: < old best + delta\n",
    "        if combined_score <= (self.max_val_score + self.min_delta):\n",
    "            self.counter += 1\n",
    "        else:\n",
    "            self.max_val_score = best_combined_score # such that there is not a crawling improvement not seen\n",
    "            self.counter = 0\n",
    "        return self.counter > self.patience"
   ]
  },
  {
   "cell_type": "code",
   "execution_count": 5,
   "id": "0d00e418-ff77-4948-92bd-0b2313b281d6",
   "metadata": {},
   "outputs": [
    {
     "data": {
      "application/vnd.jupyter.widget-view+json": {
       "model_id": "50ddc59bcd604c64a14d94c0b82d5fa6",
       "version_major": 2,
       "version_minor": 0
      },
      "text/plain": [
       "  0%|          | 0/1 [00:00<?, ?it/s]"
      ]
     },
     "metadata": {},
     "output_type": "display_data"
    },
    {
     "data": {
      "application/vnd.jupyter.widget-view+json": {
       "model_id": "b49c6f08994047389866b0f6597fdcb5",
       "version_major": 2,
       "version_minor": 0
      },
      "text/plain": [
       "  0%|          | 0/2 [00:00<?, ?it/s]"
      ]
     },
     "metadata": {},
     "output_type": "display_data"
    },
    {
     "ename": "KeyboardInterrupt",
     "evalue": "",
     "output_type": "error",
     "traceback": [
      "\u001b[0;31m---------------------------------------------------------------------------\u001b[0m",
      "\u001b[0;31mKeyboardInterrupt\u001b[0m                         Traceback (most recent call last)",
      "Cell \u001b[0;32mIn[5], line 13\u001b[0m\n\u001b[1;32m     10\u001b[0m net\u001b[39m.\u001b[39mtrain()  \u001b[39m# Set network to evaluation mode.\u001b[39;00m\n\u001b[1;32m     12\u001b[0m \u001b[39m# Loops though batches in queue.\u001b[39;00m\n\u001b[0;32m---> 13\u001b[0m \u001b[39mfor\u001b[39;00m i, (batch_x, batch_y) \u001b[39min\u001b[39;00m \u001b[39menumerate\u001b[39m(tqdm(iterable\u001b[39m=\u001b[39mdataloader, total\u001b[39m=\u001b[39mtrain_options[\u001b[39m'\u001b[39m\u001b[39mepoch_len\u001b[39m\u001b[39m'\u001b[39m], colour\u001b[39m=\u001b[39m\u001b[39m'\u001b[39m\u001b[39mred\u001b[39m\u001b[39m'\u001b[39m, position\u001b[39m=\u001b[39m\u001b[39m0\u001b[39m)):\n\u001b[1;32m     14\u001b[0m     \u001b[39mprint\u001b[39m(\u001b[39m\"\u001b[39m\u001b[39mbatch\u001b[39m\u001b[39m\"\u001b[39m, i)\n\u001b[1;32m     15\u001b[0m     torch\u001b[39m.\u001b[39mcuda\u001b[39m.\u001b[39mempty_cache()  \u001b[39m# Empties the GPU cache freeing up memory.\u001b[39;00m\n",
      "File \u001b[0;32m~/anani/AI4ArcticSeaIceChallenge/venv/lib/python3.9/site-packages/tqdm/notebook.py:259\u001b[0m, in \u001b[0;36mtqdm_notebook.__iter__\u001b[0;34m(self)\u001b[0m\n\u001b[1;32m    257\u001b[0m \u001b[39mtry\u001b[39;00m:\n\u001b[1;32m    258\u001b[0m     it \u001b[39m=\u001b[39m \u001b[39msuper\u001b[39m(tqdm_notebook, \u001b[39mself\u001b[39m)\u001b[39m.\u001b[39m\u001b[39m__iter__\u001b[39m()\n\u001b[0;32m--> 259\u001b[0m     \u001b[39mfor\u001b[39;00m obj \u001b[39min\u001b[39;00m it:\n\u001b[1;32m    260\u001b[0m         \u001b[39m# return super(tqdm...) will not catch exception\u001b[39;00m\n\u001b[1;32m    261\u001b[0m         \u001b[39myield\u001b[39;00m obj\n\u001b[1;32m    262\u001b[0m \u001b[39m# NB: except ... [ as ...] breaks IPython async KeyboardInterrupt\u001b[39;00m\n",
      "File \u001b[0;32m~/anani/AI4ArcticSeaIceChallenge/venv/lib/python3.9/site-packages/tqdm/std.py:1195\u001b[0m, in \u001b[0;36mtqdm.__iter__\u001b[0;34m(self)\u001b[0m\n\u001b[1;32m   1192\u001b[0m time \u001b[39m=\u001b[39m \u001b[39mself\u001b[39m\u001b[39m.\u001b[39m_time\n\u001b[1;32m   1194\u001b[0m \u001b[39mtry\u001b[39;00m:\n\u001b[0;32m-> 1195\u001b[0m     \u001b[39mfor\u001b[39;00m obj \u001b[39min\u001b[39;00m iterable:\n\u001b[1;32m   1196\u001b[0m         \u001b[39myield\u001b[39;00m obj\n\u001b[1;32m   1197\u001b[0m         \u001b[39m# Update and possibly print the progressbar.\u001b[39;00m\n\u001b[1;32m   1198\u001b[0m         \u001b[39m# Note: does not call self.update(1) for speed optimisation.\u001b[39;00m\n",
      "File \u001b[0;32m~/anani/AI4ArcticSeaIceChallenge/venv/lib/python3.9/site-packages/torch/utils/data/dataloader.py:681\u001b[0m, in \u001b[0;36m_BaseDataLoaderIter.__next__\u001b[0;34m(self)\u001b[0m\n\u001b[1;32m    678\u001b[0m \u001b[39mif\u001b[39;00m \u001b[39mself\u001b[39m\u001b[39m.\u001b[39m_sampler_iter \u001b[39mis\u001b[39;00m \u001b[39mNone\u001b[39;00m:\n\u001b[1;32m    679\u001b[0m     \u001b[39m# TODO(https://github.com/pytorch/pytorch/issues/76750)\u001b[39;00m\n\u001b[1;32m    680\u001b[0m     \u001b[39mself\u001b[39m\u001b[39m.\u001b[39m_reset()  \u001b[39m# type: ignore[call-arg]\u001b[39;00m\n\u001b[0;32m--> 681\u001b[0m data \u001b[39m=\u001b[39m \u001b[39mself\u001b[39;49m\u001b[39m.\u001b[39;49m_next_data()\n\u001b[1;32m    682\u001b[0m \u001b[39mself\u001b[39m\u001b[39m.\u001b[39m_num_yielded \u001b[39m+\u001b[39m\u001b[39m=\u001b[39m \u001b[39m1\u001b[39m\n\u001b[1;32m    683\u001b[0m \u001b[39mif\u001b[39;00m \u001b[39mself\u001b[39m\u001b[39m.\u001b[39m_dataset_kind \u001b[39m==\u001b[39m _DatasetKind\u001b[39m.\u001b[39mIterable \u001b[39mand\u001b[39;00m \\\n\u001b[1;32m    684\u001b[0m         \u001b[39mself\u001b[39m\u001b[39m.\u001b[39m_IterableDataset_len_called \u001b[39mis\u001b[39;00m \u001b[39mnot\u001b[39;00m \u001b[39mNone\u001b[39;00m \u001b[39mand\u001b[39;00m \\\n\u001b[1;32m    685\u001b[0m         \u001b[39mself\u001b[39m\u001b[39m.\u001b[39m_num_yielded \u001b[39m>\u001b[39m \u001b[39mself\u001b[39m\u001b[39m.\u001b[39m_IterableDataset_len_called:\n",
      "File \u001b[0;32m~/anani/AI4ArcticSeaIceChallenge/venv/lib/python3.9/site-packages/torch/utils/data/dataloader.py:1359\u001b[0m, in \u001b[0;36m_MultiProcessingDataLoaderIter._next_data\u001b[0;34m(self)\u001b[0m\n\u001b[1;32m   1356\u001b[0m     \u001b[39mreturn\u001b[39;00m \u001b[39mself\u001b[39m\u001b[39m.\u001b[39m_process_data(data)\n\u001b[1;32m   1358\u001b[0m \u001b[39massert\u001b[39;00m \u001b[39mnot\u001b[39;00m \u001b[39mself\u001b[39m\u001b[39m.\u001b[39m_shutdown \u001b[39mand\u001b[39;00m \u001b[39mself\u001b[39m\u001b[39m.\u001b[39m_tasks_outstanding \u001b[39m>\u001b[39m \u001b[39m0\u001b[39m\n\u001b[0;32m-> 1359\u001b[0m idx, data \u001b[39m=\u001b[39m \u001b[39mself\u001b[39;49m\u001b[39m.\u001b[39;49m_get_data()\n\u001b[1;32m   1360\u001b[0m \u001b[39mself\u001b[39m\u001b[39m.\u001b[39m_tasks_outstanding \u001b[39m-\u001b[39m\u001b[39m=\u001b[39m \u001b[39m1\u001b[39m\n\u001b[1;32m   1361\u001b[0m \u001b[39mif\u001b[39;00m \u001b[39mself\u001b[39m\u001b[39m.\u001b[39m_dataset_kind \u001b[39m==\u001b[39m _DatasetKind\u001b[39m.\u001b[39mIterable:\n\u001b[1;32m   1362\u001b[0m     \u001b[39m# Check for _IterableDatasetStopIteration\u001b[39;00m\n",
      "File \u001b[0;32m~/anani/AI4ArcticSeaIceChallenge/venv/lib/python3.9/site-packages/torch/utils/data/dataloader.py:1315\u001b[0m, in \u001b[0;36m_MultiProcessingDataLoaderIter._get_data\u001b[0;34m(self)\u001b[0m\n\u001b[1;32m   1313\u001b[0m \u001b[39melif\u001b[39;00m \u001b[39mself\u001b[39m\u001b[39m.\u001b[39m_pin_memory:\n\u001b[1;32m   1314\u001b[0m     \u001b[39mwhile\u001b[39;00m \u001b[39mself\u001b[39m\u001b[39m.\u001b[39m_pin_memory_thread\u001b[39m.\u001b[39mis_alive():\n\u001b[0;32m-> 1315\u001b[0m         success, data \u001b[39m=\u001b[39m \u001b[39mself\u001b[39;49m\u001b[39m.\u001b[39;49m_try_get_data()\n\u001b[1;32m   1316\u001b[0m         \u001b[39mif\u001b[39;00m success:\n\u001b[1;32m   1317\u001b[0m             \u001b[39mreturn\u001b[39;00m data\n",
      "File \u001b[0;32m~/anani/AI4ArcticSeaIceChallenge/venv/lib/python3.9/site-packages/torch/utils/data/dataloader.py:1163\u001b[0m, in \u001b[0;36m_MultiProcessingDataLoaderIter._try_get_data\u001b[0;34m(self, timeout)\u001b[0m\n\u001b[1;32m   1150\u001b[0m \u001b[39mdef\u001b[39;00m \u001b[39m_try_get_data\u001b[39m(\u001b[39mself\u001b[39m, timeout\u001b[39m=\u001b[39m_utils\u001b[39m.\u001b[39mMP_STATUS_CHECK_INTERVAL):\n\u001b[1;32m   1151\u001b[0m     \u001b[39m# Tries to fetch data from `self._data_queue` once for a given timeout.\u001b[39;00m\n\u001b[1;32m   1152\u001b[0m     \u001b[39m# This can also be used as inner loop of fetching without timeout, with\u001b[39;00m\n\u001b[0;32m   (...)\u001b[0m\n\u001b[1;32m   1160\u001b[0m     \u001b[39m# Returns a 2-tuple:\u001b[39;00m\n\u001b[1;32m   1161\u001b[0m     \u001b[39m#   (bool: whether successfully get data, any: data if successful else None)\u001b[39;00m\n\u001b[1;32m   1162\u001b[0m     \u001b[39mtry\u001b[39;00m:\n\u001b[0;32m-> 1163\u001b[0m         data \u001b[39m=\u001b[39m \u001b[39mself\u001b[39;49m\u001b[39m.\u001b[39;49m_data_queue\u001b[39m.\u001b[39;49mget(timeout\u001b[39m=\u001b[39;49mtimeout)\n\u001b[1;32m   1164\u001b[0m         \u001b[39mreturn\u001b[39;00m (\u001b[39mTrue\u001b[39;00m, data)\n\u001b[1;32m   1165\u001b[0m     \u001b[39mexcept\u001b[39;00m \u001b[39mException\u001b[39;00m \u001b[39mas\u001b[39;00m e:\n\u001b[1;32m   1166\u001b[0m         \u001b[39m# At timeout and error, we manually check whether any worker has\u001b[39;00m\n\u001b[1;32m   1167\u001b[0m         \u001b[39m# failed. Note that this is the only mechanism for Windows to detect\u001b[39;00m\n\u001b[1;32m   1168\u001b[0m         \u001b[39m# worker failures.\u001b[39;00m\n",
      "File \u001b[0;32m~/miniconda3/lib/python3.9/queue.py:180\u001b[0m, in \u001b[0;36mQueue.get\u001b[0;34m(self, block, timeout)\u001b[0m\n\u001b[1;32m    178\u001b[0m         \u001b[39mif\u001b[39;00m remaining \u001b[39m<\u001b[39m\u001b[39m=\u001b[39m \u001b[39m0.0\u001b[39m:\n\u001b[1;32m    179\u001b[0m             \u001b[39mraise\u001b[39;00m Empty\n\u001b[0;32m--> 180\u001b[0m         \u001b[39mself\u001b[39;49m\u001b[39m.\u001b[39;49mnot_empty\u001b[39m.\u001b[39;49mwait(remaining)\n\u001b[1;32m    181\u001b[0m item \u001b[39m=\u001b[39m \u001b[39mself\u001b[39m\u001b[39m.\u001b[39m_get()\n\u001b[1;32m    182\u001b[0m \u001b[39mself\u001b[39m\u001b[39m.\u001b[39mnot_full\u001b[39m.\u001b[39mnotify()\n",
      "File \u001b[0;32m~/miniconda3/lib/python3.9/threading.py:316\u001b[0m, in \u001b[0;36mCondition.wait\u001b[0;34m(self, timeout)\u001b[0m\n\u001b[1;32m    314\u001b[0m \u001b[39melse\u001b[39;00m:\n\u001b[1;32m    315\u001b[0m     \u001b[39mif\u001b[39;00m timeout \u001b[39m>\u001b[39m \u001b[39m0\u001b[39m:\n\u001b[0;32m--> 316\u001b[0m         gotit \u001b[39m=\u001b[39m waiter\u001b[39m.\u001b[39;49macquire(\u001b[39mTrue\u001b[39;49;00m, timeout)\n\u001b[1;32m    317\u001b[0m     \u001b[39melse\u001b[39;00m:\n\u001b[1;32m    318\u001b[0m         gotit \u001b[39m=\u001b[39m waiter\u001b[39m.\u001b[39macquire(\u001b[39mFalse\u001b[39;00m)\n",
      "\u001b[0;31mKeyboardInterrupt\u001b[0m: "
     ]
    }
   ],
   "source": [
    "best_combined_score = 0  # Best weighted model score.\n",
    "# early_stopper = EarlyStopper(patience = 4, min_delta=0.3)\n",
    "\n",
    "# with mlflow.start_run() as run:\n",
    "#     mlflow.log_params(train_options['chart_metric'])\n",
    "    # -- Training Loop -- #\n",
    "for epoch in tqdm(iterable=range(train_options['epochs']), position=0):\n",
    "    gc.collect()  # Collect garbage to free memory.\n",
    "    loss_sum = torch.tensor([0.])  # To sum the batch losses during the epoch.\n",
    "    net.train()  # Set network to evaluation mode.\n",
    "\n",
    "    # Loops though batches in queue.\n",
    "    for i, (batch_x, batch_y) in enumerate(tqdm(iterable=dataloader, total=train_options['epoch_len'], colour='red', position=0)):\n",
    "        print(\"batch\", i)\n",
    "        torch.cuda.empty_cache()  # Empties the GPU cache freeing up memory.\n",
    "        print(\"cache emptied\")\n",
    "        loss_batch = 0  # Reset from previous batch.\n",
    "        print(\"loss batch reset\")\n",
    "        # - Transfer to device.\n",
    "        batch_x = batch_x.to(device, non_blocking=True)\n",
    "        print(\"batch x to device\")\n",
    "        # - Mixed precision training. (Saving memory)\n",
    "        with torch.cuda.amp.autocast():\n",
    "            # - Forward pass. \n",
    "            output = net(batch_x)\n",
    "\n",
    "            # - Calculate loss.\n",
    "            for chart in train_options['charts']:\n",
    "                loss_batch += loss_functions[chart](input=output[chart], target=batch_y[chart].to(device))\n",
    "                # mlflow.log_metric(key=\"chart_loss\", value=loss_batch)\n",
    "                \n",
    "        # - Reset gradients from previous pass.\n",
    "        optimizer.zero_grad()\n",
    "\n",
    "        # - Backward pass.\n",
    "        loss_batch.backward()\n",
    "\n",
    "        # - Optimizer step\n",
    "        optimizer.step()\n",
    "\n",
    "        # - Add batch loss.\n",
    "        loss_sum += loss_batch.detach().item()\n",
    "\n",
    "        # - Average loss for displaying\n",
    "        loss_epoch = torch.true_divide(loss_sum, i + 1).detach().item()\n",
    "        print('\\rMean training loss: ' + f'{loss_epoch:.3f}', end='\\r')\n",
    "        # mlflow.log_metric(key=\"mean_loss\", value=loss_epoch)\n",
    "        del output, batch_x, batch_y # Free memory.\n",
    "    del loss_sum\n",
    "\n",
    "    # -- Validation Loop -- #\n",
    "    loss_batch = loss_batch.detach().item()  # For printing after the validation loop.\n",
    "\n",
    "    # - Stores the output and the reference pixels to calculate the scores after inference on all the scenes.\n",
    "    outputs_flat = {chart: np.array([]) for chart in train_options['charts']}\n",
    "    inf_ys_flat = {chart: np.array([]) for chart in train_options['charts']}\n",
    "\n",
    "    net.eval()  # Set network to evaluation mode.\n",
    "    # - Loops though scenes in queue.\n",
    "    for inf_x, inf_y, masks, name in tqdm(iterable=dataloader_val, total=len(train_options['validate_list']), colour='green', position=0):\n",
    "        torch.cuda.empty_cache()\n",
    "\n",
    "        # - Ensures that no gradients are calculated, which otherwise take up a lot of space on the GPU.\n",
    "        with torch.no_grad(), torch.cuda.amp.autocast():\n",
    "            inf_x = inf_x.to(device, non_blocking=True)\n",
    "            output = net(inf_x)\n",
    "\n",
    "        # - Final output layer, and storing of non masked pixels.\n",
    "        for chart in train_options['charts']:\n",
    "            output[chart] = torch.argmax(output[chart], dim=1).squeeze().cpu().numpy()\n",
    "            outputs_flat[chart] = np.append(outputs_flat[chart], output[chart][~masks[chart]])\n",
    "            inf_ys_flat[chart] = np.append(inf_ys_flat[chart], inf_y[chart][~masks[chart]].numpy())\n",
    "\n",
    "        del inf_x, inf_y, masks, output  # Free memory.\n",
    "\n",
    "    # - Compute the relevant scores.\n",
    "    combined_score, scores = compute_metrics(true=inf_ys_flat, pred=outputs_flat, charts=train_options['charts'],\n",
    "                                                metrics=train_options['chart_metric'])\n",
    "\n",
    "    print(\"\")\n",
    "    print(f\"Final batch loss: {loss_batch:.3f}\")\n",
    "    print(f\"Epoch {epoch} score:\")\n",
    "    for chart in train_options['charts']:\n",
    "        print(f\"{chart} {train_options['chart_metric'][chart]['func'].__name__}: {scores[chart]}%\")\n",
    "    print(f\"Combined score: {combined_score}%\")\n",
    "    \n",
    "    # mlflow.log_metric(key=\"final_batch_loss\", value=loss_batch)\n",
    "    # mlflow.log_metric(key=\"combined_score\", value=combined_score)\n",
    "\n",
    "    # If the scores is better than the previous epoch, then save the model and rename the image to best_validation.\n",
    "    if combined_score > best_combined_score:\n",
    "        best_combined_score = combined_score\n",
    "        torch.save(obj={'model_state_dict': net.state_dict(),\n",
    "                        'optimizer_state_dict': optimizer.state_dict(),\n",
    "                        'epoch': epoch},\n",
    "                        f='best_model')\n",
    "    # elif early_stopper(combined_score, best_combined_score):\n",
    "    #     break\n",
    "        \n",
    "    del inf_ys_flat, outputs_flat  # Free memory.\n"
   ]
  },
  {
   "cell_type": "code",
   "execution_count": null,
   "id": "8d935674-4c20-44f8-8c1b-014e6e90b85c",
   "metadata": {},
   "outputs": [],
   "source": []
  }
 ],
 "metadata": {
  "kernelspec": {
   "display_name": "venv",
   "language": "python",
   "name": "python3"
  },
  "language_info": {
   "codemirror_mode": {
    "name": "ipython",
    "version": 3
   },
   "file_extension": ".py",
   "mimetype": "text/x-python",
   "name": "python",
   "nbconvert_exporter": "python",
   "pygments_lexer": "ipython3",
   "version": "3.9.5"
  },
  "vscode": {
   "interpreter": {
    "hash": "cef783c34e1bee24afa8082b2e4ba23e550ded3082a72033ec9aabd6264c10e6"
   }
  }
 },
 "nbformat": 4,
 "nbformat_minor": 5
}
