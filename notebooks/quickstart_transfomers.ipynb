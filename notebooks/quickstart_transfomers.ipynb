{
 "cells": [
  {
   "cell_type": "code",
   "execution_count": null,
   "metadata": {
    "collapsed": false,
    "pycharm": {
     "name": "#%%\n"
    }
   },
   "outputs": [],
   "source": []
  },
  {
   "cell_type": "markdown",
   "metadata": {
    "collapsed": false
   },
   "source": [
    "# Quick start guide with MLflow\n",
    "\n",
    "### Basic workflow in this quickstart notebook is identical to quickstart notebook, difference is using MLops options with MLflow instance.\n",
    "\n",
    "This notebook serves as an example of how to train a simple model using pytorch and the ready-to-train AI4Arctic challenge dataset. Initially, a dictionary, 'train_options', is set up with relevant options for both the example U-Net Convolutional Neural Network model and the dataloader. Note that the weights of the U-Net will be initialised at random and therefore not deterministic - results will vary for every training run. Two lists (dataset.json and testset.json) include the names of the scenes relevant to training and testing, where the former can be altered if desired. Training data is loaded in parallel using the build-in torch Dataset and Dataloader classes, and works by randomly sampling a scene and performing a random crop to extract a patch. Each batch will then be compiled of X number of these patches with the patch size in the 'train_options'. An obstacle is different grid resolution sizes, which is overcome by upsampling low resolution variables, e.g. AMSR2, ERA5, to match the SAR pixels. A number of batches will be prepared in parallel and stored until use, depending on the number of workers (processes) spawned (this can be changed in 'num_workers' in 'train_options'). The model is trained on a fixed number of steps according to the number of batches in an epoch, defined by the 'epoch_len' parameter, and will run for a total number of epochs depending on the 'epochs' parameter. After each epoch, the model is evaluated. In this example, a random number of scenes are sampled among the training scenes (and removed from the list of training scenes) to act as a validation set used for the evaluation. The model is evaluated with the metrics, and if the current validation attempt is superior to the previous, then the model parameters are stored in the 'best_model' file in the directory.\n",
    "\n",
    "The models are scored on the three sea ice parameters; Sea Ice Concentration (SIC), Stage of Development (SOD) and the Floe size (FLOE) with the $R²$ metric for the SIC, and the weighted F1 metric for the SOD and FLOE. The 3 scores are combined into a single metric by taking the weighted average with SIC and SOD being weighted with 2 and the FLOE with 1.\n",
    "\n",
    "Finally, once you are ready to test your model on the test scenes (without reference data), the 'test_upload' notebook will produce model outputs with your model of choice and save the output as a netCDF file, which can be uploaded to the AI4EO.eu website. The model outputs will be evaluated and then you will receive a score.\n",
    "\n",
    "This quick start notebook is by no means necessary to utilize, and you are more than welcome to develop your own data pipeline. We do however require that the model output is stored in a netcdf file with xarray.dataarrays titled '{scene_name}_{chart}', i.e. 3 charts per scene / file (see how in 'test_upload'). In addition, you are more than welcome to create your own preprocessing scheme to prepare the raw AI4Arctic challenge dataset. However, we ask that the model output is in 80 m pixel spacing (original is 40 m), and that you follow the class numberings from the lookup tables in 'utils' - at least you will be evaluated in this way. Furthermore, we have included a function to convert the polygon_icechart to SIC, SOD and FLOE, you will have to incorporate it yourself.\n",
    "\n",
    "The first cell imports the necessary Python packages, initializes the 'train_options' dictionary, the sample U-Net options, loads the dataset list and select validation scenes."
   ]
  },
  {
   "cell_type": "markdown",
   "metadata": {
    "collapsed": false
   },
   "source": [
    "**To execute the notebook yourself you can copy all prepared material to your workspace by executing the following cell:**"
   ]
  },
  {
   "cell_type": "code",
   "execution_count": null,
   "metadata": {
    "collapsed": false,
    "pycharm": {
     "name": "#%%\n"
    }
   },
   "outputs": [],
   "source": [
    "!cp -r \"${AI4ARCTIC_CHALLENGE//[~]/$HOME}\" ~ --no-clobber"
   ]
  },
  {
   "cell_type": "markdown",
   "metadata": {
    "collapsed": false
   },
   "source": [
    "**Reference data can be found here:**"
   ]
  },
  {
   "cell_type": "code",
   "execution_count": 7,
   "metadata": {
    "collapsed": false,
    "pycharm": {
     "name": "#%%\n"
    }
   },
   "outputs": [
    {
     "name": "stdout",
     "output_type": "stream",
     "text": [
      "data\n"
     ]
    }
   ],
   "source": [
    "import os\n",
    "# -- Environmental variables -- #\n",
    "os.environ['AI4ARCTIC_DATA'] = 'data'  # Fill in directory for data location.\n",
    "os.environ['AI4ARCTIC_ENV'] = ''  # Fill in\n",
    "!echo ${AI4ARCTIC_DATA}"
   ]
  },
  {
   "cell_type": "code",
   "execution_count": 8,
   "metadata": {
    "collapsed": false,
    "pycharm": {
     "name": "#%%\n"
    }
   },
   "outputs": [],
   "source": [
    "# -- Built-in modules -- #\n",
    "import gc\n",
    "import os\n",
    "import os.path\n",
    "import sys\n",
    "import mlflow"
   ]
  },
  {
   "cell_type": "code",
   "execution_count": 9,
   "metadata": {
    "collapsed": false,
    "pycharm": {
     "name": "#%%\n"
    }
   },
   "outputs": [],
   "source": [
    "from pathlib import Path\n",
    "sys.path.append(str(Path.home().joinpath(\"AI4ArcticSeaIceChallenge/\")))"
   ]
  },
  {
   "cell_type": "code",
   "execution_count": 17,
   "metadata": {
    "collapsed": false,
    "pycharm": {
     "name": "#%%\n"
    }
   },
   "outputs": [
    {
     "name": "stdout",
     "output_type": "stream",
     "text": [
      "Stored 'train_options' (dict)\n",
      "Options initialised\n"
     ]
    }
   ],
   "source": [
    "# -- Third-part modules -- #\n",
    "import json\n",
    "import matplotlib.pyplot as plt\n",
    "import numpy as np\n",
    "import torch\n",
    "import xarray as xr\n",
    "from tqdm.notebook import tqdm  # Progress bar\n",
    "\n",
    "# --Proprietary modules -- #\n",
    "from functions import chart_cbar, r2_metric, f1_metric, compute_metrics  # Functions to calculate metrics and show the relevant chart colorbar.\n",
    "from loaders import AI4ArcticChallengeDataset, AI4ArcticChallengeTestDataset, get_variable_options  # Custom dataloaders for regular training and validation.\n",
    "from unet import UNet  # Convolutional Neural Network model\n",
    "from unet_transfomers import TransformerUNet\n",
    "from utils import CHARTS, SIC_LOOKUP, SOD_LOOKUP, FLOE_LOOKUP, SCENE_VARIABLES, colour_str\n",
    "\n",
    "train_options = {\n",
    "    # -- Training options -- #\n",
    "    'path_to_processed_data': os.environ['AI4ARCTIC_DATA'],\n",
    "    'lr': 0.0001,  # Optimizer learning rate.\n",
    "    'epochs': 3,  # Number of epochs before training stop.\n",
    "    'epoch_len': 15,  # Number of batches for each epoch.\n",
    "    'patch_size': 256,  # Size of patches sampled. Used for both Width and Height.\n",
    "    'batch_size': 8,  # Number of patches for each batch.\n",
    "    'loader_upsampling': 'nearest',  # How to upscale low resolution variables to high resolution.\n",
    "\n",
    "    # -- Data prepraration lookups and metrics.\n",
    "    'train_variables': SCENE_VARIABLES,  # Contains the relevant variables in the scenes.\n",
    "    'charts': CHARTS,  # Charts to train on.\n",
    "    'n_classes': {  # number of total classes in the reference charts, including the mask.\n",
    "        'SIC': SIC_LOOKUP['n_classes'],\n",
    "        'SOD': SOD_LOOKUP['n_classes'],\n",
    "        'FLOE': FLOE_LOOKUP['n_classes']\n",
    "    },\n",
    "    'pixel_spacing': 80,  # SAR pixel spacing. 80 for the ready-to-train AI4Arctic Challenge dataset.\n",
    "    'train_fill_value': 0,  # Mask value for SAR training data.\n",
    "    'class_fill_values': {  # Mask value for class/reference data.\n",
    "        'SIC': SIC_LOOKUP['mask'],\n",
    "        'SOD': SOD_LOOKUP['mask'],\n",
    "        'FLOE': FLOE_LOOKUP['mask'],\n",
    "    },\n",
    "\n",
    "    # -- Validation options -- #\n",
    "    'chart_metric': {  # Metric functions for each ice parameter and the associated weight.\n",
    "        'SIC': {\n",
    "            'func': r2_metric,\n",
    "            'weight': 2,\n",
    "        },\n",
    "        'SOD': {\n",
    "            'func': f1_metric,\n",
    "            'weight': 2,\n",
    "        },\n",
    "        'FLOE': {\n",
    "            'func': f1_metric,\n",
    "            'weight': 1,\n",
    "        },\n",
    "    },\n",
    "    'num_val_scenes': 2,  # Number of scenes randomly sampled from train_list to use in validation.\n",
    "\n",
    "    # -- GPU/cuda options -- #\n",
    "    'gpu_id': 0,  # Index of GPU. In case of multiple GPUs.\n",
    "    'num_workers': 10,  # Number of parallel processes to fetch data.\n",
    "    'num_workers_val': 1,  # Number of parallel processes during validation.\n",
    "\n",
    "    # -- U-Net Options -- #\n",
    "    'unet_conv_filters': [24, 16, 32, 64],  # Number of filters in the U-Net.\n",
    "    'conv_kernel_size': (3, 3),  # Size of convolutional kernels.\n",
    "    'conv_stride_rate': (1, 1),  # Stride rate of convolutional kernels.\n",
    "    'conv_dilation_rate': (1, 1),  # Dilation rate of convolutional kernels.\n",
    "    'conv_padding': (1, 1),  # Number of padded pixels in convolutional layers.\n",
    "    'conv_padding_style': 'zeros',  # Style of padding.\n",
    "\n",
    "    # --Transformer Options -- #\n",
    "    'is_residual': True,\n",
    "    'num_heads': 2,\n",
    "    'bias': False,\n",
    "    'dtype': torch.float32\n",
    "}\n",
    "# Get options for variables, amsrenv grid, cropping and upsampling.\n",
    "get_variable_options = get_variable_options(train_options)\n",
    "# To be used in test_upload.\n",
    "%store train_options\n",
    "\n",
    "# Load training list.\n",
    "with open('datalists/dataset_prep.json') as file:\n",
    "    train_options['train_list'] = json.loads(file.read())\n",
    "# Convert the original scene names to the preprocessed names.\n",
    "train_options['train_list'] = [file[17:32] + '_' + file[77:80] + '_prep.nc' for file in train_options['train_list']]\n",
    "# Select a random number of validation scenes with the same seed. Feel free to change the seed.et\n",
    "np.random.seed(0)\n",
    "train_options['validate_list'] = np.random.choice(np.array(train_options['train_list']), size=train_options['num_val_scenes'], replace=False)\n",
    "# Remove the validation scenes from the train list.\n",
    "train_options['train_list'] = [scene for scene in train_options['train_list'] if scene not in train_options['validate_list']]\n",
    "print('Options initialised')\n"
   ]
  },
  {
   "cell_type": "markdown",
   "metadata": {
    "collapsed": false
   },
   "source": [
    "### CUDA / GPU Setup\n",
    "This sets up the 'device' variable containing GPU information, and the custom dataset and dataloader."
   ]
  },
  {
   "cell_type": "code",
   "execution_count": 18,
   "metadata": {
    "collapsed": false,
    "pycharm": {
     "name": "#%%\n"
    }
   },
   "outputs": [
    {
     "name": "stdout",
     "output_type": "stream",
     "text": [
      "\u001B[0;31mGPU not available.\u001B[0m\n",
      "GPU and data setup complete.\n"
     ]
    }
   ],
   "source": [
    "# Get GPU resources.\n",
    "if torch.cuda.is_available():\n",
    "    print(colour_str('GPU available!', 'green'))\n",
    "    print('Total number of available devices: ', colour_str(torch.cuda.device_count(), 'orange'))\n",
    "    device = torch.device(f\"cuda:{train_options['gpu_id']}\")\n",
    "\n",
    "else:\n",
    "    print(colour_str('GPU not available.', 'red'))\n",
    "    device = torch.device('cpu')\n",
    "\n",
    "train_options['device'] = device\n",
    "\n",
    "# Custom dataset and dataloader.\n",
    "dataset = AI4ArcticChallengeDataset(files=train_options['train_list'], options=train_options)\n",
    "dataloader = torch.utils.data.DataLoader(dataset, batch_size=None, shuffle=True, num_workers=train_options['num_workers'], pin_memory=True)\n",
    "# - Setup of the validation dataset/dataloader. The same is used for model testing in 'test_upload.ipynb'.\n",
    "dataset_val = AI4ArcticChallengeTestDataset(options=train_options, files=train_options['validate_list'])\n",
    "dataloader_val = torch.utils.data.DataLoader(dataset_val, batch_size=None, num_workers=train_options['num_workers_val'], shuffle=False)\n",
    "\n",
    "# Custom dataset and dataloader.\n",
    "dataset = AI4ArcticChallengeDataset(files=train_options['train_list'], options=train_options)\n",
    "dataloader = torch.utils.data.DataLoader(dataset, batch_size=None, shuffle=True, num_workers=train_options['num_workers'], pin_memory=True)\n",
    "# - Setup of the validation dataset/dataloader. The same is used for model testing in 'test_upload.ipynb'.\n",
    "dataset_val = AI4ArcticChallengeTestDataset(options=train_options, files=train_options['validate_list'])\n",
    "dataloader_val = torch.utils.data.DataLoader(dataset_val, batch_size=None, num_workers=train_options['num_workers_val'], shuffle=False)\n",
    "\n",
    "print('GPU and data setup complete.')"
   ]
  },
  {
   "cell_type": "markdown",
   "metadata": {
    "collapsed": false
   },
   "source": [
    "### Example of Model, optimiser and loss function setup"
   ]
  },
  {
   "cell_type": "code",
   "execution_count": 19,
   "metadata": {
    "collapsed": false,
    "pycharm": {
     "name": "#%%\n"
    }
   },
   "outputs": [
    {
     "name": "stdout",
     "output_type": "stream",
     "text": [
      "Model setup complete\n"
     ]
    }
   ],
   "source": [
    "# Setup U-Net model, adam optimizer, loss function and dataloader.\n",
    "# net = UNet(options=train_options).to(device)\n",
    "net = TransformerUNet(options=train_options).to(device)\n",
    "optimizer = torch.optim.Adam(list(net.parameters()), lr=train_options['lr'])\n",
    "torch.backends.cudnn.benchmark = True  # Selects the kernel with the best performance for the GPU and given input size.\n",
    "\n",
    "# Loss functions to use for each sea ice parameter.\n",
    "# The ignore_index argument discounts the masked values, ensuring that the model is not using these pixels to train on.\n",
    "# It is equivalent to multiplying the loss of the relevant masked pixel with 0.\n",
    "loss_functions = {chart: torch.nn.CrossEntropyLoss(ignore_index=train_options['class_fill_values'][chart]) \\\n",
    "                                                   for chart in train_options['charts']}\n",
    "print('Model setup complete')"
   ]
  },
  {
   "cell_type": "code",
   "execution_count": 20,
   "metadata": {
    "collapsed": false,
    "pycharm": {
     "name": "#%%\n"
    }
   },
   "outputs": [],
   "source": [
    "#torch.cuda.is_available()\n",
    "torch.cuda.empty_cache()"
   ]
  },
  {
   "cell_type": "markdown",
   "metadata": {
    "collapsed": false
   },
   "source": [
    "## Example of model training and validation loop\n",
    "A simple model training loop following by a simple validation loop. Validation is carried out on full scenes, i.e. no cropping or stitching. If there is not enough space on the GPU, then try to do it on the cpu. This can be done by using 'net = net.cpu()'."
   ]
  },
  {
   "cell_type": "markdown",
   "metadata": {
    "collapsed": false
   },
   "source": [
    "## Workflow with MLflow\n",
    "\n",
    "- every model needs to be initiated with start_run() function\n",
    "- parameters can be logged with log_params() method\n",
    "- metrics are added with log_metric() with specified name and value\n",
    "- model can be stored into the model storage as artifact using corresponding flavour\n",
    "- for using MLflow autologing, model needs to use one of the supported flavours, eg. pytorch-lightning, fastai, tensorflow, xgboost or others - see [full list](https://www.mlflow.org/docs/latest/tracking.html#automatic-logging)\n"
   ]
  },
  {
   "cell_type": "code",
   "execution_count": 26,
   "metadata": {
    "collapsed": false,
    "pycharm": {
     "name": "#%%\n"
    }
   },
   "outputs": [
    {
     "ename": "KeyError",
     "evalue": "'MLFLOW_BACKEND_STORE_PATH'",
     "output_type": "error",
     "traceback": [
      "\u001B[0;31m---------------------------------------------------------------------------\u001B[0m",
      "\u001B[0;31mKeyError\u001B[0m                                  Traceback (most recent call last)",
      "Cell \u001B[0;32mIn[26], line 2\u001B[0m\n\u001B[1;32m      1\u001B[0m \u001B[39m## setting up the sqlite database for tracking of experiments in MLflow\u001B[39;00m\n\u001B[0;32m----> 2\u001B[0m mlflow\u001B[39m.\u001B[39mset_tracking_uri(\u001B[39m'\u001B[39m\u001B[39msqlite:///\u001B[39m\u001B[39m'\u001B[39m \u001B[39m+\u001B[39m os\u001B[39m.\u001B[39mpath\u001B[39m.\u001B[39mexpanduser(os\u001B[39m.\u001B[39;49menviron[\u001B[39m\"\u001B[39;49m\u001B[39mMLFLOW_BACKEND_STORE_PATH\u001B[39;49m\u001B[39m\"\u001B[39;49m]))\n",
      "File \u001B[0;32m/usr/lib/python3.8/os.py:675\u001B[0m, in \u001B[0;36m_Environ.__getitem__\u001B[0;34m(self, key)\u001B[0m\n\u001B[1;32m    672\u001B[0m     value \u001B[39m=\u001B[39m \u001B[39mself\u001B[39m\u001B[39m.\u001B[39m_data[\u001B[39mself\u001B[39m\u001B[39m.\u001B[39mencodekey(key)]\n\u001B[1;32m    673\u001B[0m \u001B[39mexcept\u001B[39;00m \u001B[39mKeyError\u001B[39;00m:\n\u001B[1;32m    674\u001B[0m     \u001B[39m# raise KeyError with the original key value\u001B[39;00m\n\u001B[0;32m--> 675\u001B[0m     \u001B[39mraise\u001B[39;00m \u001B[39mKeyError\u001B[39;00m(key) \u001B[39mfrom\u001B[39;00m \u001B[39mNone\u001B[39m\n\u001B[1;32m    676\u001B[0m \u001B[39mreturn\u001B[39;00m \u001B[39mself\u001B[39m\u001B[39m.\u001B[39mdecodevalue(value)\n",
      "\u001B[0;31mKeyError\u001B[0m: 'MLFLOW_BACKEND_STORE_PATH'"
     ]
    }
   ],
   "source": [
    "## setting up the sqlite database for tracking of experiments in MLflow\n",
    "# mlflow.set_tracking_uri('sqlite:///' + os.path.expanduser(os.environ[\"MLFLOW_BACKEND_STORE_PATH\"]))"
   ]
  },
  {
   "cell_type": "code",
   "execution_count": 27,
   "metadata": {
    "collapsed": false,
    "pycharm": {
     "name": "#%%\n"
    }
   },
   "outputs": [
    {
     "ename": "KeyError",
     "evalue": "'MLFLOW_BACKEND_STORE_PATH'",
     "output_type": "error",
     "traceback": [
      "\u001B[0;31m---------------------------------------------------------------------------\u001B[0m",
      "\u001B[0;31mKeyError\u001B[0m                                  Traceback (most recent call last)",
      "Cell \u001B[0;32mIn[27], line 1\u001B[0m\n\u001B[0;32m----> 1\u001B[0m os\u001B[39m.\u001B[39mpath\u001B[39m.\u001B[39mexpanduser(os\u001B[39m.\u001B[39;49menviron[\u001B[39m\"\u001B[39;49m\u001B[39mMLFLOW_BACKEND_STORE_PATH\u001B[39;49m\u001B[39m\"\u001B[39;49m])\n",
      "File \u001B[0;32m/usr/lib/python3.8/os.py:675\u001B[0m, in \u001B[0;36m_Environ.__getitem__\u001B[0;34m(self, key)\u001B[0m\n\u001B[1;32m    672\u001B[0m     value \u001B[39m=\u001B[39m \u001B[39mself\u001B[39m\u001B[39m.\u001B[39m_data[\u001B[39mself\u001B[39m\u001B[39m.\u001B[39mencodekey(key)]\n\u001B[1;32m    673\u001B[0m \u001B[39mexcept\u001B[39;00m \u001B[39mKeyError\u001B[39;00m:\n\u001B[1;32m    674\u001B[0m     \u001B[39m# raise KeyError with the original key value\u001B[39;00m\n\u001B[0;32m--> 675\u001B[0m     \u001B[39mraise\u001B[39;00m \u001B[39mKeyError\u001B[39;00m(key) \u001B[39mfrom\u001B[39;00m \u001B[39mNone\u001B[39m\n\u001B[1;32m    676\u001B[0m \u001B[39mreturn\u001B[39;00m \u001B[39mself\u001B[39m\u001B[39m.\u001B[39mdecodevalue(value)\n",
      "\u001B[0;31mKeyError\u001B[0m: 'MLFLOW_BACKEND_STORE_PATH'"
     ]
    }
   ],
   "source": [
    "# os.path.expanduser(os.environ[\"MLFLOW_BACKEND_STORE_PATH\"])"
   ]
  },
  {
   "cell_type": "code",
   "execution_count": 21,
   "metadata": {
    "collapsed": false,
    "pycharm": {
     "name": "#%%\n"
    }
   },
   "outputs": [
    {
     "data": {
      "text/plain": [
       "'224390015013403671'"
      ]
     },
     "execution_count": 21,
     "metadata": {},
     "output_type": "execute_result"
    }
   ],
   "source": [
    "## setting the used experiment - if do not exist, new one will be created\n",
    "e = mlflow.set_experiment(\"quickstart\")\n",
    "e.experiment_id"
   ]
  },
  {
   "cell_type": "code",
   "execution_count": 22,
   "metadata": {
    "collapsed": false,
    "pycharm": {
     "name": "#%%\n"
    }
   },
   "outputs": [
    {
     "data": {
      "application/vnd.jupyter.widget-view+json": {
       "model_id": "f69ff06dde894b0caf71596e0eb9e765",
       "version_major": 2,
       "version_minor": 0
      },
      "text/plain": [
       "  0%|          | 0/3 [00:00<?, ?it/s]"
      ]
     },
     "metadata": {},
     "output_type": "display_data"
    },
    {
     "data": {
      "application/vnd.jupyter.widget-view+json": {
       "model_id": "63e70b60c60f4dd49a5bc481e95ee2e6",
       "version_major": 2,
       "version_minor": 0
      },
      "text/plain": [
       "  0%|          | 0/15 [00:00<?, ?it/s]"
      ]
     },
     "metadata": {},
     "output_type": "display_data"
    },
    {
     "data": {
      "application/vnd.jupyter.widget-view+json": {
       "model_id": "8bb98d52d4e844d2ba42d7914e38662f",
       "version_major": 2,
       "version_minor": 0
      },
      "text/plain": [
       "  0%|          | 0/2 [00:00<?, ?it/s]"
      ]
     },
     "metadata": {},
     "output_type": "display_data"
    },
    {
     "ename": "AttributeError",
     "evalue": "'NoneType' object has no attribute 'is_cuda'",
     "output_type": "error",
     "traceback": [
      "\u001B[0;31m---------------------------------------------------------------------------\u001B[0m",
      "\u001B[0;31mAttributeError\u001B[0m                            Traceback (most recent call last)",
      "Cell \u001B[0;32mIn[22], line 61\u001B[0m\n\u001B[1;32m     59\u001B[0m \u001B[39mwith\u001B[39;00m torch\u001B[39m.\u001B[39mno_grad(), torch\u001B[39m.\u001B[39mcuda\u001B[39m.\u001B[39mamp\u001B[39m.\u001B[39mautocast():\n\u001B[1;32m     60\u001B[0m     inf_x \u001B[39m=\u001B[39m inf_x\u001B[39m.\u001B[39mto(device, non_blocking\u001B[39m=\u001B[39m\u001B[39mTrue\u001B[39;00m)\n\u001B[0;32m---> 61\u001B[0m     output \u001B[39m=\u001B[39m net(inf_x)\n\u001B[1;32m     63\u001B[0m \u001B[39m# - Final output layer, and storing of non masked pixels.\u001B[39;00m\n\u001B[1;32m     64\u001B[0m \u001B[39mfor\u001B[39;00m chart \u001B[39min\u001B[39;00m train_options[\u001B[39m'\u001B[39m\u001B[39mcharts\u001B[39m\u001B[39m'\u001B[39m]:\n",
      "File \u001B[0;32m~/AI4ArcticSeaIceChallenge/venv/lib/python3.8/site-packages/torch/nn/modules/module.py:1130\u001B[0m, in \u001B[0;36mModule._call_impl\u001B[0;34m(self, *input, **kwargs)\u001B[0m\n\u001B[1;32m   1126\u001B[0m \u001B[39m# If we don't have any hooks, we want to skip the rest of the logic in\u001B[39;00m\n\u001B[1;32m   1127\u001B[0m \u001B[39m# this function, and just call forward.\u001B[39;00m\n\u001B[1;32m   1128\u001B[0m \u001B[39mif\u001B[39;00m \u001B[39mnot\u001B[39;00m (\u001B[39mself\u001B[39m\u001B[39m.\u001B[39m_backward_hooks \u001B[39mor\u001B[39;00m \u001B[39mself\u001B[39m\u001B[39m.\u001B[39m_forward_hooks \u001B[39mor\u001B[39;00m \u001B[39mself\u001B[39m\u001B[39m.\u001B[39m_forward_pre_hooks \u001B[39mor\u001B[39;00m _global_backward_hooks\n\u001B[1;32m   1129\u001B[0m         \u001B[39mor\u001B[39;00m _global_forward_hooks \u001B[39mor\u001B[39;00m _global_forward_pre_hooks):\n\u001B[0;32m-> 1130\u001B[0m     \u001B[39mreturn\u001B[39;00m forward_call(\u001B[39m*\u001B[39;49m\u001B[39minput\u001B[39;49m, \u001B[39m*\u001B[39;49m\u001B[39m*\u001B[39;49mkwargs)\n\u001B[1;32m   1131\u001B[0m \u001B[39m# Do not call functions when jit is used\u001B[39;00m\n\u001B[1;32m   1132\u001B[0m full_backward_hooks, non_full_backward_hooks \u001B[39m=\u001B[39m [], []\n",
      "File \u001B[0;32m~/AI4ArcticSeaIceChallenge/unet_transfomers.py:168\u001B[0m, in \u001B[0;36mTransformerUNet.forward\u001B[0;34m(self, x)\u001B[0m\n\u001B[1;32m    166\u001B[0m x \u001B[39m=\u001B[39m \u001B[39mself\u001B[39m\u001B[39m.\u001B[39mbottle_neck(x)\n\u001B[1;32m    167\u001B[0m x \u001B[39m=\u001B[39m \u001B[39mself\u001B[39m\u001B[39m.\u001B[39mpos_encoding(x)\n\u001B[0;32m--> 168\u001B[0m x \u001B[39m=\u001B[39m \u001B[39mself\u001B[39;49m\u001B[39m.\u001B[39;49mmhsa(x)\n\u001B[1;32m    170\u001B[0m \u001B[39mfor\u001B[39;00m i, skip_x \u001B[39min\u001B[39;00m \u001B[39menumerate\u001B[39m(\u001B[39mreversed\u001B[39m(skip_x_list)):\n\u001B[1;32m    171\u001B[0m     x \u001B[39m=\u001B[39m \u001B[39mself\u001B[39m\u001B[39m.\u001B[39mpos_encoding(x)\n",
      "File \u001B[0;32m~/AI4ArcticSeaIceChallenge/venv/lib/python3.8/site-packages/torch/nn/modules/module.py:1130\u001B[0m, in \u001B[0;36mModule._call_impl\u001B[0;34m(self, *input, **kwargs)\u001B[0m\n\u001B[1;32m   1126\u001B[0m \u001B[39m# If we don't have any hooks, we want to skip the rest of the logic in\u001B[39;00m\n\u001B[1;32m   1127\u001B[0m \u001B[39m# this function, and just call forward.\u001B[39;00m\n\u001B[1;32m   1128\u001B[0m \u001B[39mif\u001B[39;00m \u001B[39mnot\u001B[39;00m (\u001B[39mself\u001B[39m\u001B[39m.\u001B[39m_backward_hooks \u001B[39mor\u001B[39;00m \u001B[39mself\u001B[39m\u001B[39m.\u001B[39m_forward_hooks \u001B[39mor\u001B[39;00m \u001B[39mself\u001B[39m\u001B[39m.\u001B[39m_forward_pre_hooks \u001B[39mor\u001B[39;00m _global_backward_hooks\n\u001B[1;32m   1129\u001B[0m         \u001B[39mor\u001B[39;00m _global_forward_hooks \u001B[39mor\u001B[39;00m _global_forward_pre_hooks):\n\u001B[0;32m-> 1130\u001B[0m     \u001B[39mreturn\u001B[39;00m forward_call(\u001B[39m*\u001B[39;49m\u001B[39minput\u001B[39;49m, \u001B[39m*\u001B[39;49m\u001B[39m*\u001B[39;49mkwargs)\n\u001B[1;32m   1131\u001B[0m \u001B[39m# Do not call functions when jit is used\u001B[39;00m\n\u001B[1;32m   1132\u001B[0m full_backward_hooks, non_full_backward_hooks \u001B[39m=\u001B[39m [], []\n",
      "File \u001B[0;32m~/AI4ArcticSeaIceChallenge/unet_transfomers.py:200\u001B[0m, in \u001B[0;36mMultiHeadSelfAttention.forward\u001B[0;34m(self, x)\u001B[0m\n\u001B[1;32m    198\u001B[0m b, c, h, w \u001B[39m=\u001B[39m x\u001B[39m.\u001B[39msize()\n\u001B[1;32m    199\u001B[0m x \u001B[39m=\u001B[39m x\u001B[39m.\u001B[39mpermute(\u001B[39m0\u001B[39m, \u001B[39m2\u001B[39m, \u001B[39m3\u001B[39m, \u001B[39m1\u001B[39m)\u001B[39m.\u001B[39mview((b, h \u001B[39m*\u001B[39m w, c))\n\u001B[0;32m--> 200\u001B[0m x, _ \u001B[39m=\u001B[39m \u001B[39mself\u001B[39;49m\u001B[39m.\u001B[39;49mmha(x, x, x, need_weights\u001B[39m=\u001B[39;49m\u001B[39mFalse\u001B[39;49;00m)\n\u001B[1;32m    201\u001B[0m \u001B[39mreturn\u001B[39;00m x\u001B[39m.\u001B[39mview((b, h, w, c))\u001B[39m.\u001B[39mpermute(\u001B[39m0\u001B[39m, \u001B[39m3\u001B[39m, \u001B[39m1\u001B[39m, \u001B[39m2\u001B[39m)\n",
      "File \u001B[0;32m~/AI4ArcticSeaIceChallenge/venv/lib/python3.8/site-packages/torch/nn/modules/module.py:1130\u001B[0m, in \u001B[0;36mModule._call_impl\u001B[0;34m(self, *input, **kwargs)\u001B[0m\n\u001B[1;32m   1126\u001B[0m \u001B[39m# If we don't have any hooks, we want to skip the rest of the logic in\u001B[39;00m\n\u001B[1;32m   1127\u001B[0m \u001B[39m# this function, and just call forward.\u001B[39;00m\n\u001B[1;32m   1128\u001B[0m \u001B[39mif\u001B[39;00m \u001B[39mnot\u001B[39;00m (\u001B[39mself\u001B[39m\u001B[39m.\u001B[39m_backward_hooks \u001B[39mor\u001B[39;00m \u001B[39mself\u001B[39m\u001B[39m.\u001B[39m_forward_hooks \u001B[39mor\u001B[39;00m \u001B[39mself\u001B[39m\u001B[39m.\u001B[39m_forward_pre_hooks \u001B[39mor\u001B[39;00m _global_backward_hooks\n\u001B[1;32m   1129\u001B[0m         \u001B[39mor\u001B[39;00m _global_forward_hooks \u001B[39mor\u001B[39;00m _global_forward_pre_hooks):\n\u001B[0;32m-> 1130\u001B[0m     \u001B[39mreturn\u001B[39;00m forward_call(\u001B[39m*\u001B[39;49m\u001B[39minput\u001B[39;49m, \u001B[39m*\u001B[39;49m\u001B[39m*\u001B[39;49mkwargs)\n\u001B[1;32m   1131\u001B[0m \u001B[39m# Do not call functions when jit is used\u001B[39;00m\n\u001B[1;32m   1132\u001B[0m full_backward_hooks, non_full_backward_hooks \u001B[39m=\u001B[39m [], []\n",
      "File \u001B[0;32m~/AI4ArcticSeaIceChallenge/venv/lib/python3.8/site-packages/torch/nn/modules/activation.py:1107\u001B[0m, in \u001B[0;36mMultiheadAttention.forward\u001B[0;34m(self, query, key, value, key_padding_mask, need_weights, attn_mask, average_attn_weights)\u001B[0m\n\u001B[1;32m   1105\u001B[0m \u001B[39mif\u001B[39;00m torch\u001B[39m.\u001B[39moverrides\u001B[39m.\u001B[39mhas_torch_function(tensor_args):\n\u001B[1;32m   1106\u001B[0m     why_not_fast_path \u001B[39m=\u001B[39m \u001B[39m\"\u001B[39m\u001B[39msome Tensor argument has_torch_function\u001B[39m\u001B[39m\"\u001B[39m\n\u001B[0;32m-> 1107\u001B[0m \u001B[39melif\u001B[39;00m \u001B[39mnot\u001B[39;00m \u001B[39mall\u001B[39m([(x\u001B[39m.\u001B[39mis_cuda \u001B[39mor\u001B[39;00m \u001B[39m'\u001B[39m\u001B[39mcpu\u001B[39m\u001B[39m'\u001B[39m \u001B[39min\u001B[39;00m \u001B[39mstr\u001B[39m(x\u001B[39m.\u001B[39mdevice)) \u001B[39mfor\u001B[39;00m x \u001B[39min\u001B[39;00m tensor_args]):\n\u001B[1;32m   1108\u001B[0m     why_not_fast_path \u001B[39m=\u001B[39m \u001B[39m\"\u001B[39m\u001B[39msome Tensor argument is neither CUDA nor CPU\u001B[39m\u001B[39m\"\u001B[39m\n\u001B[1;32m   1109\u001B[0m \u001B[39melif\u001B[39;00m torch\u001B[39m.\u001B[39mis_grad_enabled() \u001B[39mand\u001B[39;00m \u001B[39many\u001B[39m([x\u001B[39m.\u001B[39mrequires_grad \u001B[39mfor\u001B[39;00m x \u001B[39min\u001B[39;00m tensor_args]):\n",
      "File \u001B[0;32m~/AI4ArcticSeaIceChallenge/venv/lib/python3.8/site-packages/torch/nn/modules/activation.py:1107\u001B[0m, in \u001B[0;36m<listcomp>\u001B[0;34m(.0)\u001B[0m\n\u001B[1;32m   1105\u001B[0m \u001B[39mif\u001B[39;00m torch\u001B[39m.\u001B[39moverrides\u001B[39m.\u001B[39mhas_torch_function(tensor_args):\n\u001B[1;32m   1106\u001B[0m     why_not_fast_path \u001B[39m=\u001B[39m \u001B[39m\"\u001B[39m\u001B[39msome Tensor argument has_torch_function\u001B[39m\u001B[39m\"\u001B[39m\n\u001B[0;32m-> 1107\u001B[0m \u001B[39melif\u001B[39;00m \u001B[39mnot\u001B[39;00m \u001B[39mall\u001B[39m([(x\u001B[39m.\u001B[39;49mis_cuda \u001B[39mor\u001B[39;00m \u001B[39m'\u001B[39m\u001B[39mcpu\u001B[39m\u001B[39m'\u001B[39m \u001B[39min\u001B[39;00m \u001B[39mstr\u001B[39m(x\u001B[39m.\u001B[39mdevice)) \u001B[39mfor\u001B[39;00m x \u001B[39min\u001B[39;00m tensor_args]):\n\u001B[1;32m   1108\u001B[0m     why_not_fast_path \u001B[39m=\u001B[39m \u001B[39m\"\u001B[39m\u001B[39msome Tensor argument is neither CUDA nor CPU\u001B[39m\u001B[39m\"\u001B[39m\n\u001B[1;32m   1109\u001B[0m \u001B[39melif\u001B[39;00m torch\u001B[39m.\u001B[39mis_grad_enabled() \u001B[39mand\u001B[39;00m \u001B[39many\u001B[39m([x\u001B[39m.\u001B[39mrequires_grad \u001B[39mfor\u001B[39;00m x \u001B[39min\u001B[39;00m tensor_args]):\n",
      "\u001B[0;31mAttributeError\u001B[0m: 'NoneType' object has no attribute 'is_cuda'"
     ]
    }
   ],
   "source": [
    "best_combined_score = 0  # Best weighted model score.\n",
    "with mlflow.start_run() as run:\n",
    "    mlflow.log_params(train_options['chart_metric'])\n",
    "    # -- Training Loop -- #\n",
    "    for epoch in tqdm(iterable=range(train_options['epochs']), position=0):\n",
    "        gc.collect()  # Collect garbage to free memory.\n",
    "        loss_sum = torch.tensor([0.])  # To sum the batch losses during the epoch.\n",
    "        net.train()  # Set network to evaluation mode.\n",
    "\n",
    "        # Loops though batches in queue.\n",
    "        for i, (batch_x, batch_y) in enumerate(tqdm(iterable=dataloader, total=train_options['epoch_len'], colour='red', position=0)):\n",
    "            torch.cuda.empty_cache()  # Empties the GPU cache freeing up memory.\n",
    "            loss_batch = 0  # Reset from previous batch.\n",
    "\n",
    "            # - Transfer to device.\n",
    "            batch_x = batch_x.to(device, non_blocking=True)\n",
    "\n",
    "            # - Mixed precision training. (Saving memory)\n",
    "            with torch.cuda.amp.autocast():\n",
    "                # - Forward pass.\n",
    "                output = net(batch_x)\n",
    "\n",
    "                # - Calculate loss.\n",
    "                for chart in train_options['charts']:\n",
    "                    loss_batch += loss_functions[chart](input=output[chart], target=batch_y[chart].to(device))\n",
    "                    mlflow.log_metric(key=\"chart_loss\", value=loss_batch)\n",
    "\n",
    "            # - Reset gradients from previous pass.\n",
    "            optimizer.zero_grad()\n",
    "\n",
    "            # - Backward pass.\n",
    "            loss_batch.backward()\n",
    "\n",
    "            # - Optimizer step\n",
    "            optimizer.step()\n",
    "\n",
    "            # - Add batch loss.\n",
    "            loss_sum += loss_batch.detach().item()\n",
    "\n",
    "            # - Average loss for displaying\n",
    "            loss_epoch = torch.true_divide(loss_sum, i + 1).detach().item()\n",
    "            mlflow.log_metric(key=\"mean_loss\", value=loss_epoch)\n",
    "            del output, batch_x, batch_y # Free memory.\n",
    "        del loss_sum\n",
    "\n",
    "        # -- Validation Loop -- #\n",
    "        loss_batch = loss_batch.detach().item()  # For printing after the validation loop.\n",
    "\n",
    "        # - Stores the output and the reference pixels to calculate the scores after inference on all the scenes.\n",
    "        outputs_flat = {chart: np.array([]) for chart in train_options['charts']}\n",
    "        inf_ys_flat = {chart: np.array([]) for chart in train_options['charts']}\n",
    "\n",
    "        net.eval()  # Set network to evaluation mode.\n",
    "        # - Loops though scenes in queue.\n",
    "        for inf_x, inf_y, masks, name in tqdm(iterable=dataloader_val, total=len(train_options['validate_list']), colour='green', position=0):\n",
    "            torch.cuda.empty_cache()\n",
    "\n",
    "            # - Ensures that no gradients are calculated, which otherwise take up a lot of space on the GPU.\n",
    "            with torch.no_grad(), torch.cuda.amp.autocast():\n",
    "                inf_x = inf_x.to(device, non_blocking=True)\n",
    "                output = net(inf_x)\n",
    "\n",
    "            # - Final output layer, and storing of non masked pixels.\n",
    "            for chart in train_options['charts']:\n",
    "                output[chart] = torch.argmax(output[chart], dim=1).squeeze().cpu().numpy()\n",
    "                outputs_flat[chart] = np.append(outputs_flat[chart], output[chart][~masks[chart]])\n",
    "                inf_ys_flat[chart] = np.append(inf_ys_flat[chart], inf_y[chart][~masks[chart]].numpy())\n",
    "\n",
    "            del inf_x, inf_y, masks, output  # Free memory.\n",
    "\n",
    "        # - Compute the relevant scores.\n",
    "        combined_score, scores = compute_metrics(true=inf_ys_flat, pred=outputs_flat, charts=train_options['charts'],\n",
    "                                                 metrics=train_options['chart_metric'])\n",
    "\n",
    "        print(\"\")\n",
    "        print(f\"Final batch loss: {loss_batch:.3f}\")\n",
    "        print(f\"Epoch {epoch} score:\")\n",
    "        for chart in train_options['charts']:\n",
    "            print(f\"{chart} {train_options['chart_metric'][chart]['func'].__name__}: {scores[chart]}%\")\n",
    "        print(f\"Combined score: {combined_score}%\")\n",
    "\n",
    "        mlflow.log_metric(key=\"final_batch_loss\", value=loss_batch)\n",
    "        mlflow.log_metric(key=\"combined_score\", value=combined_score)\n",
    "\n",
    "\n",
    "        # If the scores is better than the previous epoch, then save the model and rename the image to best_validation.\n",
    "        if combined_score > best_combined_score:\n",
    "            best_combined_score = combined_score\n",
    "            torch.save(obj={'model_state_dict': net.state_dict(),\n",
    "                            'optimizer_state_dict': optimizer.state_dict(),\n",
    "                            'epoch': epoch},\n",
    "                            f='best_model')\n",
    "\n",
    "        del inf_ys_flat, outputs_flat\n",
    "\n"
   ]
  },
  {
   "cell_type": "code",
   "execution_count": null,
   "metadata": {
    "collapsed": true
   },
   "outputs": [],
   "source": []
  }
 ],
 "metadata": {
  "kernelspec": {
   "display_name": "venv",
   "language": "python",
   "name": "python3"
  },
  "language_info": {
   "codemirror_mode": {
    "name": "ipython",
    "version": 3
   },
   "file_extension": ".py",
   "mimetype": "text/x-python",
   "name": "python",
   "nbconvert_exporter": "python",
   "pygments_lexer": "ipython3",
   "version": "3.8.10"
  },
  "vscode": {
   "interpreter": {
    "hash": "da70bf40f867cfc5a780820d75b360c23ac5bcb91229792339e9c669da5c2bd0"
   }
  }
 },
 "nbformat": 4,
 "nbformat_minor": 0
}